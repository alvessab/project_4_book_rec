{
 "cells": [
  {
   "cell_type": "code",
   "execution_count": null,
   "id": "4d02089b",
   "metadata": {},
   "outputs": [],
   "source": [
    "import pandas as pd\n",
    "import numpy as np\n",
    "\n",
    "#countvectorizer model\n",
    "import nltk\n",
    "from rake_nltk import Rake\n",
    "from sklearn.metrics.pairwise import cosine_similarity\n",
    "from sklearn.feature_extraction.text import CountVectorizer\n",
    "\n",
    "#tf-idf model\n",
    "from sklearn.feature_extraction.text import TfidfVectorizer\n",
    "from sklearn.metrics.pairwise import linear_kernel\n",
    "\n"
   ]
  },
  {
   "cell_type": "code",
   "execution_count": null,
   "id": "3283c211",
   "metadata": {},
   "outputs": [],
   "source": [
    "df = pd.read_csv(\"../data/goodreads_final_bagowords.csv\")\n",
    "df.head()"
   ]
  },
  {
   "cell_type": "code",
   "execution_count": null,
   "id": "f713c61e",
   "metadata": {},
   "outputs": [],
   "source": []
  },
  {
   "cell_type": "markdown",
   "id": "3713db80",
   "metadata": {},
   "source": [
    "## EDA"
   ]
  },
  {
   "cell_type": "code",
   "execution_count": null,
   "id": "10a49307",
   "metadata": {},
   "outputs": [],
   "source": [
    "df.info()"
   ]
  },
  {
   "cell_type": "code",
   "execution_count": null,
   "id": "2742ede6",
   "metadata": {},
   "outputs": [],
   "source": [
    "df[\"bookTitle\"].nunique()"
   ]
  },
  {
   "cell_type": "code",
   "execution_count": null,
   "id": "7effbf0a",
   "metadata": {
    "scrolled": true
   },
   "outputs": [],
   "source": [
    "df[\"Author\"].nunique()"
   ]
  },
  {
   "cell_type": "code",
   "execution_count": null,
   "id": "61acc51f",
   "metadata": {},
   "outputs": [],
   "source": [
    "df[\"Genre\"].nunique()"
   ]
  },
  {
   "cell_type": "markdown",
   "id": "44ad1d14",
   "metadata": {},
   "source": [
    "## Count Vectorizer"
   ]
  },
  {
   "cell_type": "code",
   "execution_count": null,
   "id": "3a8560fc",
   "metadata": {},
   "outputs": [],
   "source": [
    "#CountVectorizer model\n",
    "count = CountVectorizer()\n",
    "count_matrix = count.fit_transform(df['bag_of_words'])\n",
    "\n",
    "cosine_sim = cosine_similarity(count_matrix, count_matrix)\n",
    "print(cosine_sim)\n",
    "\n",
    "indices = pd.Series(df['bookTitle'])"
   ]
  },
  {
   "cell_type": "code",
   "execution_count": null,
   "id": "3c2b89c3",
   "metadata": {},
   "outputs": [],
   "source": [
    "test = count_matrix.toarray()\n",
    "test\n"
   ]
  },
  {
   "cell_type": "code",
   "execution_count": null,
   "id": "756bd784",
   "metadata": {},
   "outputs": [],
   "source": [
    "len(test[0])"
   ]
  },
  {
   "cell_type": "code",
   "execution_count": null,
   "id": "4a218bab",
   "metadata": {},
   "outputs": [],
   "source": [
    "sum(test[0])"
   ]
  },
  {
   "cell_type": "code",
   "execution_count": null,
   "id": "e4924008",
   "metadata": {},
   "outputs": [],
   "source": []
  },
  {
   "cell_type": "code",
   "execution_count": null,
   "id": "dc813ab5",
   "metadata": {},
   "outputs": [],
   "source": [
    "def recommend(bookTitle, cosine_sim = cosine_sim):\n",
    "    recommended_book = []\n",
    "    idx = indices[indices == bookTitle].index[0]\n",
    "    score_series = pd.Series(cosine_sim[idx]).sort_values(ascending = False)\n",
    "    top_10_indices = list(score_series.iloc[1:11].index)\n",
    "    \n",
    "    for i in top_10_indices:\n",
    "        recommended_book.append(list(df['bookTitle'])[i])\n",
    "        \n",
    "    return recommended_book"
   ]
  },
  {
   "cell_type": "code",
   "execution_count": null,
   "id": "2c57ac36",
   "metadata": {},
   "outputs": [],
   "source": [
    "recommend('To Kill a Mockingbird')"
   ]
  },
  {
   "cell_type": "markdown",
   "id": "e74c925c",
   "metadata": {},
   "source": [
    "## TF- IDF"
   ]
  },
  {
   "cell_type": "code",
   "execution_count": 28,
   "id": "234f16b0",
   "metadata": {},
   "outputs": [
    {
     "data": {
      "text/html": [
       "<div>\n",
       "<style scoped>\n",
       "    .dataframe tbody tr th:only-of-type {\n",
       "        vertical-align: middle;\n",
       "    }\n",
       "\n",
       "    .dataframe tbody tr th {\n",
       "        vertical-align: top;\n",
       "    }\n",
       "\n",
       "    .dataframe thead th {\n",
       "        text-align: right;\n",
       "    }\n",
       "</style>\n",
       "<table border=\"1\" class=\"dataframe\">\n",
       "  <thead>\n",
       "    <tr style=\"text-align: right;\">\n",
       "      <th></th>\n",
       "      <th>url</th>\n",
       "      <th>bookTitle</th>\n",
       "      <th>bookImage</th>\n",
       "      <th>bookDesc</th>\n",
       "      <th>bookRating</th>\n",
       "      <th>ratingCount</th>\n",
       "      <th>reviewCount</th>\n",
       "      <th>Genre</th>\n",
       "      <th>pageCount</th>\n",
       "      <th>Author</th>\n",
       "      <th>lang</th>\n",
       "      <th>title_key_words</th>\n",
       "      <th>clean_keywords</th>\n",
       "      <th>sentiment_polarity</th>\n",
       "      <th>sentiment_subjectivity</th>\n",
       "      <th>genre_bag</th>\n",
       "      <th>bag_of_words</th>\n",
       "    </tr>\n",
       "  </thead>\n",
       "  <tbody>\n",
       "    <tr>\n",
       "      <th>0</th>\n",
       "      <td>https://www.goodreads.com/book/show/2767052-th...</td>\n",
       "      <td>The Hunger Games</td>\n",
       "      <td>https://i.gr-assets.com/images/S/compressed.ph...</td>\n",
       "      <td>Could you survive on your own in the wild, wit...</td>\n",
       "      <td>4.32</td>\n",
       "      <td>6717635</td>\n",
       "      <td>176054</td>\n",
       "      <td>Young Adult</td>\n",
       "      <td>374</td>\n",
       "      <td>Suzanne Collins</td>\n",
       "      <td>en</td>\n",
       "      <td>['hunger', 'games']</td>\n",
       "      <td>['could', 'survive', 'wild', 'every', 'one', '...</td>\n",
       "      <td>0.101623</td>\n",
       "      <td>0.484921</td>\n",
       "      <td>['youngadult']</td>\n",
       "      <td>youngadult hunger games could survive wild eve...</td>\n",
       "    </tr>\n",
       "    <tr>\n",
       "      <th>1</th>\n",
       "      <td>https://www.goodreads.com/book/show/2.Harry_Po...</td>\n",
       "      <td>Harry Potter and the Order of the Phoenix</td>\n",
       "      <td>https://i.gr-assets.com/images/S/compressed.ph...</td>\n",
       "      <td>There is a door at the end of a silent corrido...</td>\n",
       "      <td>4.50</td>\n",
       "      <td>2668409</td>\n",
       "      <td>45724</td>\n",
       "      <td>Fantasy</td>\n",
       "      <td>870</td>\n",
       "      <td>J.K. Rowling</td>\n",
       "      <td>en</td>\n",
       "      <td>['harry', 'potter', 'order', 'phoenix']</td>\n",
       "      <td>['door', 'end', 'silent', 'corridor', 'hauntin...</td>\n",
       "      <td>-0.087273</td>\n",
       "      <td>0.420909</td>\n",
       "      <td>['fantasy']</td>\n",
       "      <td>fantasy harry potter order phoenix door end si...</td>\n",
       "    </tr>\n",
       "    <tr>\n",
       "      <th>2</th>\n",
       "      <td>https://www.goodreads.com/book/show/2657.To_Ki...</td>\n",
       "      <td>To Kill a Mockingbird</td>\n",
       "      <td>https://i.gr-assets.com/images/S/compressed.ph...</td>\n",
       "      <td>The unforgettable novel of a childhood in a sl...</td>\n",
       "      <td>4.28</td>\n",
       "      <td>4772918</td>\n",
       "      <td>95595</td>\n",
       "      <td>Classics</td>\n",
       "      <td>324</td>\n",
       "      <td>Harper Lee</td>\n",
       "      <td>en</td>\n",
       "      <td>['kill', 'mockingbird']</td>\n",
       "      <td>['unforgettable', 'novel', 'childhood', 'sleep...</td>\n",
       "      <td>0.165686</td>\n",
       "      <td>0.368067</td>\n",
       "      <td>['classics']</td>\n",
       "      <td>classics kill mockingbird unforgettable novel ...</td>\n",
       "    </tr>\n",
       "    <tr>\n",
       "      <th>3</th>\n",
       "      <td>https://www.goodreads.com/book/show/1885.Pride...</td>\n",
       "      <td>Pride and Prejudice</td>\n",
       "      <td>https://i.gr-assets.com/images/S/compressed.ph...</td>\n",
       "      <td>Alternate cover edition of ISBN 9780679783268S...</td>\n",
       "      <td>4.27</td>\n",
       "      <td>3206070</td>\n",
       "      <td>74020</td>\n",
       "      <td>Classics</td>\n",
       "      <td>279</td>\n",
       "      <td>Jane Austen</td>\n",
       "      <td>en</td>\n",
       "      <td>['pride', 'prejudice']</td>\n",
       "      <td>['alternate', 'cover', 'edition', 'isbn', 'sin...</td>\n",
       "      <td>0.475556</td>\n",
       "      <td>0.680000</td>\n",
       "      <td>['classics']</td>\n",
       "      <td>classics pride prejudice alternate cover editi...</td>\n",
       "    </tr>\n",
       "    <tr>\n",
       "      <th>4</th>\n",
       "      <td>https://www.goodreads.com/book/show/41865.Twil...</td>\n",
       "      <td>Twilight</td>\n",
       "      <td>https://i.gr-assets.com/images/S/compressed.ph...</td>\n",
       "      <td>About three things I was absolutely positive.F...</td>\n",
       "      <td>3.61</td>\n",
       "      <td>5231000</td>\n",
       "      <td>107619</td>\n",
       "      <td>Young Adult</td>\n",
       "      <td>501</td>\n",
       "      <td>Stephenie Meyer</td>\n",
       "      <td>en</td>\n",
       "      <td>['twilight']</td>\n",
       "      <td>['three', 'things', 'absolutely', 'positive', ...</td>\n",
       "      <td>0.240000</td>\n",
       "      <td>0.620000</td>\n",
       "      <td>['youngadult']</td>\n",
       "      <td>youngadult twilight three things absolutely po...</td>\n",
       "    </tr>\n",
       "  </tbody>\n",
       "</table>\n",
       "</div>"
      ],
      "text/plain": [
       "                                                 url  \\\n",
       "0  https://www.goodreads.com/book/show/2767052-th...   \n",
       "1  https://www.goodreads.com/book/show/2.Harry_Po...   \n",
       "2  https://www.goodreads.com/book/show/2657.To_Ki...   \n",
       "3  https://www.goodreads.com/book/show/1885.Pride...   \n",
       "4  https://www.goodreads.com/book/show/41865.Twil...   \n",
       "\n",
       "                                   bookTitle  \\\n",
       "0                           The Hunger Games   \n",
       "1  Harry Potter and the Order of the Phoenix   \n",
       "2                      To Kill a Mockingbird   \n",
       "3                        Pride and Prejudice   \n",
       "4                                   Twilight   \n",
       "\n",
       "                                           bookImage  \\\n",
       "0  https://i.gr-assets.com/images/S/compressed.ph...   \n",
       "1  https://i.gr-assets.com/images/S/compressed.ph...   \n",
       "2  https://i.gr-assets.com/images/S/compressed.ph...   \n",
       "3  https://i.gr-assets.com/images/S/compressed.ph...   \n",
       "4  https://i.gr-assets.com/images/S/compressed.ph...   \n",
       "\n",
       "                                            bookDesc  bookRating  ratingCount  \\\n",
       "0  Could you survive on your own in the wild, wit...        4.32      6717635   \n",
       "1  There is a door at the end of a silent corrido...        4.50      2668409   \n",
       "2  The unforgettable novel of a childhood in a sl...        4.28      4772918   \n",
       "3  Alternate cover edition of ISBN 9780679783268S...        4.27      3206070   \n",
       "4  About three things I was absolutely positive.F...        3.61      5231000   \n",
       "\n",
       "   reviewCount        Genre  pageCount           Author lang  \\\n",
       "0       176054  Young Adult        374  Suzanne Collins   en   \n",
       "1        45724      Fantasy        870     J.K. Rowling   en   \n",
       "2        95595     Classics        324       Harper Lee   en   \n",
       "3        74020     Classics        279      Jane Austen   en   \n",
       "4       107619  Young Adult        501  Stephenie Meyer   en   \n",
       "\n",
       "                           title_key_words  \\\n",
       "0                      ['hunger', 'games']   \n",
       "1  ['harry', 'potter', 'order', 'phoenix']   \n",
       "2                  ['kill', 'mockingbird']   \n",
       "3                   ['pride', 'prejudice']   \n",
       "4                             ['twilight']   \n",
       "\n",
       "                                      clean_keywords  sentiment_polarity  \\\n",
       "0  ['could', 'survive', 'wild', 'every', 'one', '...            0.101623   \n",
       "1  ['door', 'end', 'silent', 'corridor', 'hauntin...           -0.087273   \n",
       "2  ['unforgettable', 'novel', 'childhood', 'sleep...            0.165686   \n",
       "3  ['alternate', 'cover', 'edition', 'isbn', 'sin...            0.475556   \n",
       "4  ['three', 'things', 'absolutely', 'positive', ...            0.240000   \n",
       "\n",
       "   sentiment_subjectivity       genre_bag  \\\n",
       "0                0.484921  ['youngadult']   \n",
       "1                0.420909     ['fantasy']   \n",
       "2                0.368067    ['classics']   \n",
       "3                0.680000    ['classics']   \n",
       "4                0.620000  ['youngadult']   \n",
       "\n",
       "                                        bag_of_words  \n",
       "0  youngadult hunger games could survive wild eve...  \n",
       "1  fantasy harry potter order phoenix door end si...  \n",
       "2  classics kill mockingbird unforgettable novel ...  \n",
       "3  classics pride prejudice alternate cover editi...  \n",
       "4  youngadult twilight three things absolutely po...  "
      ]
     },
     "execution_count": 28,
     "metadata": {},
     "output_type": "execute_result"
    }
   ],
   "source": [
    "df.head()"
   ]
  },
  {
   "cell_type": "code",
   "execution_count": 29,
   "id": "eb2a86dd",
   "metadata": {},
   "outputs": [],
   "source": [
    "#imports\n",
    "from sklearn.feature_extraction.text import TfidfVectorizer\n",
    "from sklearn.metrics.pairwise import cosine_similarity\n",
    "from sklearn.metrics.pairwise import linear_kernel"
   ]
  },
  {
   "cell_type": "code",
   "execution_count": null,
   "id": "794b1f08",
   "metadata": {},
   "outputs": [],
   "source": [
    "#filter dataframe\n",
    "rating_min = 3.0\n",
    "\n",
    "df_fil = df.loc[df['bookRating'] >= rating_min]\n",
    "df_fil.info()"
   ]
  },
  {
   "cell_type": "code",
   "execution_count": null,
   "id": "89fec9b6",
   "metadata": {},
   "outputs": [],
   "source": [
    "#https://practicaldatascience.co.uk/data-science/how-to-create-content-recommendations-using-tf-idf\n",
    "#bag of words is already made, but this will also down-weight common words that appear across documents\n",
    "tfidf = TfidfVectorizer(stop_words='english',smooth_idf=True)\n",
    "\n",
    "# numbers to calculate similarities\n",
    "tfidf_matrix = tfidf.fit_transform(df_fil['bag_of_words']).todense()\n",
    "\n",
    "#calculate cosine matrix\n",
    "cosine_similarities = linear_kernel(tfidf_matrix, tfidf_matrix)\n",
    "print(cosine_similarities)\n",
    "\n",
    "indices = pd.Series(df_fil['bookTitle'])"
   ]
  },
  {
   "cell_type": "code",
   "execution_count": null,
   "id": "786b828b",
   "metadata": {},
   "outputs": [],
   "source": [
    "#get recommendations based on tf-idf and cosine_similarities\n",
    "\n",
    "def recommend_tf(bookTitle, cosine_similarities = cosine_similarities):\n",
    "    \n",
    "    recommended_book = []\n",
    "    recommended_book_url = []\n",
    "    recommended_book_image= []\n",
    "    recommended_book_author = []\n",
    "    recommended_book_rating =[]\n",
    "    recommended_book_descrip =[]\n",
    "    recommended_book_genre =[]\n",
    "    \n",
    "    idx = indices[indices == bookTitle].index[0]\n",
    "    \n",
    "    score_series = pd.Series(cosine_similarities[idx]).sort_values(ascending = False)\n",
    "    \n",
    "    top_10_indices = list(score_series.iloc[1:11].index)\n",
    "    \n",
    "    for i in top_10_indices:\n",
    "        recommended_book.append(list(df_fil['bookTitle'])[i])\n",
    "        recommended_book_url.append(list(df_fil['url'])[i])\n",
    "        recommended_book_image.append(list(df_fil['bookImage'])[i])\n",
    "        recommended_book_author.append(list(df_fil['Author'])[i])\n",
    "        recommended_book_rating.append(list(df_fil['bookRating'])[i])\n",
    "        recommended_book_descrip.append(list(df_fil['bookDesc'])[i])\n",
    "        recommended_book_genre.append(list(df_fil['Genre'])[i])\n",
    "        recommended_book_score.append(score_series[i])\n",
    "\n",
    "    data = {'Title': recommended_book,\n",
    "           'Author': recommended_book_author,\n",
    "            'Genre': recommended_book_genre,\n",
    "            'Description' : recommended_book_descrip,\n",
    "            'Rating':recommended_book_rating,\n",
    "            'URL': recommended_book_url,\n",
    "            'Image': recommended_book_image,\n",
    "            'Score': recommended_book_score\n",
    "           }\n",
    "    rec_df = pd.DataFrame(data)\n",
    "    \n",
    "    return rec_df"
   ]
  },
  {
   "cell_type": "code",
   "execution_count": null,
   "id": "b00d0e67",
   "metadata": {},
   "outputs": [],
   "source": [
    "recommend_tf('Twilight')"
   ]
  },
  {
   "cell_type": "code",
   "execution_count": null,
   "id": "3671080f",
   "metadata": {},
   "outputs": [],
   "source": []
  },
  {
   "cell_type": "markdown",
   "id": "f6c69eef",
   "metadata": {},
   "source": [
    "## Process Model for flask app"
   ]
  },
  {
   "cell_type": "code",
   "execution_count": 4,
   "id": "b2209ff9",
   "metadata": {},
   "outputs": [],
   "source": [
    "import pandas as pd\n",
    "import numpy as np"
   ]
  },
  {
   "cell_type": "code",
   "execution_count": 30,
   "id": "e2b5c244",
   "metadata": {},
   "outputs": [
    {
     "name": "stderr",
     "output_type": "stream",
     "text": [
      "/opt/anaconda3/lib/python3.9/site-packages/sklearn/utils/validation.py:727: FutureWarning: np.matrix usage is deprecated in 1.0 and will raise a TypeError in 1.2. Please convert to a numpy array with np.asarray. For more information see: https://numpy.org/doc/stable/reference/generated/numpy.matrix.html\n",
      "  warnings.warn(\n"
     ]
    }
   ],
   "source": [
    "#code that stays consistent\n",
    "df = pd.read_csv(\"../data/goodreads_final_bagowords.csv\")\n",
    "\n",
    "tfidf = TfidfVectorizer(stop_words='english',smooth_idf=True)\n",
    "tfidf_matrix = tfidf.fit_transform(df['bag_of_words']).todense()\n",
    "cosine_similarities = linear_kernel(tfidf_matrix, tfidf_matrix)\n",
    "\n",
    "#make into dataframe\n",
    "#df_data = pd.DataFrame(cosine_similarities).reset_index()\n",
    "\n",
    "#string columns names required for parquet file\n",
    "#df_data.columns = df_data.columns.astype(str)\n",
    "#df_data.info()"
   ]
  },
  {
   "cell_type": "code",
   "execution_count": 31,
   "id": "63058a48",
   "metadata": {},
   "outputs": [
    {
     "data": {
      "text/plain": [
       "numpy.ndarray"
      ]
     },
     "execution_count": 31,
     "metadata": {},
     "output_type": "execute_result"
    }
   ],
   "source": [
    "#cosine_similarities is a numpy.ndarray\n",
    "type(cosine_similarities)"
   ]
  },
  {
   "cell_type": "code",
   "execution_count": 32,
   "id": "c2d9618b",
   "metadata": {},
   "outputs": [],
   "source": [
    "np.save(\"../data/goodreads_cos_data.npy\", cosine_similarities)"
   ]
  },
  {
   "cell_type": "code",
   "execution_count": 33,
   "id": "3bbcc5a8",
   "metadata": {},
   "outputs": [],
   "source": [
    "arr1 = np.load(\"../data/goodreads_cos_data.npy\")"
   ]
  },
  {
   "cell_type": "code",
   "execution_count": 34,
   "id": "8b74fe69",
   "metadata": {},
   "outputs": [
    {
     "name": "stdout",
     "output_type": "stream",
     "text": [
      "[[1.         0.01135253 0.         ... 0.         0.         0.        ]\n",
      " [0.01135253 1.         0.         ... 0.013395   0.01680991 0.        ]\n",
      " [0.         0.         1.         ... 0.0059668  0.         0.        ]\n",
      " [0.         0.         0.01156535 ... 0.02099148 0.         0.00368417]\n",
      " [0.03437746 0.01256453 0.01654681 ... 0.0131886  0.00470204 0.        ]]\n"
     ]
    }
   ],
   "source": [
    "print(arr1[0:5])"
   ]
  },
  {
   "cell_type": "code",
   "execution_count": 9,
   "id": "7207d801",
   "metadata": {},
   "outputs": [
    {
     "ename": "FileNotFoundError",
     "evalue": "[Errno 2] No such file or directory: 'https://book-rec-nlp.s3.amazonaws.com/goodreads_cos_data.npy'",
     "output_type": "error",
     "traceback": [
      "\u001b[0;31m---------------------------------------------------------------------------\u001b[0m",
      "\u001b[0;31mFileNotFoundError\u001b[0m                         Traceback (most recent call last)",
      "\u001b[0;32m/var/folders/93/69nrl93d0k36xslv9kn84gcc0000gn/T/ipykernel_93108/2741926748.py\u001b[0m in \u001b[0;36m<module>\u001b[0;34m\u001b[0m\n\u001b[1;32m      1\u001b[0m \u001b[0mlink\u001b[0m\u001b[0;34m=\u001b[0m \u001b[0;34m'https://book-rec-nlp.s3.amazonaws.com/goodreads_cos_data.npy'\u001b[0m\u001b[0;34m\u001b[0m\u001b[0;34m\u001b[0m\u001b[0m\n\u001b[0;32m----> 2\u001b[0;31m \u001b[0marr1\u001b[0m \u001b[0;34m=\u001b[0m \u001b[0mnp\u001b[0m\u001b[0;34m.\u001b[0m\u001b[0mload\u001b[0m\u001b[0;34m(\u001b[0m\u001b[0mlink\u001b[0m\u001b[0;34m)\u001b[0m\u001b[0;34m\u001b[0m\u001b[0;34m\u001b[0m\u001b[0m\n\u001b[0m\u001b[1;32m      3\u001b[0m \u001b[0mprint\u001b[0m\u001b[0;34m(\u001b[0m\u001b[0marr1\u001b[0m\u001b[0;34m[\u001b[0m\u001b[0;36m0\u001b[0m\u001b[0;34m:\u001b[0m\u001b[0;36m5\u001b[0m\u001b[0;34m]\u001b[0m\u001b[0;34m)\u001b[0m\u001b[0;34m\u001b[0m\u001b[0;34m\u001b[0m\u001b[0m\n",
      "\u001b[0;32m/opt/anaconda3/lib/python3.9/site-packages/numpy/lib/npyio.py\u001b[0m in \u001b[0;36mload\u001b[0;34m(file, mmap_mode, allow_pickle, fix_imports, encoding)\u001b[0m\n\u001b[1;32m    415\u001b[0m             \u001b[0mown_fid\u001b[0m \u001b[0;34m=\u001b[0m \u001b[0;32mFalse\u001b[0m\u001b[0;34m\u001b[0m\u001b[0;34m\u001b[0m\u001b[0m\n\u001b[1;32m    416\u001b[0m         \u001b[0;32melse\u001b[0m\u001b[0;34m:\u001b[0m\u001b[0;34m\u001b[0m\u001b[0;34m\u001b[0m\u001b[0m\n\u001b[0;32m--> 417\u001b[0;31m             \u001b[0mfid\u001b[0m \u001b[0;34m=\u001b[0m \u001b[0mstack\u001b[0m\u001b[0;34m.\u001b[0m\u001b[0menter_context\u001b[0m\u001b[0;34m(\u001b[0m\u001b[0mopen\u001b[0m\u001b[0;34m(\u001b[0m\u001b[0mos_fspath\u001b[0m\u001b[0;34m(\u001b[0m\u001b[0mfile\u001b[0m\u001b[0;34m)\u001b[0m\u001b[0;34m,\u001b[0m \u001b[0;34m\"rb\"\u001b[0m\u001b[0;34m)\u001b[0m\u001b[0;34m)\u001b[0m\u001b[0;34m\u001b[0m\u001b[0;34m\u001b[0m\u001b[0m\n\u001b[0m\u001b[1;32m    418\u001b[0m             \u001b[0mown_fid\u001b[0m \u001b[0;34m=\u001b[0m \u001b[0;32mTrue\u001b[0m\u001b[0;34m\u001b[0m\u001b[0;34m\u001b[0m\u001b[0m\n\u001b[1;32m    419\u001b[0m \u001b[0;34m\u001b[0m\u001b[0m\n",
      "\u001b[0;31mFileNotFoundError\u001b[0m: [Errno 2] No such file or directory: 'https://book-rec-nlp.s3.amazonaws.com/goodreads_cos_data.npy'"
     ]
    }
   ],
   "source": [
    "\n",
    "link= 'https://book-rec-nlp.s3.amazonaws.com/goodreads_cos_data.npy'\n",
    "arr1 = np.load(link)\n",
    "print(arr1[0:5])"
   ]
  },
  {
   "cell_type": "code",
   "execution_count": 10,
   "id": "d99f9fea",
   "metadata": {},
   "outputs": [],
   "source": [
    "import s3fs"
   ]
  },
  {
   "cell_type": "code",
   "execution_count": 13,
   "id": "ba1d7b80",
   "metadata": {},
   "outputs": [],
   "source": [
    "s3 = s3fs.S3FileSystem(anon=True)"
   ]
  },
  {
   "cell_type": "code",
   "execution_count": 14,
   "id": "bab3c7ac",
   "metadata": {},
   "outputs": [],
   "source": [
    "arr1= np.load(s3.open(\"book-rec-nlp/goodreads_cos_data.npy\"))"
   ]
  },
  {
   "cell_type": "code",
   "execution_count": 15,
   "id": "2c721267",
   "metadata": {},
   "outputs": [
    {
     "name": "stdout",
     "output_type": "stream",
     "text": [
      "[[1.         0.00402374 0.0138527  ... 0.00703557 0.00161726 0.01776498]\n",
      " [0.00402374 1.         0.         ... 0.03376514 0.01499929 0.01502661]\n",
      " [0.0138527  0.         1.         ... 0.         0.01281669 0.01778946]\n",
      " [0.00876162 0.         0.03632484 ... 0.         0.00672774 0.02887838]\n",
      " [0.02501998 0.0097621  0.02640575 ... 0.         0.00894217 0.01068593]]\n"
     ]
    }
   ],
   "source": [
    "print(arr1[0:5])"
   ]
  },
  {
   "cell_type": "code",
   "execution_count": 24,
   "id": "5e028641",
   "metadata": {},
   "outputs": [],
   "source": [
    "import boto3\n",
    "import io\n",
    "from botocore import UNSIGNED\n",
    "from botocore.client import Config"
   ]
  },
  {
   "cell_type": "code",
   "execution_count": 25,
   "id": "38867fc5",
   "metadata": {},
   "outputs": [],
   "source": [
    "s3client = boto3.client('s3', region_name='us-east-1', config=Config(signature_version=UNSIGNED))\n"
   ]
  },
  {
   "cell_type": "code",
   "execution_count": 26,
   "id": "83540324",
   "metadata": {},
   "outputs": [],
   "source": [
    "\n",
    "with io.BytesIO(s3client.get_object(Bucket=\"book-rec-nlp\", Key=\"goodreads_cos_data.npy\")[\"Body\"].read()) as f:\n",
    "    f.seek(0)  # rewind the file\n",
    "    arr1 = np.load(f)"
   ]
  },
  {
   "cell_type": "code",
   "execution_count": 27,
   "id": "8dac48f5",
   "metadata": {},
   "outputs": [
    {
     "name": "stdout",
     "output_type": "stream",
     "text": [
      "[[1.         0.00402374 0.0138527  ... 0.00703557 0.00161726 0.01776498]\n",
      " [0.00402374 1.         0.         ... 0.03376514 0.01499929 0.01502661]\n",
      " [0.0138527  0.         1.         ... 0.         0.01281669 0.01778946]\n",
      " [0.00876162 0.         0.03632484 ... 0.         0.00672774 0.02887838]\n",
      " [0.02501998 0.0097621  0.02640575 ... 0.         0.00894217 0.01068593]]\n"
     ]
    }
   ],
   "source": [
    "print(arr1[0:5])"
   ]
  },
  {
   "cell_type": "code",
   "execution_count": null,
   "id": "9914dd07",
   "metadata": {},
   "outputs": [],
   "source": []
  },
  {
   "cell_type": "code",
   "execution_count": null,
   "id": "ee475887",
   "metadata": {},
   "outputs": [],
   "source": [
    "\n",
    "\n",
    "#variable\n",
    "bookTitle = 'To Kill a Mockingbird'\n",
    "\n",
    "\n",
    "#variable reliant code\n",
    "indices = pd.Series(df_par['bookTitle'])\n",
    "\n",
    "recommended_book = []\n",
    "recommended_book_url = []\n",
    "recommended_book_image= []\n",
    "recommended_book_author = []\n",
    "recommended_book_rating =[]\n",
    "recommended_book_descrip =[]\n",
    "recommended_book_genre =[]\n",
    "recommended_book_score =[]\n",
    "\n",
    "idx = indices[indices == bookTitle].index[0]\n",
    "\n",
    "score_series = pd.Series(arr1[idx]).sort_values(ascending = False)\n",
    "\n",
    "top_10_indices = list(score_series.iloc[1:11].index)\n",
    "\n",
    "for i in top_10_indices:\n",
    "    recommended_book.append(list(df_par['bookTitle'])[i])\n",
    "    recommended_book_url.append(list(df_par['url'])[i])\n",
    "    recommended_book_image.append(list(df_par['bookImage'])[i])\n",
    "    recommended_book_author.append(list(df_par['Author'])[i])\n",
    "    recommended_book_rating.append(list(df_par['bookRating'])[i])\n",
    "    recommended_book_descrip.append(list(df_par['bookDesc'])[i])\n",
    "    recommended_book_genre.append(list(df_par['Genre'])[i])\n",
    "    recommended_book_score.append(score_series[i])\n",
    "\n",
    "data = {'Title': recommended_book,\n",
    "       'Author': recommended_book_author,\n",
    "        'Genre': recommended_book_genre,\n",
    "        'Description' : recommended_book_descrip,\n",
    "        'Rating':recommended_book_rating,\n",
    "        'URL': recommended_book_url,\n",
    "        'Image': recommended_book_image,\n",
    "        'Score': recommended_book_score\n",
    "       }\n",
    "rec_df = pd.DataFrame(data)\n",
    "rec_df"
   ]
  },
  {
   "cell_type": "code",
   "execution_count": null,
   "id": "c186e336",
   "metadata": {},
   "outputs": [],
   "source": [
    "#explore variables\n",
    "idx"
   ]
  },
  {
   "cell_type": "code",
   "execution_count": null,
   "id": "48cd72e4",
   "metadata": {},
   "outputs": [],
   "source": [
    "score_series"
   ]
  },
  {
   "cell_type": "code",
   "execution_count": null,
   "id": "1b406fdd",
   "metadata": {},
   "outputs": [],
   "source": [
    "top_10_indices"
   ]
  },
  {
   "cell_type": "code",
   "execution_count": null,
   "id": "b0f8c059",
   "metadata": {},
   "outputs": [],
   "source": [
    "df_data.index"
   ]
  },
  {
   "cell_type": "markdown",
   "id": "e1fc5179",
   "metadata": {},
   "source": [
    "### Explore data output"
   ]
  },
  {
   "cell_type": "code",
   "execution_count": null,
   "id": "e56c439c",
   "metadata": {},
   "outputs": [],
   "source": [
    "data[\"Title\"][0]"
   ]
  },
  {
   "cell_type": "code",
   "execution_count": null,
   "id": "0af6de72",
   "metadata": {},
   "outputs": [],
   "source": [
    "data[\"Title\"][1]"
   ]
  },
  {
   "cell_type": "code",
   "execution_count": null,
   "id": "02d6b98b",
   "metadata": {},
   "outputs": [],
   "source": []
  }
 ],
 "metadata": {
  "kernelspec": {
   "display_name": "Python 3 (ipykernel)",
   "language": "python",
   "name": "python3"
  },
  "language_info": {
   "codemirror_mode": {
    "name": "ipython",
    "version": 3
   },
   "file_extension": ".py",
   "mimetype": "text/x-python",
   "name": "python",
   "nbconvert_exporter": "python",
   "pygments_lexer": "ipython3",
   "version": "3.9.7"
  }
 },
 "nbformat": 4,
 "nbformat_minor": 5
}
