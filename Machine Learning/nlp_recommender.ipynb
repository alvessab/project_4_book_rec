{
 "cells": [
  {
   "cell_type": "code",
   "execution_count": 30,
   "id": "4d02089b",
   "metadata": {},
   "outputs": [],
   "source": [
    "import pandas as pd\n",
    "import numpy as np\n",
    "\n",
    "#countvectorizer model\n",
    "import nltk\n",
    "from rake_nltk import Rake\n",
    "from sklearn.metrics.pairwise import cosine_similarity\n",
    "from sklearn.feature_extraction.text import CountVectorizer\n",
    "\n",
    "#tf-idf model\n",
    "from sklearn.feature_extraction.text import TfidfVectorizer\n",
    "from sklearn.metrics.pairwise import linear_kernel\n",
    "\n"
   ]
  },
  {
   "cell_type": "code",
   "execution_count": 31,
   "id": "3283c211",
   "metadata": {},
   "outputs": [
    {
     "data": {
      "text/html": [
       "<div>\n",
       "<style scoped>\n",
       "    .dataframe tbody tr th:only-of-type {\n",
       "        vertical-align: middle;\n",
       "    }\n",
       "\n",
       "    .dataframe tbody tr th {\n",
       "        vertical-align: top;\n",
       "    }\n",
       "\n",
       "    .dataframe thead th {\n",
       "        text-align: right;\n",
       "    }\n",
       "</style>\n",
       "<table border=\"1\" class=\"dataframe\">\n",
       "  <thead>\n",
       "    <tr style=\"text-align: right;\">\n",
       "      <th></th>\n",
       "      <th>url</th>\n",
       "      <th>bookTitle</th>\n",
       "      <th>bookImage</th>\n",
       "      <th>bookDesc</th>\n",
       "      <th>bookRating</th>\n",
       "      <th>ratingCount</th>\n",
       "      <th>reviewCount</th>\n",
       "      <th>Genre</th>\n",
       "      <th>pageCount</th>\n",
       "      <th>Author</th>\n",
       "      <th>lang</th>\n",
       "      <th>title_key_words</th>\n",
       "      <th>clean_keywords</th>\n",
       "      <th>sentiment_polarity</th>\n",
       "      <th>sentiment_subjectivity</th>\n",
       "      <th>genre_bag</th>\n",
       "      <th>bag_of_words</th>\n",
       "    </tr>\n",
       "  </thead>\n",
       "  <tbody>\n",
       "    <tr>\n",
       "      <th>0</th>\n",
       "      <td>https://www.goodreads.com/book/show/2767052-th...</td>\n",
       "      <td>The Hunger Games</td>\n",
       "      <td>https://i.gr-assets.com/images/S/compressed.ph...</td>\n",
       "      <td>Could you survive on your own in the wild, wit...</td>\n",
       "      <td>4.32</td>\n",
       "      <td>6717635</td>\n",
       "      <td>176054</td>\n",
       "      <td>Young Adult</td>\n",
       "      <td>374</td>\n",
       "      <td>Suzanne Collins</td>\n",
       "      <td>en</td>\n",
       "      <td>['hunger', 'games']</td>\n",
       "      <td>['could', 'survive', 'wild', 'every', 'one', '...</td>\n",
       "      <td>0.101623</td>\n",
       "      <td>0.484921</td>\n",
       "      <td>['youngadult']</td>\n",
       "      <td>youngadult hunger games could survive wild eve...</td>\n",
       "    </tr>\n",
       "    <tr>\n",
       "      <th>1</th>\n",
       "      <td>https://www.goodreads.com/book/show/2.Harry_Po...</td>\n",
       "      <td>Harry Potter and the Order of the Phoenix</td>\n",
       "      <td>https://i.gr-assets.com/images/S/compressed.ph...</td>\n",
       "      <td>There is a door at the end of a silent corrido...</td>\n",
       "      <td>4.50</td>\n",
       "      <td>2668409</td>\n",
       "      <td>45724</td>\n",
       "      <td>Fantasy</td>\n",
       "      <td>870</td>\n",
       "      <td>J.K. Rowling</td>\n",
       "      <td>en</td>\n",
       "      <td>['harry', 'potter', 'order', 'phoenix']</td>\n",
       "      <td>['door', 'end', 'silent', 'corridor', 'hauntin...</td>\n",
       "      <td>-0.087273</td>\n",
       "      <td>0.420909</td>\n",
       "      <td>['fantasy']</td>\n",
       "      <td>fantasy harry potter order phoenix door end si...</td>\n",
       "    </tr>\n",
       "    <tr>\n",
       "      <th>2</th>\n",
       "      <td>https://www.goodreads.com/book/show/2657.To_Ki...</td>\n",
       "      <td>To Kill a Mockingbird</td>\n",
       "      <td>https://i.gr-assets.com/images/S/compressed.ph...</td>\n",
       "      <td>The unforgettable novel of a childhood in a sl...</td>\n",
       "      <td>4.28</td>\n",
       "      <td>4772918</td>\n",
       "      <td>95595</td>\n",
       "      <td>Classics</td>\n",
       "      <td>324</td>\n",
       "      <td>Harper Lee</td>\n",
       "      <td>en</td>\n",
       "      <td>['kill', 'mockingbird']</td>\n",
       "      <td>['unforgettable', 'novel', 'childhood', 'sleep...</td>\n",
       "      <td>0.165686</td>\n",
       "      <td>0.368067</td>\n",
       "      <td>['classics']</td>\n",
       "      <td>classics kill mockingbird unforgettable novel ...</td>\n",
       "    </tr>\n",
       "    <tr>\n",
       "      <th>3</th>\n",
       "      <td>https://www.goodreads.com/book/show/1885.Pride...</td>\n",
       "      <td>Pride and Prejudice</td>\n",
       "      <td>https://i.gr-assets.com/images/S/compressed.ph...</td>\n",
       "      <td>Alternate cover edition of ISBN 9780679783268S...</td>\n",
       "      <td>4.27</td>\n",
       "      <td>3206070</td>\n",
       "      <td>74020</td>\n",
       "      <td>Classics</td>\n",
       "      <td>279</td>\n",
       "      <td>Jane Austen</td>\n",
       "      <td>en</td>\n",
       "      <td>['pride', 'prejudice']</td>\n",
       "      <td>['alternate', 'cover', 'edition', 'isbn', 'sin...</td>\n",
       "      <td>0.475556</td>\n",
       "      <td>0.680000</td>\n",
       "      <td>['classics']</td>\n",
       "      <td>classics pride prejudice alternate cover editi...</td>\n",
       "    </tr>\n",
       "    <tr>\n",
       "      <th>4</th>\n",
       "      <td>https://www.goodreads.com/book/show/41865.Twil...</td>\n",
       "      <td>Twilight</td>\n",
       "      <td>https://i.gr-assets.com/images/S/compressed.ph...</td>\n",
       "      <td>About three things I was absolutely positive.F...</td>\n",
       "      <td>3.61</td>\n",
       "      <td>5231000</td>\n",
       "      <td>107619</td>\n",
       "      <td>Young Adult</td>\n",
       "      <td>501</td>\n",
       "      <td>Stephenie Meyer</td>\n",
       "      <td>en</td>\n",
       "      <td>['twilight']</td>\n",
       "      <td>['three', 'things', 'absolutely', 'positive', ...</td>\n",
       "      <td>0.240000</td>\n",
       "      <td>0.620000</td>\n",
       "      <td>['youngadult']</td>\n",
       "      <td>youngadult twilight three things absolutely po...</td>\n",
       "    </tr>\n",
       "  </tbody>\n",
       "</table>\n",
       "</div>"
      ],
      "text/plain": [
       "                                                 url  \\\n",
       "0  https://www.goodreads.com/book/show/2767052-th...   \n",
       "1  https://www.goodreads.com/book/show/2.Harry_Po...   \n",
       "2  https://www.goodreads.com/book/show/2657.To_Ki...   \n",
       "3  https://www.goodreads.com/book/show/1885.Pride...   \n",
       "4  https://www.goodreads.com/book/show/41865.Twil...   \n",
       "\n",
       "                                   bookTitle  \\\n",
       "0                           The Hunger Games   \n",
       "1  Harry Potter and the Order of the Phoenix   \n",
       "2                      To Kill a Mockingbird   \n",
       "3                        Pride and Prejudice   \n",
       "4                                   Twilight   \n",
       "\n",
       "                                           bookImage  \\\n",
       "0  https://i.gr-assets.com/images/S/compressed.ph...   \n",
       "1  https://i.gr-assets.com/images/S/compressed.ph...   \n",
       "2  https://i.gr-assets.com/images/S/compressed.ph...   \n",
       "3  https://i.gr-assets.com/images/S/compressed.ph...   \n",
       "4  https://i.gr-assets.com/images/S/compressed.ph...   \n",
       "\n",
       "                                            bookDesc  bookRating  ratingCount  \\\n",
       "0  Could you survive on your own in the wild, wit...        4.32      6717635   \n",
       "1  There is a door at the end of a silent corrido...        4.50      2668409   \n",
       "2  The unforgettable novel of a childhood in a sl...        4.28      4772918   \n",
       "3  Alternate cover edition of ISBN 9780679783268S...        4.27      3206070   \n",
       "4  About three things I was absolutely positive.F...        3.61      5231000   \n",
       "\n",
       "   reviewCount        Genre  pageCount           Author lang  \\\n",
       "0       176054  Young Adult        374  Suzanne Collins   en   \n",
       "1        45724      Fantasy        870     J.K. Rowling   en   \n",
       "2        95595     Classics        324       Harper Lee   en   \n",
       "3        74020     Classics        279      Jane Austen   en   \n",
       "4       107619  Young Adult        501  Stephenie Meyer   en   \n",
       "\n",
       "                           title_key_words  \\\n",
       "0                      ['hunger', 'games']   \n",
       "1  ['harry', 'potter', 'order', 'phoenix']   \n",
       "2                  ['kill', 'mockingbird']   \n",
       "3                   ['pride', 'prejudice']   \n",
       "4                             ['twilight']   \n",
       "\n",
       "                                      clean_keywords  sentiment_polarity  \\\n",
       "0  ['could', 'survive', 'wild', 'every', 'one', '...            0.101623   \n",
       "1  ['door', 'end', 'silent', 'corridor', 'hauntin...           -0.087273   \n",
       "2  ['unforgettable', 'novel', 'childhood', 'sleep...            0.165686   \n",
       "3  ['alternate', 'cover', 'edition', 'isbn', 'sin...            0.475556   \n",
       "4  ['three', 'things', 'absolutely', 'positive', ...            0.240000   \n",
       "\n",
       "   sentiment_subjectivity       genre_bag  \\\n",
       "0                0.484921  ['youngadult']   \n",
       "1                0.420909     ['fantasy']   \n",
       "2                0.368067    ['classics']   \n",
       "3                0.680000    ['classics']   \n",
       "4                0.620000  ['youngadult']   \n",
       "\n",
       "                                        bag_of_words  \n",
       "0  youngadult hunger games could survive wild eve...  \n",
       "1  fantasy harry potter order phoenix door end si...  \n",
       "2  classics kill mockingbird unforgettable novel ...  \n",
       "3  classics pride prejudice alternate cover editi...  \n",
       "4  youngadult twilight three things absolutely po...  "
      ]
     },
     "execution_count": 31,
     "metadata": {},
     "output_type": "execute_result"
    }
   ],
   "source": [
    "df = pd.read_csv(\"../data/goodreads_final_bagowords.csv\")\n",
    "df.head()"
   ]
  },
  {
   "cell_type": "markdown",
   "id": "3713db80",
   "metadata": {},
   "source": [
    "## EDA"
   ]
  },
  {
   "cell_type": "code",
   "execution_count": 32,
   "id": "10a49307",
   "metadata": {},
   "outputs": [
    {
     "name": "stdout",
     "output_type": "stream",
     "text": [
      "<class 'pandas.core.frame.DataFrame'>\n",
      "RangeIndex: 8863 entries, 0 to 8862\n",
      "Data columns (total 17 columns):\n",
      " #   Column                  Non-Null Count  Dtype  \n",
      "---  ------                  --------------  -----  \n",
      " 0   url                     8863 non-null   object \n",
      " 1   bookTitle               8863 non-null   object \n",
      " 2   bookImage               8863 non-null   object \n",
      " 3   bookDesc                8863 non-null   object \n",
      " 4   bookRating              8863 non-null   float64\n",
      " 5   ratingCount             8863 non-null   int64  \n",
      " 6   reviewCount             8863 non-null   int64  \n",
      " 7   Genre                   8863 non-null   object \n",
      " 8   pageCount               8863 non-null   int64  \n",
      " 9   Author                  8863 non-null   object \n",
      " 10  lang                    8863 non-null   object \n",
      " 11  title_key_words         8863 non-null   object \n",
      " 12  clean_keywords          8863 non-null   object \n",
      " 13  sentiment_polarity      8863 non-null   float64\n",
      " 14  sentiment_subjectivity  8863 non-null   float64\n",
      " 15  genre_bag               8863 non-null   object \n",
      " 16  bag_of_words            8863 non-null   object \n",
      "dtypes: float64(3), int64(3), object(11)\n",
      "memory usage: 1.1+ MB\n"
     ]
    }
   ],
   "source": [
    "df.info()"
   ]
  },
  {
   "cell_type": "code",
   "execution_count": 33,
   "id": "2742ede6",
   "metadata": {},
   "outputs": [
    {
     "data": {
      "text/plain": [
       "8863"
      ]
     },
     "execution_count": 33,
     "metadata": {},
     "output_type": "execute_result"
    }
   ],
   "source": [
    "df[\"bookTitle\"].nunique()"
   ]
  },
  {
   "cell_type": "code",
   "execution_count": 34,
   "id": "7effbf0a",
   "metadata": {
    "scrolled": true
   },
   "outputs": [
    {
     "data": {
      "text/plain": [
       "3896"
      ]
     },
     "execution_count": 34,
     "metadata": {},
     "output_type": "execute_result"
    }
   ],
   "source": [
    "df[\"Author\"].nunique()"
   ]
  },
  {
   "cell_type": "code",
   "execution_count": 35,
   "id": "61acc51f",
   "metadata": {},
   "outputs": [
    {
     "data": {
      "text/plain": [
       "46"
      ]
     },
     "execution_count": 35,
     "metadata": {},
     "output_type": "execute_result"
    }
   ],
   "source": [
    "df[\"Genre\"].nunique()"
   ]
  },
  {
   "cell_type": "markdown",
   "id": "44ad1d14",
   "metadata": {},
   "source": [
    "## Count Vectorizer"
   ]
  },
  {
   "cell_type": "code",
   "execution_count": 36,
   "id": "3a8560fc",
   "metadata": {},
   "outputs": [
    {
     "name": "stdout",
     "output_type": "stream",
     "text": [
      "[[1.         0.01299688 0.02515773 ... 0.02151657 0.03822354 0.07470179]\n",
      " [0.01299688 1.         0.         ... 0.04474374 0.0264953  0.03106849]\n",
      " [0.02515773 0.         1.         ... 0.02165233 0.0384647  0.04510386]\n",
      " ...\n",
      " [0.02151657 0.04474374 0.02165233 ... 1.         0.         0.02571722]\n",
      " [0.03822354 0.0264953  0.0384647  ... 0.         1.         0.09137174]\n",
      " [0.07470179 0.03106849 0.04510386 ... 0.02571722 0.09137174 1.        ]]\n"
     ]
    }
   ],
   "source": [
    "#CountVectorizer model\n",
    "count = CountVectorizer()\n",
    "count_matrix = count.fit_transform(df['bag_of_words'])\n",
    "\n",
    "cosine_sim = cosine_similarity(count_matrix, count_matrix)\n",
    "print(cosine_sim)\n",
    "\n",
    "indices = pd.Series(df['bookTitle'])"
   ]
  },
  {
   "cell_type": "code",
   "execution_count": 37,
   "id": "a9eb61bb",
   "metadata": {},
   "outputs": [
    {
     "data": {
      "text/plain": [
       "array([[0, 0, 0, ..., 0, 0, 0],\n",
       "       [0, 0, 0, ..., 0, 0, 0],\n",
       "       [0, 0, 0, ..., 0, 0, 0],\n",
       "       ...,\n",
       "       [0, 0, 0, ..., 0, 0, 0],\n",
       "       [0, 0, 0, ..., 0, 0, 0],\n",
       "       [0, 0, 0, ..., 0, 0, 0]])"
      ]
     },
     "execution_count": 37,
     "metadata": {},
     "output_type": "execute_result"
    }
   ],
   "source": [
    "test = count_matrix.toarray()\n",
    "test\n"
   ]
  },
  {
   "cell_type": "code",
   "execution_count": 38,
   "id": "756bd784",
   "metadata": {},
   "outputs": [
    {
     "data": {
      "text/plain": [
       "46788"
      ]
     },
     "execution_count": 38,
     "metadata": {},
     "output_type": "execute_result"
    }
   ],
   "source": [
    "len(test[0])"
   ]
  },
  {
   "cell_type": "code",
   "execution_count": 39,
   "id": "4a218bab",
   "metadata": {},
   "outputs": [
    {
     "data": {
      "text/plain": [
       "76"
      ]
     },
     "execution_count": 39,
     "metadata": {},
     "output_type": "execute_result"
    }
   ],
   "source": [
    "sum(test[0])"
   ]
  },
  {
   "cell_type": "code",
   "execution_count": null,
   "id": "e4924008",
   "metadata": {},
   "outputs": [],
   "source": []
  },
  {
   "cell_type": "code",
   "execution_count": 40,
   "id": "dc813ab5",
   "metadata": {},
   "outputs": [],
   "source": [
    "def recommend(bookTitle, cosine_sim = cosine_sim):\n",
    "    recommended_book = []\n",
    "    idx = indices[indices == bookTitle].index[0]\n",
    "    score_series = pd.Series(cosine_sim[idx]).sort_values(ascending = False)\n",
    "    top_10_indices = list(score_series.iloc[1:11].index)\n",
    "    \n",
    "    for i in top_10_indices:\n",
    "        recommended_book.append(list(df['bookTitle'])[i])\n",
    "        \n",
    "    return recommended_book"
   ]
  },
  {
   "cell_type": "code",
   "execution_count": 41,
   "id": "2c57ac36",
   "metadata": {},
   "outputs": [
    {
     "data": {
      "text/plain": [
       "['Go Set a Watchman',\n",
       " 'Lonesome Dove',\n",
       " 'The Chronicles of Prydain',\n",
       " 'Our Town',\n",
       " 'Lady of Hay',\n",
       " 'The Grapes of Wrath',\n",
       " 'Manchild in the Promised Land',\n",
       " 'The Secret Garden',\n",
       " 'Story of a Soul: The Autobiography of St. Thérèse of Lisieux',\n",
       " 'Jimmy Corrigan: The Smartest Kid on Earth']"
      ]
     },
     "execution_count": 41,
     "metadata": {},
     "output_type": "execute_result"
    }
   ],
   "source": [
    "recommend('To Kill a Mockingbird')"
   ]
  },
  {
   "cell_type": "markdown",
   "id": "e74c925c",
   "metadata": {},
   "source": [
    "## TF- IDF"
   ]
  },
  {
   "cell_type": "code",
   "execution_count": 42,
   "id": "234f16b0",
   "metadata": {},
   "outputs": [
    {
     "data": {
      "text/html": [
       "<div>\n",
       "<style scoped>\n",
       "    .dataframe tbody tr th:only-of-type {\n",
       "        vertical-align: middle;\n",
       "    }\n",
       "\n",
       "    .dataframe tbody tr th {\n",
       "        vertical-align: top;\n",
       "    }\n",
       "\n",
       "    .dataframe thead th {\n",
       "        text-align: right;\n",
       "    }\n",
       "</style>\n",
       "<table border=\"1\" class=\"dataframe\">\n",
       "  <thead>\n",
       "    <tr style=\"text-align: right;\">\n",
       "      <th></th>\n",
       "      <th>url</th>\n",
       "      <th>bookTitle</th>\n",
       "      <th>bookImage</th>\n",
       "      <th>bookDesc</th>\n",
       "      <th>bookRating</th>\n",
       "      <th>ratingCount</th>\n",
       "      <th>reviewCount</th>\n",
       "      <th>Genre</th>\n",
       "      <th>pageCount</th>\n",
       "      <th>Author</th>\n",
       "      <th>lang</th>\n",
       "      <th>title_key_words</th>\n",
       "      <th>clean_keywords</th>\n",
       "      <th>sentiment_polarity</th>\n",
       "      <th>sentiment_subjectivity</th>\n",
       "      <th>genre_bag</th>\n",
       "      <th>bag_of_words</th>\n",
       "    </tr>\n",
       "  </thead>\n",
       "  <tbody>\n",
       "    <tr>\n",
       "      <th>0</th>\n",
       "      <td>https://www.goodreads.com/book/show/2767052-th...</td>\n",
       "      <td>The Hunger Games</td>\n",
       "      <td>https://i.gr-assets.com/images/S/compressed.ph...</td>\n",
       "      <td>Could you survive on your own in the wild, wit...</td>\n",
       "      <td>4.32</td>\n",
       "      <td>6717635</td>\n",
       "      <td>176054</td>\n",
       "      <td>Young Adult</td>\n",
       "      <td>374</td>\n",
       "      <td>Suzanne Collins</td>\n",
       "      <td>en</td>\n",
       "      <td>['hunger', 'games']</td>\n",
       "      <td>['could', 'survive', 'wild', 'every', 'one', '...</td>\n",
       "      <td>0.101623</td>\n",
       "      <td>0.484921</td>\n",
       "      <td>['youngadult']</td>\n",
       "      <td>youngadult hunger games could survive wild eve...</td>\n",
       "    </tr>\n",
       "    <tr>\n",
       "      <th>1</th>\n",
       "      <td>https://www.goodreads.com/book/show/2.Harry_Po...</td>\n",
       "      <td>Harry Potter and the Order of the Phoenix</td>\n",
       "      <td>https://i.gr-assets.com/images/S/compressed.ph...</td>\n",
       "      <td>There is a door at the end of a silent corrido...</td>\n",
       "      <td>4.50</td>\n",
       "      <td>2668409</td>\n",
       "      <td>45724</td>\n",
       "      <td>Fantasy</td>\n",
       "      <td>870</td>\n",
       "      <td>J.K. Rowling</td>\n",
       "      <td>en</td>\n",
       "      <td>['harry', 'potter', 'order', 'phoenix']</td>\n",
       "      <td>['door', 'end', 'silent', 'corridor', 'hauntin...</td>\n",
       "      <td>-0.087273</td>\n",
       "      <td>0.420909</td>\n",
       "      <td>['fantasy']</td>\n",
       "      <td>fantasy harry potter order phoenix door end si...</td>\n",
       "    </tr>\n",
       "    <tr>\n",
       "      <th>2</th>\n",
       "      <td>https://www.goodreads.com/book/show/2657.To_Ki...</td>\n",
       "      <td>To Kill a Mockingbird</td>\n",
       "      <td>https://i.gr-assets.com/images/S/compressed.ph...</td>\n",
       "      <td>The unforgettable novel of a childhood in a sl...</td>\n",
       "      <td>4.28</td>\n",
       "      <td>4772918</td>\n",
       "      <td>95595</td>\n",
       "      <td>Classics</td>\n",
       "      <td>324</td>\n",
       "      <td>Harper Lee</td>\n",
       "      <td>en</td>\n",
       "      <td>['kill', 'mockingbird']</td>\n",
       "      <td>['unforgettable', 'novel', 'childhood', 'sleep...</td>\n",
       "      <td>0.165686</td>\n",
       "      <td>0.368067</td>\n",
       "      <td>['classics']</td>\n",
       "      <td>classics kill mockingbird unforgettable novel ...</td>\n",
       "    </tr>\n",
       "    <tr>\n",
       "      <th>3</th>\n",
       "      <td>https://www.goodreads.com/book/show/1885.Pride...</td>\n",
       "      <td>Pride and Prejudice</td>\n",
       "      <td>https://i.gr-assets.com/images/S/compressed.ph...</td>\n",
       "      <td>Alternate cover edition of ISBN 9780679783268S...</td>\n",
       "      <td>4.27</td>\n",
       "      <td>3206070</td>\n",
       "      <td>74020</td>\n",
       "      <td>Classics</td>\n",
       "      <td>279</td>\n",
       "      <td>Jane Austen</td>\n",
       "      <td>en</td>\n",
       "      <td>['pride', 'prejudice']</td>\n",
       "      <td>['alternate', 'cover', 'edition', 'isbn', 'sin...</td>\n",
       "      <td>0.475556</td>\n",
       "      <td>0.680000</td>\n",
       "      <td>['classics']</td>\n",
       "      <td>classics pride prejudice alternate cover editi...</td>\n",
       "    </tr>\n",
       "    <tr>\n",
       "      <th>4</th>\n",
       "      <td>https://www.goodreads.com/book/show/41865.Twil...</td>\n",
       "      <td>Twilight</td>\n",
       "      <td>https://i.gr-assets.com/images/S/compressed.ph...</td>\n",
       "      <td>About three things I was absolutely positive.F...</td>\n",
       "      <td>3.61</td>\n",
       "      <td>5231000</td>\n",
       "      <td>107619</td>\n",
       "      <td>Young Adult</td>\n",
       "      <td>501</td>\n",
       "      <td>Stephenie Meyer</td>\n",
       "      <td>en</td>\n",
       "      <td>['twilight']</td>\n",
       "      <td>['three', 'things', 'absolutely', 'positive', ...</td>\n",
       "      <td>0.240000</td>\n",
       "      <td>0.620000</td>\n",
       "      <td>['youngadult']</td>\n",
       "      <td>youngadult twilight three things absolutely po...</td>\n",
       "    </tr>\n",
       "  </tbody>\n",
       "</table>\n",
       "</div>"
      ],
      "text/plain": [
       "                                                 url  \\\n",
       "0  https://www.goodreads.com/book/show/2767052-th...   \n",
       "1  https://www.goodreads.com/book/show/2.Harry_Po...   \n",
       "2  https://www.goodreads.com/book/show/2657.To_Ki...   \n",
       "3  https://www.goodreads.com/book/show/1885.Pride...   \n",
       "4  https://www.goodreads.com/book/show/41865.Twil...   \n",
       "\n",
       "                                   bookTitle  \\\n",
       "0                           The Hunger Games   \n",
       "1  Harry Potter and the Order of the Phoenix   \n",
       "2                      To Kill a Mockingbird   \n",
       "3                        Pride and Prejudice   \n",
       "4                                   Twilight   \n",
       "\n",
       "                                           bookImage  \\\n",
       "0  https://i.gr-assets.com/images/S/compressed.ph...   \n",
       "1  https://i.gr-assets.com/images/S/compressed.ph...   \n",
       "2  https://i.gr-assets.com/images/S/compressed.ph...   \n",
       "3  https://i.gr-assets.com/images/S/compressed.ph...   \n",
       "4  https://i.gr-assets.com/images/S/compressed.ph...   \n",
       "\n",
       "                                            bookDesc  bookRating  ratingCount  \\\n",
       "0  Could you survive on your own in the wild, wit...        4.32      6717635   \n",
       "1  There is a door at the end of a silent corrido...        4.50      2668409   \n",
       "2  The unforgettable novel of a childhood in a sl...        4.28      4772918   \n",
       "3  Alternate cover edition of ISBN 9780679783268S...        4.27      3206070   \n",
       "4  About three things I was absolutely positive.F...        3.61      5231000   \n",
       "\n",
       "   reviewCount        Genre  pageCount           Author lang  \\\n",
       "0       176054  Young Adult        374  Suzanne Collins   en   \n",
       "1        45724      Fantasy        870     J.K. Rowling   en   \n",
       "2        95595     Classics        324       Harper Lee   en   \n",
       "3        74020     Classics        279      Jane Austen   en   \n",
       "4       107619  Young Adult        501  Stephenie Meyer   en   \n",
       "\n",
       "                           title_key_words  \\\n",
       "0                      ['hunger', 'games']   \n",
       "1  ['harry', 'potter', 'order', 'phoenix']   \n",
       "2                  ['kill', 'mockingbird']   \n",
       "3                   ['pride', 'prejudice']   \n",
       "4                             ['twilight']   \n",
       "\n",
       "                                      clean_keywords  sentiment_polarity  \\\n",
       "0  ['could', 'survive', 'wild', 'every', 'one', '...            0.101623   \n",
       "1  ['door', 'end', 'silent', 'corridor', 'hauntin...           -0.087273   \n",
       "2  ['unforgettable', 'novel', 'childhood', 'sleep...            0.165686   \n",
       "3  ['alternate', 'cover', 'edition', 'isbn', 'sin...            0.475556   \n",
       "4  ['three', 'things', 'absolutely', 'positive', ...            0.240000   \n",
       "\n",
       "   sentiment_subjectivity       genre_bag  \\\n",
       "0                0.484921  ['youngadult']   \n",
       "1                0.420909     ['fantasy']   \n",
       "2                0.368067    ['classics']   \n",
       "3                0.680000    ['classics']   \n",
       "4                0.620000  ['youngadult']   \n",
       "\n",
       "                                        bag_of_words  \n",
       "0  youngadult hunger games could survive wild eve...  \n",
       "1  fantasy harry potter order phoenix door end si...  \n",
       "2  classics kill mockingbird unforgettable novel ...  \n",
       "3  classics pride prejudice alternate cover editi...  \n",
       "4  youngadult twilight three things absolutely po...  "
      ]
     },
     "execution_count": 42,
     "metadata": {},
     "output_type": "execute_result"
    }
   ],
   "source": [
    "df.head()"
   ]
  },
  {
   "cell_type": "code",
   "execution_count": 43,
   "id": "eb2a86dd",
   "metadata": {},
   "outputs": [],
   "source": [
    "from sklearn.feature_extraction.text import TfidfVectorizer\n",
    "from sklearn.metrics.pairwise import cosine_similarity\n",
    "from sklearn.metrics.pairwise import linear_kernel"
   ]
  },
  {
   "cell_type": "code",
   "execution_count": 44,
   "id": "89fec9b6",
   "metadata": {},
   "outputs": [
    {
     "name": "stdout",
     "output_type": "stream",
     "text": [
      "[[1.         0.00402374 0.0138527  ... 0.00703557 0.00161726 0.01776498]\n",
      " [0.00402374 1.         0.         ... 0.03376514 0.01499929 0.01502661]\n",
      " [0.0138527  0.         1.         ... 0.         0.01281669 0.01778946]\n",
      " ...\n",
      " [0.00703557 0.03376514 0.         ... 1.         0.         0.01030452]\n",
      " [0.00161726 0.01499929 0.01281669 ... 0.         1.         0.03148951]\n",
      " [0.01776498 0.01502661 0.01778946 ... 0.01030452 0.03148951 1.        ]]\n"
     ]
    }
   ],
   "source": [
    "#https://practicaldatascience.co.uk/data-science/how-to-create-content-recommendations-using-tf-idf\n",
    "#bag of words is already made, but this will also down-weight common words that appear across documents\n",
    "tfidf = TfidfVectorizer(stop_words='english')\n",
    "\n",
    "# numbers to calculate similarities\n",
    "tfidf_matrix = tfidf.fit_transform(df['bag_of_words'])\n",
    "\n",
    "#calculate cosine matrix\n",
    "cosine_similarities = linear_kernel(tfidf_matrix, tfidf_matrix)\n",
    "print(cosine_similarities)\n",
    "\n",
    "indices = pd.Series(df['bookTitle'])"
   ]
  },
  {
   "cell_type": "code",
   "execution_count": 50,
   "id": "c47ace0d",
   "metadata": {},
   "outputs": [],
   "source": [
    "#get recommendations based on tf-idf and cosine_similarities\n",
    "\n",
    "def recommend_tf(bookTitle, cosine_similarities = cosine_similarities):\n",
    "    \n",
    "    recommended_book = []\n",
    "    \n",
    "    idx = indices[indices == bookTitle].index[0]\n",
    "    \n",
    "    score_series = pd.Series(cosine_similarities[idx]).sort_values(ascending = False)\n",
    "    \n",
    "    top_10_indices = list(score_series.iloc[1:21].index)\n",
    "    \n",
    "    for i in top_10_indices:\n",
    "        recommended_book.append(list(df['bookTitle'])[i])\n",
    "        \n",
    "    return recommended_book"
   ]
  },
  {
   "cell_type": "code",
   "execution_count": 51,
   "id": "b00d0e67",
   "metadata": {},
   "outputs": [
    {
     "data": {
      "text/plain": [
       "['Percy Jackson and the Olympians',\n",
       " 'The Sea of Monsters',\n",
       " \"Demigods and Monsters: Your Favorite Authors on Rick Riordan's Percy Jackson and the Olympians Series\",\n",
       " 'Percy Jackson and the Olympians Boxed Set',\n",
       " 'The Battle of the Labyrinth',\n",
       " 'The Mark of Athena',\n",
       " \"Percy Jackson's Greek Gods\",\n",
       " 'The Last Olympian',\n",
       " 'The Demigod Files',\n",
       " 'Switched',\n",
       " 'The House of Hades',\n",
       " 'The Demigod Diaries',\n",
       " 'Percy Jackson & the Olympians:  The Ultimate Guide',\n",
       " \"Percy Jackson's Greek Heroes\",\n",
       " 'The Blood of Olympus',\n",
       " 'The Son of Neptune',\n",
       " 'The Staff of Serapis',\n",
       " 'The Hidden Oracle',\n",
       " 'The Burning Maze',\n",
       " 'Providence']"
      ]
     },
     "execution_count": 51,
     "metadata": {},
     "output_type": "execute_result"
    }
   ],
   "source": [
    "recommend_tf('The Lightning Thief')"
   ]
  },
  {
   "cell_type": "code",
   "execution_count": null,
   "id": "f447699d",
   "metadata": {},
   "outputs": [],
   "source": []
  },
  {
   "cell_type": "code",
   "execution_count": null,
   "id": "3671080f",
   "metadata": {},
   "outputs": [],
   "source": []
  },
  {
   "cell_type": "code",
   "execution_count": null,
   "id": "ee475887",
   "metadata": {},
   "outputs": [],
   "source": []
  },
  {
   "cell_type": "code",
   "execution_count": null,
   "id": "8487476b",
   "metadata": {},
   "outputs": [],
   "source": []
  },
  {
   "cell_type": "code",
   "execution_count": null,
   "id": "058c833f",
   "metadata": {},
   "outputs": [],
   "source": []
  }
 ],
 "metadata": {
  "kernelspec": {
   "display_name": "Python 3 (ipykernel)",
   "language": "python",
   "name": "python3"
  },
  "language_info": {
   "codemirror_mode": {
    "name": "ipython",
    "version": 3
   },
   "file_extension": ".py",
   "mimetype": "text/x-python",
   "name": "python",
   "nbconvert_exporter": "python",
   "pygments_lexer": "ipython3",
   "version": "3.9.7"
  }
 },
 "nbformat": 4,
 "nbformat_minor": 5
}
