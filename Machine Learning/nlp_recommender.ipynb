{
 "cells": [
  {
   "cell_type": "code",
   "execution_count": 1,
   "id": "4d02089b",
   "metadata": {},
   "outputs": [],
   "source": [
    "import pandas as pd\n",
    "import numpy as np\n",
    "\n",
    "#countvectorizer model\n",
    "import nltk\n",
    "from rake_nltk import Rake\n",
    "from sklearn.metrics.pairwise import cosine_similarity\n",
    "from sklearn.feature_extraction.text import CountVectorizer\n",
    "\n",
    "#tf-idf model\n",
    "from sklearn.feature_extraction.text import TfidfVectorizer\n",
    "\n",
    "\n",
    "from nltk.corpus import stopwords\n",
    "from sklearn.metrics.pairwise import linear_kernel\n",
    "from nltk.tokenize import RegexpTokenizer\n",
    "import re\n",
    "import string\n",
    "import random\n",
    "from PIL import Image\n",
    "import requests\n",
    "from io import BytesIO\n",
    "\n",
    "from langdetect import detect\n",
    "\n",
    "pd.set_option('display.max_rows', None)\n",
    "pd.set_option('display.max_columns', None)\n",
    "pd.set_option('display.width', None)\n",
    "pd.set_option('display.max_colwidth', None)"
   ]
  },
  {
   "cell_type": "code",
   "execution_count": 2,
   "id": "3283c211",
   "metadata": {},
   "outputs": [
    {
     "data": {
      "text/html": [
       "<div>\n",
       "<style scoped>\n",
       "    .dataframe tbody tr th:only-of-type {\n",
       "        vertical-align: middle;\n",
       "    }\n",
       "\n",
       "    .dataframe tbody tr th {\n",
       "        vertical-align: top;\n",
       "    }\n",
       "\n",
       "    .dataframe thead th {\n",
       "        text-align: right;\n",
       "    }\n",
       "</style>\n",
       "<table border=\"1\" class=\"dataframe\">\n",
       "  <thead>\n",
       "    <tr style=\"text-align: right;\">\n",
       "      <th></th>\n",
       "      <th>url</th>\n",
       "      <th>bookTitle</th>\n",
       "      <th>bookImage</th>\n",
       "      <th>bookDesc</th>\n",
       "      <th>bookRating</th>\n",
       "      <th>ratingCount</th>\n",
       "      <th>reviewCount</th>\n",
       "      <th>Genre</th>\n",
       "      <th>pageCount</th>\n",
       "      <th>Author</th>\n",
       "    </tr>\n",
       "  </thead>\n",
       "  <tbody>\n",
       "    <tr>\n",
       "      <th>0</th>\n",
       "      <td>https://www.goodreads.com/book/show/2767052-the-hunger-games</td>\n",
       "      <td>The Hunger Games</td>\n",
       "      <td>https://i.gr-assets.com/images/S/compressed.photo.goodreads.com/books/1586722975l/2767052.jpg</td>\n",
       "      <td>Could you survive on your own in the wild, with every one out to make sure you don't live to see the morning?In the ruins of a place once known as North America lies the nation of Panem, a shining Capitol surrounded by twelve outlying districts. The Capitol is harsh and cruel and keeps the districts in line by forcing them all to send one boy and one girl between the ages of twelve and eighteen to participate in the annual Hunger Games, a fight to the death on live TV.Sixteen-year-old Katniss Everdeen, who lives alone with her mother and younger sister, regards it as a death sentence when she steps forward to take her sister's place in the Games. But Katniss has been close to dead before—and survival, for her, is second nature. Without really meaning to, she becomes a contender. But if she is to win, she will have to start making choices that weight survival against humanity and life against love.</td>\n",
       "      <td>4.32</td>\n",
       "      <td>6717635</td>\n",
       "      <td>176054</td>\n",
       "      <td>Young Adult</td>\n",
       "      <td>374</td>\n",
       "      <td>Suzanne Collins</td>\n",
       "    </tr>\n",
       "    <tr>\n",
       "      <th>1</th>\n",
       "      <td>https://www.goodreads.com/book/show/2.Harry_Potter_and_the_Order_of_the_Phoenix</td>\n",
       "      <td>Harry Potter and the Order of the Phoenix</td>\n",
       "      <td>https://i.gr-assets.com/images/S/compressed.photo.goodreads.com/books/1546910265l/2.jpg</td>\n",
       "      <td>There is a door at the end of a silent corridor. And it’s haunting Harry Pottter’s dreams. Why else would he be waking in the middle of the night, screaming in terror?Harry has a lot on his mind for this, his fifth year at Hogwarts: a Defense Against the Dark Arts teacher with a personality like poisoned honey; a big surprise on the Gryffindor Quidditch team; and the looming terror of the Ordinary Wizarding Level exams. But all these things pale next to the growing threat of He-Who-Must-Not-Be-Named - a threat that neither the magical government nor the authorities at Hogwarts can stop.As the grasp of darkness tightens, Harry must discover the true depth and strength of his friends, the importance of boundless loyalty, and the shocking price of unbearable sacrifice.His fate depends on them all.</td>\n",
       "      <td>4.50</td>\n",
       "      <td>2668409</td>\n",
       "      <td>45724</td>\n",
       "      <td>Fantasy</td>\n",
       "      <td>870</td>\n",
       "      <td>J.K. Rowling</td>\n",
       "    </tr>\n",
       "    <tr>\n",
       "      <th>2</th>\n",
       "      <td>https://www.goodreads.com/book/show/2657.To_Kill_a_Mockingbird</td>\n",
       "      <td>To Kill a Mockingbird</td>\n",
       "      <td>https://i.gr-assets.com/images/S/compressed.photo.goodreads.com/books/1553383690l/2657.jpg</td>\n",
       "      <td>The unforgettable novel of a childhood in a sleepy Southern town and the crisis of conscience that rocked it. \"To Kill A Mockingbird\" became both an instant bestseller and a critical success when it was first published in 1960. It went on to win the Pulitzer Prize in 1961 and was later made into an Academy Award-winning film, also a classic.Compassionate, dramatic, and deeply moving, \"To Kill A Mockingbird\" takes readers to the roots of human behavior - to innocence and experience, kindness and cruelty, love and hatred, humor and pathos. Now with over 18 million copies in print and translated into forty languages, this regional story by a young Alabama woman claims universal appeal. Harper Lee always considered her book to be a simple love story. Today it is regarded as a masterpiece of American literature.</td>\n",
       "      <td>4.28</td>\n",
       "      <td>4772918</td>\n",
       "      <td>95595</td>\n",
       "      <td>Classics</td>\n",
       "      <td>324</td>\n",
       "      <td>Harper Lee</td>\n",
       "    </tr>\n",
       "    <tr>\n",
       "      <th>3</th>\n",
       "      <td>https://www.goodreads.com/book/show/1885.Pride_and_Prejudice</td>\n",
       "      <td>Pride and Prejudice</td>\n",
       "      <td>https://i.gr-assets.com/images/S/compressed.photo.goodreads.com/books/1320399351l/1885.jpg</td>\n",
       "      <td>Alternate cover edition of ISBN 9780679783268Since its immediate success in 1813, Pride and Prejudice has remained one of the most popular novels in the English language. Jane Austen called this brilliant work \"her own darling child\" and its vivacious heroine, Elizabeth Bennet, \"as delightful a creature as ever appeared in print.\" The romantic clash between the opinionated Elizabeth and her proud beau, Mr. Darcy, is a splendid performance of civilized sparring. And Jane Austen's radiant wit sparkles as her characters dance a delicate quadrille of flirtation and intrigue, making this book the most superb comedy of manners of Regency England.</td>\n",
       "      <td>4.27</td>\n",
       "      <td>3206070</td>\n",
       "      <td>74020</td>\n",
       "      <td>Classics</td>\n",
       "      <td>279</td>\n",
       "      <td>Jane Austen</td>\n",
       "    </tr>\n",
       "    <tr>\n",
       "      <th>4</th>\n",
       "      <td>https://www.goodreads.com/book/show/41865.Twilight</td>\n",
       "      <td>Twilight</td>\n",
       "      <td>https://i.gr-assets.com/images/S/compressed.photo.goodreads.com/books/1361039443l/41865.jpg</td>\n",
       "      <td>About three things I was absolutely positive.First, Edward was a vampire.Second, there was a part of him—and I didn't know how dominant that part might be—that thirsted for my blood.And third, I was unconditionally and irrevocably in love with him.Deeply seductive and extraordinarily suspenseful, Twilight is a love story with bite.</td>\n",
       "      <td>3.61</td>\n",
       "      <td>5231000</td>\n",
       "      <td>107619</td>\n",
       "      <td>Young Adult</td>\n",
       "      <td>501</td>\n",
       "      <td>Stephenie Meyer</td>\n",
       "    </tr>\n",
       "  </tbody>\n",
       "</table>\n",
       "</div>"
      ],
      "text/plain": [
       "                                                                               url  \\\n",
       "0                     https://www.goodreads.com/book/show/2767052-the-hunger-games   \n",
       "1  https://www.goodreads.com/book/show/2.Harry_Potter_and_the_Order_of_the_Phoenix   \n",
       "2                   https://www.goodreads.com/book/show/2657.To_Kill_a_Mockingbird   \n",
       "3                     https://www.goodreads.com/book/show/1885.Pride_and_Prejudice   \n",
       "4                               https://www.goodreads.com/book/show/41865.Twilight   \n",
       "\n",
       "                                   bookTitle  \\\n",
       "0                           The Hunger Games   \n",
       "1  Harry Potter and the Order of the Phoenix   \n",
       "2                      To Kill a Mockingbird   \n",
       "3                        Pride and Prejudice   \n",
       "4                                   Twilight   \n",
       "\n",
       "                                                                                       bookImage  \\\n",
       "0  https://i.gr-assets.com/images/S/compressed.photo.goodreads.com/books/1586722975l/2767052.jpg   \n",
       "1        https://i.gr-assets.com/images/S/compressed.photo.goodreads.com/books/1546910265l/2.jpg   \n",
       "2     https://i.gr-assets.com/images/S/compressed.photo.goodreads.com/books/1553383690l/2657.jpg   \n",
       "3     https://i.gr-assets.com/images/S/compressed.photo.goodreads.com/books/1320399351l/1885.jpg   \n",
       "4    https://i.gr-assets.com/images/S/compressed.photo.goodreads.com/books/1361039443l/41865.jpg   \n",
       "\n",
       "                                                                                                                                                                                                                                                                                                                                                                                                                                                                                                                                                                                                                                                                                                                                                                                                                                                                                                                                         bookDesc  \\\n",
       "0  Could you survive on your own in the wild, with every one out to make sure you don't live to see the morning?In the ruins of a place once known as North America lies the nation of Panem, a shining Capitol surrounded by twelve outlying districts. The Capitol is harsh and cruel and keeps the districts in line by forcing them all to send one boy and one girl between the ages of twelve and eighteen to participate in the annual Hunger Games, a fight to the death on live TV.Sixteen-year-old Katniss Everdeen, who lives alone with her mother and younger sister, regards it as a death sentence when she steps forward to take her sister's place in the Games. But Katniss has been close to dead before—and survival, for her, is second nature. Without really meaning to, she becomes a contender. But if she is to win, she will have to start making choices that weight survival against humanity and life against love.   \n",
       "1                                                                                                           There is a door at the end of a silent corridor. And it’s haunting Harry Pottter’s dreams. Why else would he be waking in the middle of the night, screaming in terror?Harry has a lot on his mind for this, his fifth year at Hogwarts: a Defense Against the Dark Arts teacher with a personality like poisoned honey; a big surprise on the Gryffindor Quidditch team; and the looming terror of the Ordinary Wizarding Level exams. But all these things pale next to the growing threat of He-Who-Must-Not-Be-Named - a threat that neither the magical government nor the authorities at Hogwarts can stop.As the grasp of darkness tightens, Harry must discover the true depth and strength of his friends, the importance of boundless loyalty, and the shocking price of unbearable sacrifice.His fate depends on them all.   \n",
       "2                                                                                              The unforgettable novel of a childhood in a sleepy Southern town and the crisis of conscience that rocked it. \"To Kill A Mockingbird\" became both an instant bestseller and a critical success when it was first published in 1960. It went on to win the Pulitzer Prize in 1961 and was later made into an Academy Award-winning film, also a classic.Compassionate, dramatic, and deeply moving, \"To Kill A Mockingbird\" takes readers to the roots of human behavior - to innocence and experience, kindness and cruelty, love and hatred, humor and pathos. Now with over 18 million copies in print and translated into forty languages, this regional story by a young Alabama woman claims universal appeal. Harper Lee always considered her book to be a simple love story. Today it is regarded as a masterpiece of American literature.   \n",
       "3                                                                                                                                                                                                                                                                        Alternate cover edition of ISBN 9780679783268Since its immediate success in 1813, Pride and Prejudice has remained one of the most popular novels in the English language. Jane Austen called this brilliant work \"her own darling child\" and its vivacious heroine, Elizabeth Bennet, \"as delightful a creature as ever appeared in print.\" The romantic clash between the opinionated Elizabeth and her proud beau, Mr. Darcy, is a splendid performance of civilized sparring. And Jane Austen's radiant wit sparkles as her characters dance a delicate quadrille of flirtation and intrigue, making this book the most superb comedy of manners of Regency England.   \n",
       "4                                                                                                                                                                                                                                                                                                                                                                                                                                                                                                                                                                                                   About three things I was absolutely positive.First, Edward was a vampire.Second, there was a part of him—and I didn't know how dominant that part might be—that thirsted for my blood.And third, I was unconditionally and irrevocably in love with him.Deeply seductive and extraordinarily suspenseful, Twilight is a love story with bite.   \n",
       "\n",
       "   bookRating  ratingCount  reviewCount        Genre  pageCount  \\\n",
       "0        4.32      6717635       176054  Young Adult        374   \n",
       "1        4.50      2668409        45724      Fantasy        870   \n",
       "2        4.28      4772918        95595     Classics        324   \n",
       "3        4.27      3206070        74020     Classics        279   \n",
       "4        3.61      5231000       107619  Young Adult        501   \n",
       "\n",
       "            Author  \n",
       "0  Suzanne Collins  \n",
       "1     J.K. Rowling  \n",
       "2       Harper Lee  \n",
       "3      Jane Austen  \n",
       "4  Stephenie Meyer  "
      ]
     },
     "execution_count": 2,
     "metadata": {},
     "output_type": "execute_result"
    }
   ],
   "source": [
    "df = pd.read_csv(\"../data/goodreads_final.csv\")\n",
    "df.head()"
   ]
  },
  {
   "cell_type": "code",
   "execution_count": 3,
   "id": "a20d4351",
   "metadata": {},
   "outputs": [
    {
     "data": {
      "text/html": [
       "<div>\n",
       "<style scoped>\n",
       "    .dataframe tbody tr th:only-of-type {\n",
       "        vertical-align: middle;\n",
       "    }\n",
       "\n",
       "    .dataframe tbody tr th {\n",
       "        vertical-align: top;\n",
       "    }\n",
       "\n",
       "    .dataframe thead th {\n",
       "        text-align: right;\n",
       "    }\n",
       "</style>\n",
       "<table border=\"1\" class=\"dataframe\">\n",
       "  <thead>\n",
       "    <tr style=\"text-align: right;\">\n",
       "      <th></th>\n",
       "      <th>url</th>\n",
       "      <th>bookTitle</th>\n",
       "      <th>bookImage</th>\n",
       "      <th>bookDesc</th>\n",
       "      <th>bookRating</th>\n",
       "      <th>ratingCount</th>\n",
       "      <th>reviewCount</th>\n",
       "      <th>Genre</th>\n",
       "      <th>pageCount</th>\n",
       "      <th>Author</th>\n",
       "      <th>lang</th>\n",
       "    </tr>\n",
       "  </thead>\n",
       "  <tbody>\n",
       "    <tr>\n",
       "      <th>0</th>\n",
       "      <td>https://www.goodreads.com/book/show/2767052-the-hunger-games</td>\n",
       "      <td>The Hunger Games</td>\n",
       "      <td>https://i.gr-assets.com/images/S/compressed.photo.goodreads.com/books/1586722975l/2767052.jpg</td>\n",
       "      <td>Could you survive on your own in the wild, with every one out to make sure you don't live to see the morning?In the ruins of a place once known as North America lies the nation of Panem, a shining Capitol surrounded by twelve outlying districts. The Capitol is harsh and cruel and keeps the districts in line by forcing them all to send one boy and one girl between the ages of twelve and eighteen to participate in the annual Hunger Games, a fight to the death on live TV.Sixteen-year-old Katniss Everdeen, who lives alone with her mother and younger sister, regards it as a death sentence when she steps forward to take her sister's place in the Games. But Katniss has been close to dead before—and survival, for her, is second nature. Without really meaning to, she becomes a contender. But if she is to win, she will have to start making choices that weight survival against humanity and life against love.</td>\n",
       "      <td>4.32</td>\n",
       "      <td>6717635</td>\n",
       "      <td>176054</td>\n",
       "      <td>Young Adult</td>\n",
       "      <td>374</td>\n",
       "      <td>Suzanne Collins</td>\n",
       "      <td>en</td>\n",
       "    </tr>\n",
       "    <tr>\n",
       "      <th>1</th>\n",
       "      <td>https://www.goodreads.com/book/show/2.Harry_Potter_and_the_Order_of_the_Phoenix</td>\n",
       "      <td>Harry Potter and the Order of the Phoenix</td>\n",
       "      <td>https://i.gr-assets.com/images/S/compressed.photo.goodreads.com/books/1546910265l/2.jpg</td>\n",
       "      <td>There is a door at the end of a silent corridor. And it’s haunting Harry Pottter’s dreams. Why else would he be waking in the middle of the night, screaming in terror?Harry has a lot on his mind for this, his fifth year at Hogwarts: a Defense Against the Dark Arts teacher with a personality like poisoned honey; a big surprise on the Gryffindor Quidditch team; and the looming terror of the Ordinary Wizarding Level exams. But all these things pale next to the growing threat of He-Who-Must-Not-Be-Named - a threat that neither the magical government nor the authorities at Hogwarts can stop.As the grasp of darkness tightens, Harry must discover the true depth and strength of his friends, the importance of boundless loyalty, and the shocking price of unbearable sacrifice.His fate depends on them all.</td>\n",
       "      <td>4.50</td>\n",
       "      <td>2668409</td>\n",
       "      <td>45724</td>\n",
       "      <td>Fantasy</td>\n",
       "      <td>870</td>\n",
       "      <td>J.K. Rowling</td>\n",
       "      <td>en</td>\n",
       "    </tr>\n",
       "    <tr>\n",
       "      <th>2</th>\n",
       "      <td>https://www.goodreads.com/book/show/2657.To_Kill_a_Mockingbird</td>\n",
       "      <td>To Kill a Mockingbird</td>\n",
       "      <td>https://i.gr-assets.com/images/S/compressed.photo.goodreads.com/books/1553383690l/2657.jpg</td>\n",
       "      <td>The unforgettable novel of a childhood in a sleepy Southern town and the crisis of conscience that rocked it. \"To Kill A Mockingbird\" became both an instant bestseller and a critical success when it was first published in 1960. It went on to win the Pulitzer Prize in 1961 and was later made into an Academy Award-winning film, also a classic.Compassionate, dramatic, and deeply moving, \"To Kill A Mockingbird\" takes readers to the roots of human behavior - to innocence and experience, kindness and cruelty, love and hatred, humor and pathos. Now with over 18 million copies in print and translated into forty languages, this regional story by a young Alabama woman claims universal appeal. Harper Lee always considered her book to be a simple love story. Today it is regarded as a masterpiece of American literature.</td>\n",
       "      <td>4.28</td>\n",
       "      <td>4772918</td>\n",
       "      <td>95595</td>\n",
       "      <td>Classics</td>\n",
       "      <td>324</td>\n",
       "      <td>Harper Lee</td>\n",
       "      <td>en</td>\n",
       "    </tr>\n",
       "    <tr>\n",
       "      <th>3</th>\n",
       "      <td>https://www.goodreads.com/book/show/1885.Pride_and_Prejudice</td>\n",
       "      <td>Pride and Prejudice</td>\n",
       "      <td>https://i.gr-assets.com/images/S/compressed.photo.goodreads.com/books/1320399351l/1885.jpg</td>\n",
       "      <td>Alternate cover edition of ISBN 9780679783268Since its immediate success in 1813, Pride and Prejudice has remained one of the most popular novels in the English language. Jane Austen called this brilliant work \"her own darling child\" and its vivacious heroine, Elizabeth Bennet, \"as delightful a creature as ever appeared in print.\" The romantic clash between the opinionated Elizabeth and her proud beau, Mr. Darcy, is a splendid performance of civilized sparring. And Jane Austen's radiant wit sparkles as her characters dance a delicate quadrille of flirtation and intrigue, making this book the most superb comedy of manners of Regency England.</td>\n",
       "      <td>4.27</td>\n",
       "      <td>3206070</td>\n",
       "      <td>74020</td>\n",
       "      <td>Classics</td>\n",
       "      <td>279</td>\n",
       "      <td>Jane Austen</td>\n",
       "      <td>en</td>\n",
       "    </tr>\n",
       "    <tr>\n",
       "      <th>4</th>\n",
       "      <td>https://www.goodreads.com/book/show/41865.Twilight</td>\n",
       "      <td>Twilight</td>\n",
       "      <td>https://i.gr-assets.com/images/S/compressed.photo.goodreads.com/books/1361039443l/41865.jpg</td>\n",
       "      <td>About three things I was absolutely positive.First, Edward was a vampire.Second, there was a part of him—and I didn't know how dominant that part might be—that thirsted for my blood.And third, I was unconditionally and irrevocably in love with him.Deeply seductive and extraordinarily suspenseful, Twilight is a love story with bite.</td>\n",
       "      <td>3.61</td>\n",
       "      <td>5231000</td>\n",
       "      <td>107619</td>\n",
       "      <td>Young Adult</td>\n",
       "      <td>501</td>\n",
       "      <td>Stephenie Meyer</td>\n",
       "      <td>en</td>\n",
       "    </tr>\n",
       "  </tbody>\n",
       "</table>\n",
       "</div>"
      ],
      "text/plain": [
       "                                                                               url  \\\n",
       "0                     https://www.goodreads.com/book/show/2767052-the-hunger-games   \n",
       "1  https://www.goodreads.com/book/show/2.Harry_Potter_and_the_Order_of_the_Phoenix   \n",
       "2                   https://www.goodreads.com/book/show/2657.To_Kill_a_Mockingbird   \n",
       "3                     https://www.goodreads.com/book/show/1885.Pride_and_Prejudice   \n",
       "4                               https://www.goodreads.com/book/show/41865.Twilight   \n",
       "\n",
       "                                   bookTitle  \\\n",
       "0                           The Hunger Games   \n",
       "1  Harry Potter and the Order of the Phoenix   \n",
       "2                      To Kill a Mockingbird   \n",
       "3                        Pride and Prejudice   \n",
       "4                                   Twilight   \n",
       "\n",
       "                                                                                       bookImage  \\\n",
       "0  https://i.gr-assets.com/images/S/compressed.photo.goodreads.com/books/1586722975l/2767052.jpg   \n",
       "1        https://i.gr-assets.com/images/S/compressed.photo.goodreads.com/books/1546910265l/2.jpg   \n",
       "2     https://i.gr-assets.com/images/S/compressed.photo.goodreads.com/books/1553383690l/2657.jpg   \n",
       "3     https://i.gr-assets.com/images/S/compressed.photo.goodreads.com/books/1320399351l/1885.jpg   \n",
       "4    https://i.gr-assets.com/images/S/compressed.photo.goodreads.com/books/1361039443l/41865.jpg   \n",
       "\n",
       "                                                                                                                                                                                                                                                                                                                                                                                                                                                                                                                                                                                                                                                                                                                                                                                                                                                                                                                                         bookDesc  \\\n",
       "0  Could you survive on your own in the wild, with every one out to make sure you don't live to see the morning?In the ruins of a place once known as North America lies the nation of Panem, a shining Capitol surrounded by twelve outlying districts. The Capitol is harsh and cruel and keeps the districts in line by forcing them all to send one boy and one girl between the ages of twelve and eighteen to participate in the annual Hunger Games, a fight to the death on live TV.Sixteen-year-old Katniss Everdeen, who lives alone with her mother and younger sister, regards it as a death sentence when she steps forward to take her sister's place in the Games. But Katniss has been close to dead before—and survival, for her, is second nature. Without really meaning to, she becomes a contender. But if she is to win, she will have to start making choices that weight survival against humanity and life against love.   \n",
       "1                                                                                                           There is a door at the end of a silent corridor. And it’s haunting Harry Pottter’s dreams. Why else would he be waking in the middle of the night, screaming in terror?Harry has a lot on his mind for this, his fifth year at Hogwarts: a Defense Against the Dark Arts teacher with a personality like poisoned honey; a big surprise on the Gryffindor Quidditch team; and the looming terror of the Ordinary Wizarding Level exams. But all these things pale next to the growing threat of He-Who-Must-Not-Be-Named - a threat that neither the magical government nor the authorities at Hogwarts can stop.As the grasp of darkness tightens, Harry must discover the true depth and strength of his friends, the importance of boundless loyalty, and the shocking price of unbearable sacrifice.His fate depends on them all.   \n",
       "2                                                                                              The unforgettable novel of a childhood in a sleepy Southern town and the crisis of conscience that rocked it. \"To Kill A Mockingbird\" became both an instant bestseller and a critical success when it was first published in 1960. It went on to win the Pulitzer Prize in 1961 and was later made into an Academy Award-winning film, also a classic.Compassionate, dramatic, and deeply moving, \"To Kill A Mockingbird\" takes readers to the roots of human behavior - to innocence and experience, kindness and cruelty, love and hatred, humor and pathos. Now with over 18 million copies in print and translated into forty languages, this regional story by a young Alabama woman claims universal appeal. Harper Lee always considered her book to be a simple love story. Today it is regarded as a masterpiece of American literature.   \n",
       "3                                                                                                                                                                                                                                                                        Alternate cover edition of ISBN 9780679783268Since its immediate success in 1813, Pride and Prejudice has remained one of the most popular novels in the English language. Jane Austen called this brilliant work \"her own darling child\" and its vivacious heroine, Elizabeth Bennet, \"as delightful a creature as ever appeared in print.\" The romantic clash between the opinionated Elizabeth and her proud beau, Mr. Darcy, is a splendid performance of civilized sparring. And Jane Austen's radiant wit sparkles as her characters dance a delicate quadrille of flirtation and intrigue, making this book the most superb comedy of manners of Regency England.   \n",
       "4                                                                                                                                                                                                                                                                                                                                                                                                                                                                                                                                                                                                   About three things I was absolutely positive.First, Edward was a vampire.Second, there was a part of him—and I didn't know how dominant that part might be—that thirsted for my blood.And third, I was unconditionally and irrevocably in love with him.Deeply seductive and extraordinarily suspenseful, Twilight is a love story with bite.   \n",
       "\n",
       "   bookRating  ratingCount  reviewCount        Genre  pageCount  \\\n",
       "0        4.32      6717635       176054  Young Adult        374   \n",
       "1        4.50      2668409        45724      Fantasy        870   \n",
       "2        4.28      4772918        95595     Classics        324   \n",
       "3        4.27      3206070        74020     Classics        279   \n",
       "4        3.61      5231000       107619  Young Adult        501   \n",
       "\n",
       "            Author lang  \n",
       "0  Suzanne Collins   en  \n",
       "1     J.K. Rowling   en  \n",
       "2       Harper Lee   en  \n",
       "3      Jane Austen   en  \n",
       "4  Stephenie Meyer   en  "
      ]
     },
     "execution_count": 3,
     "metadata": {},
     "output_type": "execute_result"
    }
   ],
   "source": [
    "df[\"lang\"] = df.bookDesc.apply(lambda x: detect(x))\n",
    "df.head()"
   ]
  },
  {
   "cell_type": "code",
   "execution_count": 4,
   "id": "f21aacce",
   "metadata": {},
   "outputs": [
    {
     "data": {
      "text/plain": [
       "en    9350\n",
       "ar      90\n",
       "es      82\n",
       "fr      54\n",
       "de      36\n",
       "id      35\n",
       "pt      21\n",
       "it      17\n",
       "tr      15\n",
       "fa      12\n",
       "pl      11\n",
       "nl       8\n",
       "ro       6\n",
       "bg       5\n",
       "ja       5\n",
       "hr       5\n",
       "no       3\n",
       "el       3\n",
       "ru       3\n",
       "fi       2\n",
       "cs       2\n",
       "ta       1\n",
       "sv       1\n",
       "sk       1\n",
       "uk       1\n",
       "af       1\n",
       "tl       1\n",
       "et       1\n",
       "Name: lang, dtype: int64"
      ]
     },
     "execution_count": 4,
     "metadata": {},
     "output_type": "execute_result"
    }
   ],
   "source": [
    "df.lang.value_counts()"
   ]
  },
  {
   "cell_type": "code",
   "execution_count": 5,
   "id": "8933fafd",
   "metadata": {},
   "outputs": [
    {
     "data": {
      "text/plain": [
       "8863"
      ]
     },
     "execution_count": 5,
     "metadata": {},
     "output_type": "execute_result"
    }
   ],
   "source": [
    "df_sub = df.loc[df.lang == \"en\"]\n",
    "df_sub.bookTitle.nunique()"
   ]
  },
  {
   "cell_type": "code",
   "execution_count": 6,
   "id": "d536eed5",
   "metadata": {},
   "outputs": [
    {
     "data": {
      "text/plain": [
       "487"
      ]
     },
     "execution_count": 6,
     "metadata": {},
     "output_type": "execute_result"
    }
   ],
   "source": [
    "9350- 8863"
   ]
  },
  {
   "cell_type": "markdown",
   "id": "3713db80",
   "metadata": {},
   "source": [
    "## EDA"
   ]
  },
  {
   "cell_type": "code",
   "execution_count": 7,
   "id": "10a49307",
   "metadata": {},
   "outputs": [
    {
     "name": "stdout",
     "output_type": "stream",
     "text": [
      "<class 'pandas.core.frame.DataFrame'>\n",
      "RangeIndex: 9772 entries, 0 to 9771\n",
      "Data columns (total 11 columns):\n",
      " #   Column       Non-Null Count  Dtype  \n",
      "---  ------       --------------  -----  \n",
      " 0   url          9772 non-null   object \n",
      " 1   bookTitle    9772 non-null   object \n",
      " 2   bookImage    9772 non-null   object \n",
      " 3   bookDesc     9772 non-null   object \n",
      " 4   bookRating   9772 non-null   float64\n",
      " 5   ratingCount  9772 non-null   int64  \n",
      " 6   reviewCount  9772 non-null   int64  \n",
      " 7   Genre        9772 non-null   object \n",
      " 8   pageCount    9772 non-null   int64  \n",
      " 9   Author       9772 non-null   object \n",
      " 10  lang         9772 non-null   object \n",
      "dtypes: float64(1), int64(3), object(7)\n",
      "memory usage: 839.9+ KB\n"
     ]
    }
   ],
   "source": [
    "df.info()"
   ]
  },
  {
   "cell_type": "code",
   "execution_count": 8,
   "id": "2742ede6",
   "metadata": {},
   "outputs": [
    {
     "data": {
      "text/plain": [
       "9272"
      ]
     },
     "execution_count": 8,
     "metadata": {},
     "output_type": "execute_result"
    }
   ],
   "source": [
    "df[\"bookTitle\"].nunique()"
   ]
  },
  {
   "cell_type": "code",
   "execution_count": 9,
   "id": "7effbf0a",
   "metadata": {
    "scrolled": true
   },
   "outputs": [
    {
     "data": {
      "text/plain": [
       "4140"
      ]
     },
     "execution_count": 9,
     "metadata": {},
     "output_type": "execute_result"
    }
   ],
   "source": [
    "df[\"Author\"].nunique()"
   ]
  },
  {
   "cell_type": "code",
   "execution_count": 10,
   "id": "61acc51f",
   "metadata": {},
   "outputs": [
    {
     "data": {
      "text/plain": [
       "46"
      ]
     },
     "execution_count": 10,
     "metadata": {},
     "output_type": "execute_result"
    }
   ],
   "source": [
    "df[\"Genre\"].nunique()"
   ]
  },
  {
   "cell_type": "code",
   "execution_count": 11,
   "id": "b4b31177",
   "metadata": {},
   "outputs": [
    {
     "data": {
      "text/plain": [
       "Fiction                          1861\n",
       "Fantasy                          1857\n",
       "Young Adult                      1042\n",
       "Romance                           650\n",
       "Classics                          559\n",
       "Historical-Historical Fiction     504\n",
       "Nonfiction                        425\n",
       "Science Fiction                   372\n",
       "Mystery                           320\n",
       "Horror                            227\n",
       "Religion                          178\n",
       "Sequential Art-Graphic Novels     176\n",
       "Fantasy-Paranormal                118\n",
       "Paranormal-Vampires               106\n",
       "Poetry                            101\n",
       "History                            98\n",
       "Thriller                           97\n",
       "Philosophy                         92\n",
       "Other                              89\n",
       "Romance-Paranormal Romance         88\n",
       "Womens Fiction-Chick Lit           69\n",
       "Childrens                          65\n",
       "Short Stories                      56\n",
       "New Adult                          46\n",
       "Science                            45\n",
       "Contemporary                       45\n",
       "Plays                              45\n",
       "Humor                              39\n",
       "Childrens-Picture Books            36\n",
       "Self Help                          34\n",
       "Dark                               32\n",
       "Psychology                         32\n",
       "Literature                         31\n",
       "Business                           29\n",
       "Autobiography-Memoir               28\n",
       "Biography                          26\n",
       "Art                                24\n",
       "Education                          21\n",
       "Paranormal-Angels                  20\n",
       "Culture                            15\n",
       "Politics                           15\n",
       "Travel                             14\n",
       "Adventure                          12\n",
       "LGBT                               12\n",
       "Epic                               11\n",
       "Sports                             10\n",
       "Name: Genre, dtype: int64"
      ]
     },
     "execution_count": 11,
     "metadata": {},
     "output_type": "execute_result"
    }
   ],
   "source": [
    "df[\"Genre\"].value_counts()"
   ]
  },
  {
   "cell_type": "code",
   "execution_count": null,
   "id": "7fae9ad9",
   "metadata": {},
   "outputs": [],
   "source": [
    "#review some for similarity\n",
    "dfNew.loc[dfNew.bookTitle == 'Fahrenheit 451']"
   ]
  },
  {
   "cell_type": "code",
   "execution_count": null,
   "id": "335f25b1",
   "metadata": {},
   "outputs": [],
   "source": [
    "dfNew.loc[dfNew.bookTitle == \"Apollyon\"]\n",
    "#different titles in data set"
   ]
  },
  {
   "cell_type": "code",
   "execution_count": null,
   "id": "f6b70d45",
   "metadata": {},
   "outputs": [],
   "source": [
    "dfNew.loc[dfNew.Author == \"J.K. Rowling\"]"
   ]
  },
  {
   "cell_type": "markdown",
   "id": "c375db41",
   "metadata": {},
   "source": [
    "### dataframe for analysis"
   ]
  },
  {
   "cell_type": "code",
   "execution_count": 13,
   "id": "e615066c",
   "metadata": {},
   "outputs": [
    {
     "data": {
      "text/html": [
       "<div>\n",
       "<style scoped>\n",
       "    .dataframe tbody tr th:only-of-type {\n",
       "        vertical-align: middle;\n",
       "    }\n",
       "\n",
       "    .dataframe tbody tr th {\n",
       "        vertical-align: top;\n",
       "    }\n",
       "\n",
       "    .dataframe thead th {\n",
       "        text-align: right;\n",
       "    }\n",
       "</style>\n",
       "<table border=\"1\" class=\"dataframe\">\n",
       "  <thead>\n",
       "    <tr style=\"text-align: right;\">\n",
       "      <th></th>\n",
       "      <th>bookTitle</th>\n",
       "      <th>bookDesc</th>\n",
       "      <th>Genre</th>\n",
       "      <th>Author</th>\n",
       "    </tr>\n",
       "  </thead>\n",
       "  <tbody>\n",
       "    <tr>\n",
       "      <th>0</th>\n",
       "      <td>The Hunger Games</td>\n",
       "      <td>Could you survive on your own in the wild, with every one out to make sure you don't live to see the morning?In the ruins of a place once known as North America lies the nation of Panem, a shining Capitol surrounded by twelve outlying districts. The Capitol is harsh and cruel and keeps the districts in line by forcing them all to send one boy and one girl between the ages of twelve and eighteen to participate in the annual Hunger Games, a fight to the death on live TV.Sixteen-year-old Katniss Everdeen, who lives alone with her mother and younger sister, regards it as a death sentence when she steps forward to take her sister's place in the Games. But Katniss has been close to dead before—and survival, for her, is second nature. Without really meaning to, she becomes a contender. But if she is to win, she will have to start making choices that weight survival against humanity and life against love.</td>\n",
       "      <td>Young Adult</td>\n",
       "      <td>Suzanne Collins</td>\n",
       "    </tr>\n",
       "    <tr>\n",
       "      <th>1</th>\n",
       "      <td>Harry Potter and the Order of the Phoenix</td>\n",
       "      <td>There is a door at the end of a silent corridor. And it’s haunting Harry Pottter’s dreams. Why else would he be waking in the middle of the night, screaming in terror?Harry has a lot on his mind for this, his fifth year at Hogwarts: a Defense Against the Dark Arts teacher with a personality like poisoned honey; a big surprise on the Gryffindor Quidditch team; and the looming terror of the Ordinary Wizarding Level exams. But all these things pale next to the growing threat of He-Who-Must-Not-Be-Named - a threat that neither the magical government nor the authorities at Hogwarts can stop.As the grasp of darkness tightens, Harry must discover the true depth and strength of his friends, the importance of boundless loyalty, and the shocking price of unbearable sacrifice.His fate depends on them all.</td>\n",
       "      <td>Fantasy</td>\n",
       "      <td>J.K. Rowling</td>\n",
       "    </tr>\n",
       "    <tr>\n",
       "      <th>2</th>\n",
       "      <td>To Kill a Mockingbird</td>\n",
       "      <td>The unforgettable novel of a childhood in a sleepy Southern town and the crisis of conscience that rocked it. \"To Kill A Mockingbird\" became both an instant bestseller and a critical success when it was first published in 1960. It went on to win the Pulitzer Prize in 1961 and was later made into an Academy Award-winning film, also a classic.Compassionate, dramatic, and deeply moving, \"To Kill A Mockingbird\" takes readers to the roots of human behavior - to innocence and experience, kindness and cruelty, love and hatred, humor and pathos. Now with over 18 million copies in print and translated into forty languages, this regional story by a young Alabama woman claims universal appeal. Harper Lee always considered her book to be a simple love story. Today it is regarded as a masterpiece of American literature.</td>\n",
       "      <td>Classics</td>\n",
       "      <td>Harper Lee</td>\n",
       "    </tr>\n",
       "    <tr>\n",
       "      <th>3</th>\n",
       "      <td>Pride and Prejudice</td>\n",
       "      <td>Alternate cover edition of ISBN 9780679783268Since its immediate success in 1813, Pride and Prejudice has remained one of the most popular novels in the English language. Jane Austen called this brilliant work \"her own darling child\" and its vivacious heroine, Elizabeth Bennet, \"as delightful a creature as ever appeared in print.\" The romantic clash between the opinionated Elizabeth and her proud beau, Mr. Darcy, is a splendid performance of civilized sparring. And Jane Austen's radiant wit sparkles as her characters dance a delicate quadrille of flirtation and intrigue, making this book the most superb comedy of manners of Regency England.</td>\n",
       "      <td>Classics</td>\n",
       "      <td>Jane Austen</td>\n",
       "    </tr>\n",
       "    <tr>\n",
       "      <th>4</th>\n",
       "      <td>Twilight</td>\n",
       "      <td>About three things I was absolutely positive.First, Edward was a vampire.Second, there was a part of him—and I didn't know how dominant that part might be—that thirsted for my blood.And third, I was unconditionally and irrevocably in love with him.Deeply seductive and extraordinarily suspenseful, Twilight is a love story with bite.</td>\n",
       "      <td>Young Adult</td>\n",
       "      <td>Stephenie Meyer</td>\n",
       "    </tr>\n",
       "  </tbody>\n",
       "</table>\n",
       "</div>"
      ],
      "text/plain": [
       "                                   bookTitle  \\\n",
       "0                           The Hunger Games   \n",
       "1  Harry Potter and the Order of the Phoenix   \n",
       "2                      To Kill a Mockingbird   \n",
       "3                        Pride and Prejudice   \n",
       "4                                   Twilight   \n",
       "\n",
       "                                                                                                                                                                                                                                                                                                                                                                                                                                                                                                                                                                                                                                                                                                                                                                                                                                                                                                                                         bookDesc  \\\n",
       "0  Could you survive on your own in the wild, with every one out to make sure you don't live to see the morning?In the ruins of a place once known as North America lies the nation of Panem, a shining Capitol surrounded by twelve outlying districts. The Capitol is harsh and cruel and keeps the districts in line by forcing them all to send one boy and one girl between the ages of twelve and eighteen to participate in the annual Hunger Games, a fight to the death on live TV.Sixteen-year-old Katniss Everdeen, who lives alone with her mother and younger sister, regards it as a death sentence when she steps forward to take her sister's place in the Games. But Katniss has been close to dead before—and survival, for her, is second nature. Without really meaning to, she becomes a contender. But if she is to win, she will have to start making choices that weight survival against humanity and life against love.   \n",
       "1                                                                                                           There is a door at the end of a silent corridor. And it’s haunting Harry Pottter’s dreams. Why else would he be waking in the middle of the night, screaming in terror?Harry has a lot on his mind for this, his fifth year at Hogwarts: a Defense Against the Dark Arts teacher with a personality like poisoned honey; a big surprise on the Gryffindor Quidditch team; and the looming terror of the Ordinary Wizarding Level exams. But all these things pale next to the growing threat of He-Who-Must-Not-Be-Named - a threat that neither the magical government nor the authorities at Hogwarts can stop.As the grasp of darkness tightens, Harry must discover the true depth and strength of his friends, the importance of boundless loyalty, and the shocking price of unbearable sacrifice.His fate depends on them all.   \n",
       "2                                                                                              The unforgettable novel of a childhood in a sleepy Southern town and the crisis of conscience that rocked it. \"To Kill A Mockingbird\" became both an instant bestseller and a critical success when it was first published in 1960. It went on to win the Pulitzer Prize in 1961 and was later made into an Academy Award-winning film, also a classic.Compassionate, dramatic, and deeply moving, \"To Kill A Mockingbird\" takes readers to the roots of human behavior - to innocence and experience, kindness and cruelty, love and hatred, humor and pathos. Now with over 18 million copies in print and translated into forty languages, this regional story by a young Alabama woman claims universal appeal. Harper Lee always considered her book to be a simple love story. Today it is regarded as a masterpiece of American literature.   \n",
       "3                                                                                                                                                                                                                                                                        Alternate cover edition of ISBN 9780679783268Since its immediate success in 1813, Pride and Prejudice has remained one of the most popular novels in the English language. Jane Austen called this brilliant work \"her own darling child\" and its vivacious heroine, Elizabeth Bennet, \"as delightful a creature as ever appeared in print.\" The romantic clash between the opinionated Elizabeth and her proud beau, Mr. Darcy, is a splendid performance of civilized sparring. And Jane Austen's radiant wit sparkles as her characters dance a delicate quadrille of flirtation and intrigue, making this book the most superb comedy of manners of Regency England.   \n",
       "4                                                                                                                                                                                                                                                                                                                                                                                                                                                                                                                                                                                                   About three things I was absolutely positive.First, Edward was a vampire.Second, there was a part of him—and I didn't know how dominant that part might be—that thirsted for my blood.And third, I was unconditionally and irrevocably in love with him.Deeply seductive and extraordinarily suspenseful, Twilight is a love story with bite.   \n",
       "\n",
       "         Genre           Author  \n",
       "0  Young Adult  Suzanne Collins  \n",
       "1      Fantasy     J.K. Rowling  \n",
       "2     Classics       Harper Lee  \n",
       "3     Classics      Jane Austen  \n",
       "4  Young Adult  Stephenie Meyer  "
      ]
     },
     "execution_count": 13,
     "metadata": {},
     "output_type": "execute_result"
    }
   ],
   "source": [
    "#copy book title, book description, genre, and author\n",
    "dfNew = df[[\"bookTitle\", \"bookDesc\", \"Genre\", \"Author\"]].copy()\n",
    "dfNew.head()"
   ]
  },
  {
   "cell_type": "code",
   "execution_count": 14,
   "id": "f328232e",
   "metadata": {},
   "outputs": [
    {
     "name": "stdout",
     "output_type": "stream",
     "text": [
      "<class 'pandas.core.frame.DataFrame'>\n",
      "RangeIndex: 9772 entries, 0 to 9771\n",
      "Data columns (total 4 columns):\n",
      " #   Column     Non-Null Count  Dtype \n",
      "---  ------     --------------  ----- \n",
      " 0   bookTitle  9772 non-null   object\n",
      " 1   bookDesc   9772 non-null   object\n",
      " 2   Genre      9772 non-null   object\n",
      " 3   Author     9772 non-null   object\n",
      "dtypes: object(4)\n",
      "memory usage: 305.5+ KB\n"
     ]
    }
   ],
   "source": [
    "dfNew.info()"
   ]
  },
  {
   "cell_type": "code",
   "execution_count": null,
   "id": "0427c489",
   "metadata": {},
   "outputs": [],
   "source": []
  },
  {
   "cell_type": "markdown",
   "id": "1755e293",
   "metadata": {},
   "source": [
    "## Data Processing and Bag of Words"
   ]
  },
  {
   "cell_type": "code",
   "execution_count": 16,
   "id": "189cac81",
   "metadata": {},
   "outputs": [
    {
     "data": {
      "text/html": [
       "<div>\n",
       "<style scoped>\n",
       "    .dataframe tbody tr th:only-of-type {\n",
       "        vertical-align: middle;\n",
       "    }\n",
       "\n",
       "    .dataframe tbody tr th {\n",
       "        vertical-align: top;\n",
       "    }\n",
       "\n",
       "    .dataframe thead th {\n",
       "        text-align: right;\n",
       "    }\n",
       "</style>\n",
       "<table border=\"1\" class=\"dataframe\">\n",
       "  <thead>\n",
       "    <tr style=\"text-align: right;\">\n",
       "      <th></th>\n",
       "      <th>bookTitle</th>\n",
       "      <th>bookDesc</th>\n",
       "      <th>Genre</th>\n",
       "      <th>Author</th>\n",
       "      <th>Key_words</th>\n",
       "      <th>bookTitle_key</th>\n",
       "    </tr>\n",
       "  </thead>\n",
       "  <tbody>\n",
       "    <tr>\n",
       "      <th>0</th>\n",
       "      <td>The Hunger Games</td>\n",
       "      <td>Could you survive on your own in the wild, with every one out to make sure you don't live to see the morning?In the ruins of a place once known as North America lies the nation of Panem, a shining Capitol surrounded by twelve outlying districts. The Capitol is harsh and cruel and keeps the districts in line by forcing them all to send one boy and one girl between the ages of twelve and eighteen to participate in the annual Hunger Games, a fight to the death on live TV.Sixteen-year-old Katniss Everdeen, who lives alone with her mother and younger sister, regards it as a death sentence when she steps forward to take her sister's place in the Games. But Katniss has been close to dead before—and survival, for her, is second nature. Without really meaning to, she becomes a contender. But if she is to win, she will have to start making choices that weight survival against humanity and life against love.</td>\n",
       "      <td>Young Adult</td>\n",
       "      <td>Suzanne Collins</td>\n",
       "      <td>[could, survive, wild, every, one, make, sure, live, see, morning, ruins, place, known, north, america, lies, nation, panem, shining, capitol, surrounded, twelve, outlying, districts, harsh, cruel, keeps, line, forcing, send, boy, girl, ages, eighteen, participate, annual, hunger, games, fight, death, tv, sixteen, year, old, katniss, everdeen, lives, alone, mother, younger, sister, regards, sentence, steps, forward, take, close, dead, —, survival, second, nature, without, really, meaning, becomes, contender, win, start, making, choices, weight, humanity, life, love]</td>\n",
       "      <td>[hunger, games]</td>\n",
       "    </tr>\n",
       "    <tr>\n",
       "      <th>1</th>\n",
       "      <td>Harry Potter and the Order of the Phoenix</td>\n",
       "      <td>There is a door at the end of a silent corridor. And it’s haunting Harry Pottter’s dreams. Why else would he be waking in the middle of the night, screaming in terror?Harry has a lot on his mind for this, his fifth year at Hogwarts: a Defense Against the Dark Arts teacher with a personality like poisoned honey; a big surprise on the Gryffindor Quidditch team; and the looming terror of the Ordinary Wizarding Level exams. But all these things pale next to the growing threat of He-Who-Must-Not-Be-Named - a threat that neither the magical government nor the authorities at Hogwarts can stop.As the grasp of darkness tightens, Harry must discover the true depth and strength of his friends, the importance of boundless loyalty, and the shocking price of unbearable sacrifice.His fate depends on them all.</td>\n",
       "      <td>Fantasy</td>\n",
       "      <td>J.K. Rowling</td>\n",
       "      <td>[door, end, silent, corridor, ’, haunting, harry, pottter, dreams, else, would, waking, middle, night, screaming, terror, lot, mind, fifth, year, hogwarts, defense, dark, arts, teacher, personality, like, poisoned, honey, big, surprise, gryffindor, quidditch, team, looming, ordinary, wizarding, level, exams, things, pale, next, growing, threat, must, named, neither, magical, government, authorities, stop, grasp, darkness, tightens, discover, true, depth, strength, friends, importance, boundless, loyalty, shocking, price, unbearable, sacrifice, fate, depends]</td>\n",
       "      <td>[harry, potter, order, phoenix]</td>\n",
       "    </tr>\n",
       "    <tr>\n",
       "      <th>2</th>\n",
       "      <td>To Kill a Mockingbird</td>\n",
       "      <td>The unforgettable novel of a childhood in a sleepy Southern town and the crisis of conscience that rocked it. \"To Kill A Mockingbird\" became both an instant bestseller and a critical success when it was first published in 1960. It went on to win the Pulitzer Prize in 1961 and was later made into an Academy Award-winning film, also a classic.Compassionate, dramatic, and deeply moving, \"To Kill A Mockingbird\" takes readers to the roots of human behavior - to innocence and experience, kindness and cruelty, love and hatred, humor and pathos. Now with over 18 million copies in print and translated into forty languages, this regional story by a young Alabama woman claims universal appeal. Harper Lee always considered her book to be a simple love story. Today it is regarded as a masterpiece of American literature.</td>\n",
       "      <td>Classics</td>\n",
       "      <td>Harper Lee</td>\n",
       "      <td>[unforgettable, novel, childhood, sleepy, southern, town, crisis, conscience, rocked, kill, mockingbird, became, instant, bestseller, critical, success, first, published, 1960, went, win, pulitzer, prize, 1961, later, made, academy, award, winning, film, also, classic, compassionate, dramatic, deeply, moving, takes, readers, roots, human, behavior, innocence, experience, kindness, cruelty, love, hatred, humor, pathos, 18, million, copies, print, translated, forty, languages, regional, story, young, alabama, woman, claims, universal, appeal, harper, lee, always, considered, book, simple, today, regarded, masterpiece, american, literature]</td>\n",
       "      <td>[kill, mockingbird]</td>\n",
       "    </tr>\n",
       "    <tr>\n",
       "      <th>3</th>\n",
       "      <td>Pride and Prejudice</td>\n",
       "      <td>Alternate cover edition of ISBN 9780679783268Since its immediate success in 1813, Pride and Prejudice has remained one of the most popular novels in the English language. Jane Austen called this brilliant work \"her own darling child\" and its vivacious heroine, Elizabeth Bennet, \"as delightful a creature as ever appeared in print.\" The romantic clash between the opinionated Elizabeth and her proud beau, Mr. Darcy, is a splendid performance of civilized sparring. And Jane Austen's radiant wit sparkles as her characters dance a delicate quadrille of flirtation and intrigue, making this book the most superb comedy of manners of Regency England.</td>\n",
       "      <td>Classics</td>\n",
       "      <td>Jane Austen</td>\n",
       "      <td>[alternate, cover, edition, isbn, 9780679783268since, immediate, success, 1813, pride, prejudice, remained, one, popular, novels, english, language, jane, austen, called, brilliant, work, darling, child, vivacious, heroine, elizabeth, bennet, delightful, creature, ever, appeared, print, .\", romantic, clash, opinionated, proud, beau, mr, darcy, splendid, performance, civilized, sparring, radiant, wit, sparkles, characters, dance, delicate, quadrille, flirtation, intrigue, making, book, superb, comedy, manners, regency, england]</td>\n",
       "      <td>[pride, prejudice]</td>\n",
       "    </tr>\n",
       "    <tr>\n",
       "      <th>4</th>\n",
       "      <td>Twilight</td>\n",
       "      <td>About three things I was absolutely positive.First, Edward was a vampire.Second, there was a part of him—and I didn't know how dominant that part might be—that thirsted for my blood.And third, I was unconditionally and irrevocably in love with him.Deeply seductive and extraordinarily suspenseful, Twilight is a love story with bite.</td>\n",
       "      <td>Young Adult</td>\n",
       "      <td>Stephenie Meyer</td>\n",
       "      <td>[three, things, absolutely, positive, first, edward, vampire, second, part, —, know, dominant, might, thirsted, blood, third, unconditionally, irrevocably, love, deeply, seductive, extraordinarily, suspenseful, twilight, story, bite]</td>\n",
       "      <td>[twilight]</td>\n",
       "    </tr>\n",
       "  </tbody>\n",
       "</table>\n",
       "</div>"
      ],
      "text/plain": [
       "                                   bookTitle  \\\n",
       "0                           The Hunger Games   \n",
       "1  Harry Potter and the Order of the Phoenix   \n",
       "2                      To Kill a Mockingbird   \n",
       "3                        Pride and Prejudice   \n",
       "4                                   Twilight   \n",
       "\n",
       "                                                                                                                                                                                                                                                                                                                                                                                                                                                                                                                                                                                                                                                                                                                                                                                                                                                                                                                                         bookDesc  \\\n",
       "0  Could you survive on your own in the wild, with every one out to make sure you don't live to see the morning?In the ruins of a place once known as North America lies the nation of Panem, a shining Capitol surrounded by twelve outlying districts. The Capitol is harsh and cruel and keeps the districts in line by forcing them all to send one boy and one girl between the ages of twelve and eighteen to participate in the annual Hunger Games, a fight to the death on live TV.Sixteen-year-old Katniss Everdeen, who lives alone with her mother and younger sister, regards it as a death sentence when she steps forward to take her sister's place in the Games. But Katniss has been close to dead before—and survival, for her, is second nature. Without really meaning to, she becomes a contender. But if she is to win, she will have to start making choices that weight survival against humanity and life against love.   \n",
       "1                                                                                                           There is a door at the end of a silent corridor. And it’s haunting Harry Pottter’s dreams. Why else would he be waking in the middle of the night, screaming in terror?Harry has a lot on his mind for this, his fifth year at Hogwarts: a Defense Against the Dark Arts teacher with a personality like poisoned honey; a big surprise on the Gryffindor Quidditch team; and the looming terror of the Ordinary Wizarding Level exams. But all these things pale next to the growing threat of He-Who-Must-Not-Be-Named - a threat that neither the magical government nor the authorities at Hogwarts can stop.As the grasp of darkness tightens, Harry must discover the true depth and strength of his friends, the importance of boundless loyalty, and the shocking price of unbearable sacrifice.His fate depends on them all.   \n",
       "2                                                                                              The unforgettable novel of a childhood in a sleepy Southern town and the crisis of conscience that rocked it. \"To Kill A Mockingbird\" became both an instant bestseller and a critical success when it was first published in 1960. It went on to win the Pulitzer Prize in 1961 and was later made into an Academy Award-winning film, also a classic.Compassionate, dramatic, and deeply moving, \"To Kill A Mockingbird\" takes readers to the roots of human behavior - to innocence and experience, kindness and cruelty, love and hatred, humor and pathos. Now with over 18 million copies in print and translated into forty languages, this regional story by a young Alabama woman claims universal appeal. Harper Lee always considered her book to be a simple love story. Today it is regarded as a masterpiece of American literature.   \n",
       "3                                                                                                                                                                                                                                                                        Alternate cover edition of ISBN 9780679783268Since its immediate success in 1813, Pride and Prejudice has remained one of the most popular novels in the English language. Jane Austen called this brilliant work \"her own darling child\" and its vivacious heroine, Elizabeth Bennet, \"as delightful a creature as ever appeared in print.\" The romantic clash between the opinionated Elizabeth and her proud beau, Mr. Darcy, is a splendid performance of civilized sparring. And Jane Austen's radiant wit sparkles as her characters dance a delicate quadrille of flirtation and intrigue, making this book the most superb comedy of manners of Regency England.   \n",
       "4                                                                                                                                                                                                                                                                                                                                                                                                                                                                                                                                                                                                   About three things I was absolutely positive.First, Edward was a vampire.Second, there was a part of him—and I didn't know how dominant that part might be—that thirsted for my blood.And third, I was unconditionally and irrevocably in love with him.Deeply seductive and extraordinarily suspenseful, Twilight is a love story with bite.   \n",
       "\n",
       "         Genre           Author  \\\n",
       "0  Young Adult  Suzanne Collins   \n",
       "1      Fantasy     J.K. Rowling   \n",
       "2     Classics       Harper Lee   \n",
       "3     Classics      Jane Austen   \n",
       "4  Young Adult  Stephenie Meyer   \n",
       "\n",
       "                                                                                                                                                                                                                                                                                                                                                                                                                                                                                                                                                                                                                                                               Key_words  \\\n",
       "0                                                                           [could, survive, wild, every, one, make, sure, live, see, morning, ruins, place, known, north, america, lies, nation, panem, shining, capitol, surrounded, twelve, outlying, districts, harsh, cruel, keeps, line, forcing, send, boy, girl, ages, eighteen, participate, annual, hunger, games, fight, death, tv, sixteen, year, old, katniss, everdeen, lives, alone, mother, younger, sister, regards, sentence, steps, forward, take, close, dead, —, survival, second, nature, without, really, meaning, becomes, contender, win, start, making, choices, weight, humanity, life, love]   \n",
       "1                                                                                   [door, end, silent, corridor, ’, haunting, harry, pottter, dreams, else, would, waking, middle, night, screaming, terror, lot, mind, fifth, year, hogwarts, defense, dark, arts, teacher, personality, like, poisoned, honey, big, surprise, gryffindor, quidditch, team, looming, ordinary, wizarding, level, exams, things, pale, next, growing, threat, must, named, neither, magical, government, authorities, stop, grasp, darkness, tightens, discover, true, depth, strength, friends, importance, boundless, loyalty, shocking, price, unbearable, sacrifice, fate, depends]   \n",
       "2  [unforgettable, novel, childhood, sleepy, southern, town, crisis, conscience, rocked, kill, mockingbird, became, instant, bestseller, critical, success, first, published, 1960, went, win, pulitzer, prize, 1961, later, made, academy, award, winning, film, also, classic, compassionate, dramatic, deeply, moving, takes, readers, roots, human, behavior, innocence, experience, kindness, cruelty, love, hatred, humor, pathos, 18, million, copies, print, translated, forty, languages, regional, story, young, alabama, woman, claims, universal, appeal, harper, lee, always, considered, book, simple, today, regarded, masterpiece, american, literature]   \n",
       "3                                                                                                                   [alternate, cover, edition, isbn, 9780679783268since, immediate, success, 1813, pride, prejudice, remained, one, popular, novels, english, language, jane, austen, called, brilliant, work, darling, child, vivacious, heroine, elizabeth, bennet, delightful, creature, ever, appeared, print, .\", romantic, clash, opinionated, proud, beau, mr, darcy, splendid, performance, civilized, sparring, radiant, wit, sparkles, characters, dance, delicate, quadrille, flirtation, intrigue, making, book, superb, comedy, manners, regency, england]   \n",
       "4                                                                                                                                                                                                                                                                                                                                                                                                                              [three, things, absolutely, positive, first, edward, vampire, second, part, —, know, dominant, might, thirsted, blood, third, unconditionally, irrevocably, love, deeply, seductive, extraordinarily, suspenseful, twilight, story, bite]   \n",
       "\n",
       "                     bookTitle_key  \n",
       "0                  [hunger, games]  \n",
       "1  [harry, potter, order, phoenix]  \n",
       "2              [kill, mockingbird]  \n",
       "3               [pride, prejudice]  \n",
       "4                       [twilight]  "
      ]
     },
     "execution_count": 16,
     "metadata": {},
     "output_type": "execute_result"
    }
   ],
   "source": [
    "#data pre-processing to remove stop words, punctuation, white space, and convert all words to lower case from book Description\n",
    "df_new = dfNew.copy()\n",
    "df_new['Key_words'] = ''\n",
    "df_new['bookTitle_key'] = ''\n",
    "r = Rake()\n",
    "\n",
    "for index, row in df_new.iterrows():\n",
    "    r.extract_keywords_from_text(row['bookDesc'])\n",
    "    key_words_dict_scores = r.get_word_degrees()\n",
    "    row['Key_words'] = list(key_words_dict_scores.keys())\n",
    "\n",
    "    r.extract_keywords_from_text(row['bookTitle'])\n",
    "    key_words_dict_scores = r.get_word_degrees()\n",
    "    row['bookTitle_key'] = list(key_words_dict_scores.keys())\n",
    "    \n",
    "    \n",
    "df_new.head()"
   ]
  },
  {
   "cell_type": "code",
   "execution_count": 17,
   "id": "1f215585",
   "metadata": {},
   "outputs": [],
   "source": [
    "#DROP SYMBOLS"
   ]
  },
  {
   "cell_type": "code",
   "execution_count": 18,
   "id": "650d47a9",
   "metadata": {},
   "outputs": [
    {
     "data": {
      "text/html": [
       "<div>\n",
       "<style scoped>\n",
       "    .dataframe tbody tr th:only-of-type {\n",
       "        vertical-align: middle;\n",
       "    }\n",
       "\n",
       "    .dataframe tbody tr th {\n",
       "        vertical-align: top;\n",
       "    }\n",
       "\n",
       "    .dataframe thead th {\n",
       "        text-align: right;\n",
       "    }\n",
       "</style>\n",
       "<table border=\"1\" class=\"dataframe\">\n",
       "  <thead>\n",
       "    <tr style=\"text-align: right;\">\n",
       "      <th></th>\n",
       "      <th>bookTitle</th>\n",
       "      <th>bookDesc</th>\n",
       "      <th>Genre</th>\n",
       "      <th>Author</th>\n",
       "      <th>Key_words</th>\n",
       "      <th>bookTitle_key</th>\n",
       "    </tr>\n",
       "  </thead>\n",
       "  <tbody>\n",
       "    <tr>\n",
       "      <th>0</th>\n",
       "      <td>The Hunger Games</td>\n",
       "      <td>Could you survive on your own in the wild, with every one out to make sure you don't live to see the morning?In the ruins of a place once known as North America lies the nation of Panem, a shining Capitol surrounded by twelve outlying districts. The Capitol is harsh and cruel and keeps the districts in line by forcing them all to send one boy and one girl between the ages of twelve and eighteen to participate in the annual Hunger Games, a fight to the death on live TV.Sixteen-year-old Katniss Everdeen, who lives alone with her mother and younger sister, regards it as a death sentence when she steps forward to take her sister's place in the Games. But Katniss has been close to dead before—and survival, for her, is second nature. Without really meaning to, she becomes a contender. But if she is to win, she will have to start making choices that weight survival against humanity and life against love.</td>\n",
       "      <td>Young Adult</td>\n",
       "      <td>Suzanne Collins</td>\n",
       "      <td>[could, survive, wild, every, one, make, sure, live, see, morning, ruins, place, known, north, america, lies, nation, panem, shining, capitol, surrounded, twelve, outlying, districts, harsh, cruel, keeps, line, forcing, send, boy, girl, ages, eighteen, participate, annual, hunger, games, fight, death, tv, sixteen, year, old, katniss, everdeen, lives, alone, mother, younger, sister, regards, sentence, steps, forward, take, close, dead, —, survival, second, nature, without, really, meaning, becomes, contender, win, start, making, choices, weight, humanity, life, love]</td>\n",
       "      <td>[hunger, games]</td>\n",
       "    </tr>\n",
       "    <tr>\n",
       "      <th>1</th>\n",
       "      <td>Harry Potter and the Order of the Phoenix</td>\n",
       "      <td>There is a door at the end of a silent corridor. And it’s haunting Harry Pottter’s dreams. Why else would he be waking in the middle of the night, screaming in terror?Harry has a lot on his mind for this, his fifth year at Hogwarts: a Defense Against the Dark Arts teacher with a personality like poisoned honey; a big surprise on the Gryffindor Quidditch team; and the looming terror of the Ordinary Wizarding Level exams. But all these things pale next to the growing threat of He-Who-Must-Not-Be-Named - a threat that neither the magical government nor the authorities at Hogwarts can stop.As the grasp of darkness tightens, Harry must discover the true depth and strength of his friends, the importance of boundless loyalty, and the shocking price of unbearable sacrifice.His fate depends on them all.</td>\n",
       "      <td>Fantasy</td>\n",
       "      <td>J.K. Rowling</td>\n",
       "      <td>[door, end, silent, corridor, ’, haunting, harry, pottter, dreams, else, would, waking, middle, night, screaming, terror, lot, mind, fifth, year, hogwarts, defense, dark, arts, teacher, personality, like, poisoned, honey, big, surprise, gryffindor, quidditch, team, looming, ordinary, wizarding, level, exams, things, pale, next, growing, threat, must, named, neither, magical, government, authorities, stop, grasp, darkness, tightens, discover, true, depth, strength, friends, importance, boundless, loyalty, shocking, price, unbearable, sacrifice, fate, depends]</td>\n",
       "      <td>[harry, potter, order, phoenix]</td>\n",
       "    </tr>\n",
       "    <tr>\n",
       "      <th>2</th>\n",
       "      <td>To Kill a Mockingbird</td>\n",
       "      <td>The unforgettable novel of a childhood in a sleepy Southern town and the crisis of conscience that rocked it. \"To Kill A Mockingbird\" became both an instant bestseller and a critical success when it was first published in 1960. It went on to win the Pulitzer Prize in 1961 and was later made into an Academy Award-winning film, also a classic.Compassionate, dramatic, and deeply moving, \"To Kill A Mockingbird\" takes readers to the roots of human behavior - to innocence and experience, kindness and cruelty, love and hatred, humor and pathos. Now with over 18 million copies in print and translated into forty languages, this regional story by a young Alabama woman claims universal appeal. Harper Lee always considered her book to be a simple love story. Today it is regarded as a masterpiece of American literature.</td>\n",
       "      <td>Classics</td>\n",
       "      <td>Harper Lee</td>\n",
       "      <td>[unforgettable, novel, childhood, sleepy, southern, town, crisis, conscience, rocked, kill, mockingbird, became, instant, bestseller, critical, success, first, published, 1960, went, win, pulitzer, prize, 1961, later, made, academy, award, winning, film, also, classic, compassionate, dramatic, deeply, moving, takes, readers, roots, human, behavior, innocence, experience, kindness, cruelty, love, hatred, humor, pathos, 18, million, copies, print, translated, forty, languages, regional, story, young, alabama, woman, claims, universal, appeal, harper, lee, always, considered, book, simple, today, regarded, masterpiece, american, literature]</td>\n",
       "      <td>[kill, mockingbird]</td>\n",
       "    </tr>\n",
       "    <tr>\n",
       "      <th>3</th>\n",
       "      <td>Pride and Prejudice</td>\n",
       "      <td>Alternate cover edition of ISBN 9780679783268Since its immediate success in 1813, Pride and Prejudice has remained one of the most popular novels in the English language. Jane Austen called this brilliant work \"her own darling child\" and its vivacious heroine, Elizabeth Bennet, \"as delightful a creature as ever appeared in print.\" The romantic clash between the opinionated Elizabeth and her proud beau, Mr. Darcy, is a splendid performance of civilized sparring. And Jane Austen's radiant wit sparkles as her characters dance a delicate quadrille of flirtation and intrigue, making this book the most superb comedy of manners of Regency England.</td>\n",
       "      <td>Classics</td>\n",
       "      <td>Jane Austen</td>\n",
       "      <td>[alternate, cover, edition, isbn, 9780679783268since, immediate, success, 1813, pride, prejudice, remained, one, popular, novels, english, language, jane, austen, called, brilliant, work, darling, child, vivacious, heroine, elizabeth, bennet, delightful, creature, ever, appeared, print, .\", romantic, clash, opinionated, proud, beau, mr, darcy, splendid, performance, civilized, sparring, radiant, wit, sparkles, characters, dance, delicate, quadrille, flirtation, intrigue, making, book, superb, comedy, manners, regency, england]</td>\n",
       "      <td>[pride, prejudice]</td>\n",
       "    </tr>\n",
       "    <tr>\n",
       "      <th>4</th>\n",
       "      <td>Twilight</td>\n",
       "      <td>About three things I was absolutely positive.First, Edward was a vampire.Second, there was a part of him—and I didn't know how dominant that part might be—that thirsted for my blood.And third, I was unconditionally and irrevocably in love with him.Deeply seductive and extraordinarily suspenseful, Twilight is a love story with bite.</td>\n",
       "      <td>Young Adult</td>\n",
       "      <td>Stephenie Meyer</td>\n",
       "      <td>[three, things, absolutely, positive, first, edward, vampire, second, part, —, know, dominant, might, thirsted, blood, third, unconditionally, irrevocably, love, deeply, seductive, extraordinarily, suspenseful, twilight, story, bite]</td>\n",
       "      <td>[twilight]</td>\n",
       "    </tr>\n",
       "  </tbody>\n",
       "</table>\n",
       "</div>"
      ],
      "text/plain": [
       "                                   bookTitle  \\\n",
       "0                           The Hunger Games   \n",
       "1  Harry Potter and the Order of the Phoenix   \n",
       "2                      To Kill a Mockingbird   \n",
       "3                        Pride and Prejudice   \n",
       "4                                   Twilight   \n",
       "\n",
       "                                                                                                                                                                                                                                                                                                                                                                                                                                                                                                                                                                                                                                                                                                                                                                                                                                                                                                                                         bookDesc  \\\n",
       "0  Could you survive on your own in the wild, with every one out to make sure you don't live to see the morning?In the ruins of a place once known as North America lies the nation of Panem, a shining Capitol surrounded by twelve outlying districts. The Capitol is harsh and cruel and keeps the districts in line by forcing them all to send one boy and one girl between the ages of twelve and eighteen to participate in the annual Hunger Games, a fight to the death on live TV.Sixteen-year-old Katniss Everdeen, who lives alone with her mother and younger sister, regards it as a death sentence when she steps forward to take her sister's place in the Games. But Katniss has been close to dead before—and survival, for her, is second nature. Without really meaning to, she becomes a contender. But if she is to win, she will have to start making choices that weight survival against humanity and life against love.   \n",
       "1                                                                                                           There is a door at the end of a silent corridor. And it’s haunting Harry Pottter’s dreams. Why else would he be waking in the middle of the night, screaming in terror?Harry has a lot on his mind for this, his fifth year at Hogwarts: a Defense Against the Dark Arts teacher with a personality like poisoned honey; a big surprise on the Gryffindor Quidditch team; and the looming terror of the Ordinary Wizarding Level exams. But all these things pale next to the growing threat of He-Who-Must-Not-Be-Named - a threat that neither the magical government nor the authorities at Hogwarts can stop.As the grasp of darkness tightens, Harry must discover the true depth and strength of his friends, the importance of boundless loyalty, and the shocking price of unbearable sacrifice.His fate depends on them all.   \n",
       "2                                                                                              The unforgettable novel of a childhood in a sleepy Southern town and the crisis of conscience that rocked it. \"To Kill A Mockingbird\" became both an instant bestseller and a critical success when it was first published in 1960. It went on to win the Pulitzer Prize in 1961 and was later made into an Academy Award-winning film, also a classic.Compassionate, dramatic, and deeply moving, \"To Kill A Mockingbird\" takes readers to the roots of human behavior - to innocence and experience, kindness and cruelty, love and hatred, humor and pathos. Now with over 18 million copies in print and translated into forty languages, this regional story by a young Alabama woman claims universal appeal. Harper Lee always considered her book to be a simple love story. Today it is regarded as a masterpiece of American literature.   \n",
       "3                                                                                                                                                                                                                                                                        Alternate cover edition of ISBN 9780679783268Since its immediate success in 1813, Pride and Prejudice has remained one of the most popular novels in the English language. Jane Austen called this brilliant work \"her own darling child\" and its vivacious heroine, Elizabeth Bennet, \"as delightful a creature as ever appeared in print.\" The romantic clash between the opinionated Elizabeth and her proud beau, Mr. Darcy, is a splendid performance of civilized sparring. And Jane Austen's radiant wit sparkles as her characters dance a delicate quadrille of flirtation and intrigue, making this book the most superb comedy of manners of Regency England.   \n",
       "4                                                                                                                                                                                                                                                                                                                                                                                                                                                                                                                                                                                                   About three things I was absolutely positive.First, Edward was a vampire.Second, there was a part of him—and I didn't know how dominant that part might be—that thirsted for my blood.And third, I was unconditionally and irrevocably in love with him.Deeply seductive and extraordinarily suspenseful, Twilight is a love story with bite.   \n",
       "\n",
       "         Genre           Author  \\\n",
       "0  Young Adult  Suzanne Collins   \n",
       "1      Fantasy     J.K. Rowling   \n",
       "2     Classics       Harper Lee   \n",
       "3     Classics      Jane Austen   \n",
       "4  Young Adult  Stephenie Meyer   \n",
       "\n",
       "                                                                                                                                                                                                                                                                                                                                                                                                                                                                                                                                                                                                                                                               Key_words  \\\n",
       "0                                                                           [could, survive, wild, every, one, make, sure, live, see, morning, ruins, place, known, north, america, lies, nation, panem, shining, capitol, surrounded, twelve, outlying, districts, harsh, cruel, keeps, line, forcing, send, boy, girl, ages, eighteen, participate, annual, hunger, games, fight, death, tv, sixteen, year, old, katniss, everdeen, lives, alone, mother, younger, sister, regards, sentence, steps, forward, take, close, dead, —, survival, second, nature, without, really, meaning, becomes, contender, win, start, making, choices, weight, humanity, life, love]   \n",
       "1                                                                                   [door, end, silent, corridor, ’, haunting, harry, pottter, dreams, else, would, waking, middle, night, screaming, terror, lot, mind, fifth, year, hogwarts, defense, dark, arts, teacher, personality, like, poisoned, honey, big, surprise, gryffindor, quidditch, team, looming, ordinary, wizarding, level, exams, things, pale, next, growing, threat, must, named, neither, magical, government, authorities, stop, grasp, darkness, tightens, discover, true, depth, strength, friends, importance, boundless, loyalty, shocking, price, unbearable, sacrifice, fate, depends]   \n",
       "2  [unforgettable, novel, childhood, sleepy, southern, town, crisis, conscience, rocked, kill, mockingbird, became, instant, bestseller, critical, success, first, published, 1960, went, win, pulitzer, prize, 1961, later, made, academy, award, winning, film, also, classic, compassionate, dramatic, deeply, moving, takes, readers, roots, human, behavior, innocence, experience, kindness, cruelty, love, hatred, humor, pathos, 18, million, copies, print, translated, forty, languages, regional, story, young, alabama, woman, claims, universal, appeal, harper, lee, always, considered, book, simple, today, regarded, masterpiece, american, literature]   \n",
       "3                                                                                                                   [alternate, cover, edition, isbn, 9780679783268since, immediate, success, 1813, pride, prejudice, remained, one, popular, novels, english, language, jane, austen, called, brilliant, work, darling, child, vivacious, heroine, elizabeth, bennet, delightful, creature, ever, appeared, print, .\", romantic, clash, opinionated, proud, beau, mr, darcy, splendid, performance, civilized, sparring, radiant, wit, sparkles, characters, dance, delicate, quadrille, flirtation, intrigue, making, book, superb, comedy, manners, regency, england]   \n",
       "4                                                                                                                                                                                                                                                                                                                                                                                                                              [three, things, absolutely, positive, first, edward, vampire, second, part, —, know, dominant, might, thirsted, blood, third, unconditionally, irrevocably, love, deeply, seductive, extraordinarily, suspenseful, twilight, story, bite]   \n",
       "\n",
       "                     bookTitle_key  \n",
       "0                  [hunger, games]  \n",
       "1  [harry, potter, order, phoenix]  \n",
       "2              [kill, mockingbird]  \n",
       "3               [pride, prejudice]  \n",
       "4                       [twilight]  "
      ]
     },
     "execution_count": 18,
     "metadata": {},
     "output_type": "execute_result"
    }
   ],
   "source": [
    "df_new2 = df_new.copy()\n",
    "\n",
    "df_new2.head()"
   ]
  },
  {
   "cell_type": "code",
   "execution_count": 19,
   "id": "c0d1d03e",
   "metadata": {},
   "outputs": [
    {
     "data": {
      "text/html": [
       "<div>\n",
       "<style scoped>\n",
       "    .dataframe tbody tr th:only-of-type {\n",
       "        vertical-align: middle;\n",
       "    }\n",
       "\n",
       "    .dataframe tbody tr th {\n",
       "        vertical-align: top;\n",
       "    }\n",
       "\n",
       "    .dataframe thead th {\n",
       "        text-align: right;\n",
       "    }\n",
       "</style>\n",
       "<table border=\"1\" class=\"dataframe\">\n",
       "  <thead>\n",
       "    <tr style=\"text-align: right;\">\n",
       "      <th></th>\n",
       "      <th>bookTitle</th>\n",
       "      <th>bookDesc</th>\n",
       "      <th>Genre</th>\n",
       "      <th>Author</th>\n",
       "      <th>Key_words</th>\n",
       "      <th>bookTitle_key</th>\n",
       "    </tr>\n",
       "  </thead>\n",
       "  <tbody>\n",
       "    <tr>\n",
       "      <th>0</th>\n",
       "      <td>The Hunger Games</td>\n",
       "      <td>Could you survive on your own in the wild, with every one out to make sure you don't live to see the morning?In the ruins of a place once known as North America lies the nation of Panem, a shining Capitol surrounded by twelve outlying districts. The Capitol is harsh and cruel and keeps the districts in line by forcing them all to send one boy and one girl between the ages of twelve and eighteen to participate in the annual Hunger Games, a fight to the death on live TV.Sixteen-year-old Katniss Everdeen, who lives alone with her mother and younger sister, regards it as a death sentence when she steps forward to take her sister's place in the Games. But Katniss has been close to dead before—and survival, for her, is second nature. Without really meaning to, she becomes a contender. But if she is to win, she will have to start making choices that weight survival against humanity and life against love.</td>\n",
       "      <td>[youngadult]</td>\n",
       "      <td>[suzannecollins]</td>\n",
       "      <td>[could, survive, wild, every, one, make, sure, live, see, morning, ruins, place, known, north, america, lies, nation, panem, shining, capitol, surrounded, twelve, outlying, districts, harsh, cruel, keeps, line, forcing, send, boy, girl, ages, eighteen, participate, annual, hunger, games, fight, death, tv, sixteen, year, old, katniss, everdeen, lives, alone, mother, younger, sister, regards, sentence, steps, forward, take, close, dead, —, survival, second, nature, without, really, meaning, becomes, contender, win, start, making, choices, weight, humanity, life, love]</td>\n",
       "      <td>[hunger, games]</td>\n",
       "    </tr>\n",
       "    <tr>\n",
       "      <th>1</th>\n",
       "      <td>Harry Potter and the Order of the Phoenix</td>\n",
       "      <td>There is a door at the end of a silent corridor. And it’s haunting Harry Pottter’s dreams. Why else would he be waking in the middle of the night, screaming in terror?Harry has a lot on his mind for this, his fifth year at Hogwarts: a Defense Against the Dark Arts teacher with a personality like poisoned honey; a big surprise on the Gryffindor Quidditch team; and the looming terror of the Ordinary Wizarding Level exams. But all these things pale next to the growing threat of He-Who-Must-Not-Be-Named - a threat that neither the magical government nor the authorities at Hogwarts can stop.As the grasp of darkness tightens, Harry must discover the true depth and strength of his friends, the importance of boundless loyalty, and the shocking price of unbearable sacrifice.His fate depends on them all.</td>\n",
       "      <td>[fantasy]</td>\n",
       "      <td>[j.k.rowling]</td>\n",
       "      <td>[door, end, silent, corridor, ’, haunting, harry, pottter, dreams, else, would, waking, middle, night, screaming, terror, lot, mind, fifth, year, hogwarts, defense, dark, arts, teacher, personality, like, poisoned, honey, big, surprise, gryffindor, quidditch, team, looming, ordinary, wizarding, level, exams, things, pale, next, growing, threat, must, named, neither, magical, government, authorities, stop, grasp, darkness, tightens, discover, true, depth, strength, friends, importance, boundless, loyalty, shocking, price, unbearable, sacrifice, fate, depends]</td>\n",
       "      <td>[harry, potter, order, phoenix]</td>\n",
       "    </tr>\n",
       "    <tr>\n",
       "      <th>2</th>\n",
       "      <td>To Kill a Mockingbird</td>\n",
       "      <td>The unforgettable novel of a childhood in a sleepy Southern town and the crisis of conscience that rocked it. \"To Kill A Mockingbird\" became both an instant bestseller and a critical success when it was first published in 1960. It went on to win the Pulitzer Prize in 1961 and was later made into an Academy Award-winning film, also a classic.Compassionate, dramatic, and deeply moving, \"To Kill A Mockingbird\" takes readers to the roots of human behavior - to innocence and experience, kindness and cruelty, love and hatred, humor and pathos. Now with over 18 million copies in print and translated into forty languages, this regional story by a young Alabama woman claims universal appeal. Harper Lee always considered her book to be a simple love story. Today it is regarded as a masterpiece of American literature.</td>\n",
       "      <td>[classics]</td>\n",
       "      <td>[harperlee]</td>\n",
       "      <td>[unforgettable, novel, childhood, sleepy, southern, town, crisis, conscience, rocked, kill, mockingbird, became, instant, bestseller, critical, success, first, published, 1960, went, win, pulitzer, prize, 1961, later, made, academy, award, winning, film, also, classic, compassionate, dramatic, deeply, moving, takes, readers, roots, human, behavior, innocence, experience, kindness, cruelty, love, hatred, humor, pathos, 18, million, copies, print, translated, forty, languages, regional, story, young, alabama, woman, claims, universal, appeal, harper, lee, always, considered, book, simple, today, regarded, masterpiece, american, literature]</td>\n",
       "      <td>[kill, mockingbird]</td>\n",
       "    </tr>\n",
       "    <tr>\n",
       "      <th>3</th>\n",
       "      <td>Pride and Prejudice</td>\n",
       "      <td>Alternate cover edition of ISBN 9780679783268Since its immediate success in 1813, Pride and Prejudice has remained one of the most popular novels in the English language. Jane Austen called this brilliant work \"her own darling child\" and its vivacious heroine, Elizabeth Bennet, \"as delightful a creature as ever appeared in print.\" The romantic clash between the opinionated Elizabeth and her proud beau, Mr. Darcy, is a splendid performance of civilized sparring. And Jane Austen's radiant wit sparkles as her characters dance a delicate quadrille of flirtation and intrigue, making this book the most superb comedy of manners of Regency England.</td>\n",
       "      <td>[classics]</td>\n",
       "      <td>[janeausten]</td>\n",
       "      <td>[alternate, cover, edition, isbn, 9780679783268since, immediate, success, 1813, pride, prejudice, remained, one, popular, novels, english, language, jane, austen, called, brilliant, work, darling, child, vivacious, heroine, elizabeth, bennet, delightful, creature, ever, appeared, print, .\", romantic, clash, opinionated, proud, beau, mr, darcy, splendid, performance, civilized, sparring, radiant, wit, sparkles, characters, dance, delicate, quadrille, flirtation, intrigue, making, book, superb, comedy, manners, regency, england]</td>\n",
       "      <td>[pride, prejudice]</td>\n",
       "    </tr>\n",
       "    <tr>\n",
       "      <th>4</th>\n",
       "      <td>Twilight</td>\n",
       "      <td>About three things I was absolutely positive.First, Edward was a vampire.Second, there was a part of him—and I didn't know how dominant that part might be—that thirsted for my blood.And third, I was unconditionally and irrevocably in love with him.Deeply seductive and extraordinarily suspenseful, Twilight is a love story with bite.</td>\n",
       "      <td>[youngadult]</td>\n",
       "      <td>[stepheniemeyer]</td>\n",
       "      <td>[three, things, absolutely, positive, first, edward, vampire, second, part, —, know, dominant, might, thirsted, blood, third, unconditionally, irrevocably, love, deeply, seductive, extraordinarily, suspenseful, twilight, story, bite]</td>\n",
       "      <td>[twilight]</td>\n",
       "    </tr>\n",
       "  </tbody>\n",
       "</table>\n",
       "</div>"
      ],
      "text/plain": [
       "                                   bookTitle  \\\n",
       "0                           The Hunger Games   \n",
       "1  Harry Potter and the Order of the Phoenix   \n",
       "2                      To Kill a Mockingbird   \n",
       "3                        Pride and Prejudice   \n",
       "4                                   Twilight   \n",
       "\n",
       "                                                                                                                                                                                                                                                                                                                                                                                                                                                                                                                                                                                                                                                                                                                                                                                                                                                                                                                                         bookDesc  \\\n",
       "0  Could you survive on your own in the wild, with every one out to make sure you don't live to see the morning?In the ruins of a place once known as North America lies the nation of Panem, a shining Capitol surrounded by twelve outlying districts. The Capitol is harsh and cruel and keeps the districts in line by forcing them all to send one boy and one girl between the ages of twelve and eighteen to participate in the annual Hunger Games, a fight to the death on live TV.Sixteen-year-old Katniss Everdeen, who lives alone with her mother and younger sister, regards it as a death sentence when she steps forward to take her sister's place in the Games. But Katniss has been close to dead before—and survival, for her, is second nature. Without really meaning to, she becomes a contender. But if she is to win, she will have to start making choices that weight survival against humanity and life against love.   \n",
       "1                                                                                                           There is a door at the end of a silent corridor. And it’s haunting Harry Pottter’s dreams. Why else would he be waking in the middle of the night, screaming in terror?Harry has a lot on his mind for this, his fifth year at Hogwarts: a Defense Against the Dark Arts teacher with a personality like poisoned honey; a big surprise on the Gryffindor Quidditch team; and the looming terror of the Ordinary Wizarding Level exams. But all these things pale next to the growing threat of He-Who-Must-Not-Be-Named - a threat that neither the magical government nor the authorities at Hogwarts can stop.As the grasp of darkness tightens, Harry must discover the true depth and strength of his friends, the importance of boundless loyalty, and the shocking price of unbearable sacrifice.His fate depends on them all.   \n",
       "2                                                                                              The unforgettable novel of a childhood in a sleepy Southern town and the crisis of conscience that rocked it. \"To Kill A Mockingbird\" became both an instant bestseller and a critical success when it was first published in 1960. It went on to win the Pulitzer Prize in 1961 and was later made into an Academy Award-winning film, also a classic.Compassionate, dramatic, and deeply moving, \"To Kill A Mockingbird\" takes readers to the roots of human behavior - to innocence and experience, kindness and cruelty, love and hatred, humor and pathos. Now with over 18 million copies in print and translated into forty languages, this regional story by a young Alabama woman claims universal appeal. Harper Lee always considered her book to be a simple love story. Today it is regarded as a masterpiece of American literature.   \n",
       "3                                                                                                                                                                                                                                                                        Alternate cover edition of ISBN 9780679783268Since its immediate success in 1813, Pride and Prejudice has remained one of the most popular novels in the English language. Jane Austen called this brilliant work \"her own darling child\" and its vivacious heroine, Elizabeth Bennet, \"as delightful a creature as ever appeared in print.\" The romantic clash between the opinionated Elizabeth and her proud beau, Mr. Darcy, is a splendid performance of civilized sparring. And Jane Austen's radiant wit sparkles as her characters dance a delicate quadrille of flirtation and intrigue, making this book the most superb comedy of manners of Regency England.   \n",
       "4                                                                                                                                                                                                                                                                                                                                                                                                                                                                                                                                                                                                   About three things I was absolutely positive.First, Edward was a vampire.Second, there was a part of him—and I didn't know how dominant that part might be—that thirsted for my blood.And third, I was unconditionally and irrevocably in love with him.Deeply seductive and extraordinarily suspenseful, Twilight is a love story with bite.   \n",
       "\n",
       "          Genre            Author  \\\n",
       "0  [youngadult]  [suzannecollins]   \n",
       "1     [fantasy]     [j.k.rowling]   \n",
       "2    [classics]       [harperlee]   \n",
       "3    [classics]      [janeausten]   \n",
       "4  [youngadult]  [stepheniemeyer]   \n",
       "\n",
       "                                                                                                                                                                                                                                                                                                                                                                                                                                                                                                                                                                                                                                                               Key_words  \\\n",
       "0                                                                           [could, survive, wild, every, one, make, sure, live, see, morning, ruins, place, known, north, america, lies, nation, panem, shining, capitol, surrounded, twelve, outlying, districts, harsh, cruel, keeps, line, forcing, send, boy, girl, ages, eighteen, participate, annual, hunger, games, fight, death, tv, sixteen, year, old, katniss, everdeen, lives, alone, mother, younger, sister, regards, sentence, steps, forward, take, close, dead, —, survival, second, nature, without, really, meaning, becomes, contender, win, start, making, choices, weight, humanity, life, love]   \n",
       "1                                                                                   [door, end, silent, corridor, ’, haunting, harry, pottter, dreams, else, would, waking, middle, night, screaming, terror, lot, mind, fifth, year, hogwarts, defense, dark, arts, teacher, personality, like, poisoned, honey, big, surprise, gryffindor, quidditch, team, looming, ordinary, wizarding, level, exams, things, pale, next, growing, threat, must, named, neither, magical, government, authorities, stop, grasp, darkness, tightens, discover, true, depth, strength, friends, importance, boundless, loyalty, shocking, price, unbearable, sacrifice, fate, depends]   \n",
       "2  [unforgettable, novel, childhood, sleepy, southern, town, crisis, conscience, rocked, kill, mockingbird, became, instant, bestseller, critical, success, first, published, 1960, went, win, pulitzer, prize, 1961, later, made, academy, award, winning, film, also, classic, compassionate, dramatic, deeply, moving, takes, readers, roots, human, behavior, innocence, experience, kindness, cruelty, love, hatred, humor, pathos, 18, million, copies, print, translated, forty, languages, regional, story, young, alabama, woman, claims, universal, appeal, harper, lee, always, considered, book, simple, today, regarded, masterpiece, american, literature]   \n",
       "3                                                                                                                   [alternate, cover, edition, isbn, 9780679783268since, immediate, success, 1813, pride, prejudice, remained, one, popular, novels, english, language, jane, austen, called, brilliant, work, darling, child, vivacious, heroine, elizabeth, bennet, delightful, creature, ever, appeared, print, .\", romantic, clash, opinionated, proud, beau, mr, darcy, splendid, performance, civilized, sparring, radiant, wit, sparkles, characters, dance, delicate, quadrille, flirtation, intrigue, making, book, superb, comedy, manners, regency, england]   \n",
       "4                                                                                                                                                                                                                                                                                                                                                                                                                              [three, things, absolutely, positive, first, edward, vampire, second, part, —, know, dominant, might, thirsted, blood, third, unconditionally, irrevocably, love, deeply, seductive, extraordinarily, suspenseful, twilight, story, bite]   \n",
       "\n",
       "                     bookTitle_key  \n",
       "0                  [hunger, games]  \n",
       "1  [harry, potter, order, phoenix]  \n",
       "2              [kill, mockingbird]  \n",
       "3               [pride, prejudice]  \n",
       "4                       [twilight]  "
      ]
     },
     "execution_count": 19,
     "metadata": {},
     "output_type": "execute_result"
    }
   ],
   "source": [
    "#make columns lower case\n",
    "\n",
    "df_new2['Genre'] = df_new2['Genre'].str.lower()\n",
    "df_new2['Author'] = df_new2['Author'].str.lower()\n",
    "\n",
    "#make columns one string\n",
    "df_new2['Genre'] = df_new2['Genre'].str.replace(\" \",\"\")\n",
    "df_new2['Author'] = df_new2['Author'].str.replace(\" \",\"\")\n",
    "\n",
    "#add brackets for processing in next step\n",
    "df_new2['Genre'] = df_new2['Genre'].apply(lambda x: x.split(','))\n",
    "df_new2['Author'] = df_new2['Author'].apply(lambda x: x.split(','))\n",
    "\n",
    "df_new2.head()"
   ]
  },
  {
   "cell_type": "code",
   "execution_count": 20,
   "id": "bdc436e8",
   "metadata": {},
   "outputs": [
    {
     "data": {
      "text/html": [
       "<div>\n",
       "<style scoped>\n",
       "    .dataframe tbody tr th:only-of-type {\n",
       "        vertical-align: middle;\n",
       "    }\n",
       "\n",
       "    .dataframe tbody tr th {\n",
       "        vertical-align: top;\n",
       "    }\n",
       "\n",
       "    .dataframe thead th {\n",
       "        text-align: right;\n",
       "    }\n",
       "</style>\n",
       "<table border=\"1\" class=\"dataframe\">\n",
       "  <thead>\n",
       "    <tr style=\"text-align: right;\">\n",
       "      <th></th>\n",
       "      <th>bookTitle</th>\n",
       "      <th>Bag_of_words</th>\n",
       "    </tr>\n",
       "  </thead>\n",
       "  <tbody>\n",
       "    <tr>\n",
       "      <th>0</th>\n",
       "      <td>The Hunger Games</td>\n",
       "      <td>youngadult suzannecollins hunger games could survive wild every one make sure live see morning ruins place known north america lies nation panem shining capitol surrounded twelve outlying districts harsh cruel keeps line forcing send boy girl ages eighteen participate annual hunger games fight death tv sixteen year old katniss everdeen lives alone mother younger sister regards sentence steps forward take close dead — survival second nature without really meaning becomes contender win start making choices weight humanity life love</td>\n",
       "    </tr>\n",
       "    <tr>\n",
       "      <th>1</th>\n",
       "      <td>Harry Potter and the Order of the Phoenix</td>\n",
       "      <td>fantasy j.k.rowling harry potter order phoenix door end silent corridor ’ haunting harry pottter dreams else would waking middle night screaming terror lot mind fifth year hogwarts defense dark arts teacher personality like poisoned honey big surprise gryffindor quidditch team looming ordinary wizarding level exams things pale next growing threat must named neither magical government authorities stop grasp darkness tightens discover true depth strength friends importance boundless loyalty shocking price unbearable sacrifice fate depends</td>\n",
       "    </tr>\n",
       "    <tr>\n",
       "      <th>2</th>\n",
       "      <td>To Kill a Mockingbird</td>\n",
       "      <td>classics harperlee kill mockingbird unforgettable novel childhood sleepy southern town crisis conscience rocked kill mockingbird became instant bestseller critical success first published 1960 went win pulitzer prize 1961 later made academy award winning film also classic compassionate dramatic deeply moving takes readers roots human behavior innocence experience kindness cruelty love hatred humor pathos 18 million copies print translated forty languages regional story young alabama woman claims universal appeal harper lee always considered book simple today regarded masterpiece american literature</td>\n",
       "    </tr>\n",
       "    <tr>\n",
       "      <th>3</th>\n",
       "      <td>Pride and Prejudice</td>\n",
       "      <td>classics janeausten pride prejudice alternate cover edition isbn 9780679783268since immediate success 1813 pride prejudice remained one popular novels english language jane austen called brilliant work darling child vivacious heroine elizabeth bennet delightful creature ever appeared print .\" romantic clash opinionated proud beau mr darcy splendid performance civilized sparring radiant wit sparkles characters dance delicate quadrille flirtation intrigue making book superb comedy manners regency england</td>\n",
       "    </tr>\n",
       "    <tr>\n",
       "      <th>4</th>\n",
       "      <td>Twilight</td>\n",
       "      <td>youngadult stepheniemeyer twilight three things absolutely positive first edward vampire second part — know dominant might thirsted blood third unconditionally irrevocably love deeply seductive extraordinarily suspenseful twilight story bite</td>\n",
       "    </tr>\n",
       "  </tbody>\n",
       "</table>\n",
       "</div>"
      ],
      "text/plain": [
       "                                   bookTitle  \\\n",
       "0                           The Hunger Games   \n",
       "1  Harry Potter and the Order of the Phoenix   \n",
       "2                      To Kill a Mockingbird   \n",
       "3                        Pride and Prejudice   \n",
       "4                                   Twilight   \n",
       "\n",
       "                                                                                                                                                                                                                                                                                                                                                                                                                                                                                                                                                                                                                     Bag_of_words  \n",
       "0                                                                        youngadult suzannecollins hunger games could survive wild every one make sure live see morning ruins place known north america lies nation panem shining capitol surrounded twelve outlying districts harsh cruel keeps line forcing send boy girl ages eighteen participate annual hunger games fight death tv sixteen year old katniss everdeen lives alone mother younger sister regards sentence steps forward take close dead — survival second nature without really meaning becomes contender win start making choices weight humanity life love   \n",
       "1                                                                 fantasy j.k.rowling harry potter order phoenix door end silent corridor ’ haunting harry pottter dreams else would waking middle night screaming terror lot mind fifth year hogwarts defense dark arts teacher personality like poisoned honey big surprise gryffindor quidditch team looming ordinary wizarding level exams things pale next growing threat must named neither magical government authorities stop grasp darkness tightens discover true depth strength friends importance boundless loyalty shocking price unbearable sacrifice fate depends   \n",
       "2  classics harperlee kill mockingbird unforgettable novel childhood sleepy southern town crisis conscience rocked kill mockingbird became instant bestseller critical success first published 1960 went win pulitzer prize 1961 later made academy award winning film also classic compassionate dramatic deeply moving takes readers roots human behavior innocence experience kindness cruelty love hatred humor pathos 18 million copies print translated forty languages regional story young alabama woman claims universal appeal harper lee always considered book simple today regarded masterpiece american literature   \n",
       "3                                                                                                    classics janeausten pride prejudice alternate cover edition isbn 9780679783268since immediate success 1813 pride prejudice remained one popular novels english language jane austen called brilliant work darling child vivacious heroine elizabeth bennet delightful creature ever appeared print .\" romantic clash opinionated proud beau mr darcy splendid performance civilized sparring radiant wit sparkles characters dance delicate quadrille flirtation intrigue making book superb comedy manners regency england   \n",
       "4                                                                                                                                                                                                                                                                                                                                                                              youngadult stepheniemeyer twilight three things absolutely positive first edward vampire second part — know dominant might thirsted blood third unconditionally irrevocably love deeply seductive extraordinarily suspenseful twilight story bite   "
      ]
     },
     "execution_count": 20,
     "metadata": {},
     "output_type": "execute_result"
    }
   ],
   "source": [
    "#create a bag of words columns with processed columns\n",
    "df_new3 = df_new2.copy()\n",
    "\n",
    "df_new3['Bag_of_words'] = ''\n",
    "\n",
    "columns = ['Genre', 'Author', 'bookTitle_key', 'Key_words']\n",
    "\n",
    "for index, row in df_new3.iterrows():\n",
    "    words = ''\n",
    "    for col in columns:\n",
    "        words += ' '.join(row[col]) + ' '\n",
    "    row['Bag_of_words'] = words\n",
    "    \n",
    "bag_words = df_new3[['bookTitle','Bag_of_words']]\n",
    "bag_words.head()"
   ]
  },
  {
   "cell_type": "code",
   "execution_count": null,
   "id": "ae4eb76d",
   "metadata": {},
   "outputs": [],
   "source": []
  },
  {
   "cell_type": "markdown",
   "id": "44ad1d14",
   "metadata": {},
   "source": [
    "## Count Vectorizer"
   ]
  },
  {
   "cell_type": "code",
   "execution_count": 21,
   "id": "3a8560fc",
   "metadata": {},
   "outputs": [
    {
     "name": "stdout",
     "output_type": "stream",
     "text": [
      "[[1.         0.01275153 0.02424287 ... 0.0208696  0.03727355 0.07250185]\n",
      " [0.01275153 1.         0.         ... 0.04364358 0.02598279 0.03032392]\n",
      " [0.02424287 0.         1.         ... 0.0207435  0.03704833 0.04323826]\n",
      " ...\n",
      " [0.0208696  0.04364358 0.0207435  ... 1.         0.         0.02481458]\n",
      " [0.03727355 0.02598279 0.03704833 ... 0.         1.         0.08863877]\n",
      " [0.07250185 0.03032392 0.04323826 ... 0.02481458 0.08863877 1.        ]]\n"
     ]
    }
   ],
   "source": [
    "#CountVectorizer model\n",
    "count = CountVectorizer()\n",
    "count_matrix = count.fit_transform(bag_words['Bag_of_words'])\n",
    "\n",
    "cosine_sim = cosine_similarity(count_matrix, count_matrix)\n",
    "print(cosine_sim)\n"
   ]
  },
  {
   "cell_type": "code",
   "execution_count": null,
   "id": "b94f2cfe",
   "metadata": {},
   "outputs": [],
   "source": []
  },
  {
   "cell_type": "code",
   "execution_count": 38,
   "id": "f1f0542e",
   "metadata": {},
   "outputs": [
    {
     "data": {
      "text/plain": [
       "array([[0, 0, 0, ..., 0, 0, 0],\n",
       "       [0, 0, 0, ..., 0, 0, 0],\n",
       "       [0, 0, 0, ..., 0, 0, 0],\n",
       "       ...,\n",
       "       [0, 0, 0, ..., 0, 0, 0],\n",
       "       [0, 0, 0, ..., 0, 0, 0],\n",
       "       [0, 0, 0, ..., 0, 0, 0]])"
      ]
     },
     "execution_count": 38,
     "metadata": {},
     "output_type": "execute_result"
    }
   ],
   "source": [
    "test = count_matrix.toarray()\n",
    "test"
   ]
  },
  {
   "cell_type": "code",
   "execution_count": 39,
   "id": "756bd784",
   "metadata": {},
   "outputs": [
    {
     "data": {
      "text/plain": [
       "74424"
      ]
     },
     "execution_count": 39,
     "metadata": {},
     "output_type": "execute_result"
    }
   ],
   "source": [
    "len(test[0])"
   ]
  },
  {
   "cell_type": "code",
   "execution_count": 40,
   "id": "4a218bab",
   "metadata": {},
   "outputs": [
    {
     "data": {
      "text/plain": [
       "78"
      ]
     },
     "execution_count": 40,
     "metadata": {},
     "output_type": "execute_result"
    }
   ],
   "source": [
    "sum(test[0])"
   ]
  },
  {
   "cell_type": "code",
   "execution_count": 23,
   "id": "e4924008",
   "metadata": {},
   "outputs": [],
   "source": [
    "indices = pd.Series(bag_words['bookTitle'])"
   ]
  },
  {
   "cell_type": "code",
   "execution_count": 28,
   "id": "dc813ab5",
   "metadata": {},
   "outputs": [],
   "source": [
    "def recommend(bookTitle, cosine_sim = cosine_sim):\n",
    "    recommended_book = []\n",
    "    idx = indices[indices == bookTitle].index[0]\n",
    "    score_series = pd.Series(cosine_sim[idx]).sort_values(ascending = False)\n",
    "    top_10_indices = list(score_series.iloc[1:21].index)\n",
    "    \n",
    "    for i in top_10_indices:\n",
    "        recommended_book.append(list(bag_words['bookTitle'])[i])\n",
    "        \n",
    "    return recommended_book"
   ]
  },
  {
   "cell_type": "code",
   "execution_count": 29,
   "id": "2c57ac36",
   "metadata": {},
   "outputs": [
    {
     "data": {
      "text/plain": [
       "['To Kill a Mockingbird',\n",
       " 'Go Set a Watchman',\n",
       " 'Lonesome Dove',\n",
       " 'The Chronicles of Prydain',\n",
       " 'The Grapes of Wrath',\n",
       " 'Our Town',\n",
       " 'Lady of Hay',\n",
       " 'The Secret Garden',\n",
       " 'Manchild in the Promised Land',\n",
       " 'Home',\n",
       " 'Story of a Soul: The Autobiography of St. Thérèse of Lisieux',\n",
       " 'Jimmy Corrigan: The Smartest Kid on Earth',\n",
       " 'The Gift of the Magi',\n",
       " 'The Perks of Being a Wallflower',\n",
       " 'Jennie Gerhardt',\n",
       " 'Lila',\n",
       " 'The Garden of Eden',\n",
       " '...And Ladies of the Club',\n",
       " 'Songs of Innocence and of Experience',\n",
       " 'For Colored Girls Who Have Considered Suicide When the Rainbow Is Enuf']"
      ]
     },
     "execution_count": 29,
     "metadata": {},
     "output_type": "execute_result"
    }
   ],
   "source": [
    "recommend('To Kill a Mockingbird')"
   ]
  },
  {
   "cell_type": "code",
   "execution_count": null,
   "id": "41e2438d",
   "metadata": {},
   "outputs": [],
   "source": [
    "bagwords2 = bag_words.copy()\n",
    "bagwords2 = bagwords2.drop_duplicates(subset=['bookTitle'])\n",
    "bagwords2.info()"
   ]
  },
  {
   "cell_type": "code",
   "execution_count": null,
   "id": "b23b8999",
   "metadata": {},
   "outputs": [],
   "source": [
    "bagwords2.loc[bagwords2['bookTitle']== \"Apollyon\"]"
   ]
  },
  {
   "cell_type": "code",
   "execution_count": null,
   "id": "ff2af0bb",
   "metadata": {},
   "outputs": [],
   "source": [
    "#CountVectorizer model\n",
    "count = CountVectorizer()\n",
    "count_matrix = count.fit_transform(bagwords2['Bag_of_words'])\n",
    "\n",
    "cosine_sim = cosine_similarity(count_matrix, count_matrix)\n",
    "print(cosine_sim)\n",
    "indices = pd.Series(bagwords2['bookTitle'])\n",
    "\n",
    "def recommend(bookTitle, cosine_sim = cosine_sim):\n",
    "    recommended_book = []\n",
    "    idx = indices[indices == bookTitle].index[0]\n",
    "    score_series = pd.Series(cosine_sim[idx]).sort_values(ascending = False)\n",
    "    top_10_indices = list(score_series.iloc[1:11].index)\n",
    "    \n",
    "    for i in top_10_indices:\n",
    "        recommended_book.append(list(bagwords2['bookTitle'])[i])\n",
    "        \n",
    "    return recommended_book\n"
   ]
  },
  {
   "cell_type": "code",
   "execution_count": null,
   "id": "481fbeef",
   "metadata": {},
   "outputs": [],
   "source": [
    "recommend('Apollyon')"
   ]
  },
  {
   "cell_type": "markdown",
   "id": "e74c925c",
   "metadata": {},
   "source": [
    "## TF- IDF"
   ]
  },
  {
   "cell_type": "code",
   "execution_count": null,
   "id": "234f16b0",
   "metadata": {},
   "outputs": [],
   "source": [
    "bag_words.head()"
   ]
  },
  {
   "cell_type": "code",
   "execution_count": 30,
   "id": "eb2a86dd",
   "metadata": {},
   "outputs": [],
   "source": [
    "from sklearn.feature_extraction.text import TfidfVectorizer\n",
    "from sklearn.metrics.pairwise import cosine_similarity\n",
    "from sklearn.metrics.pairwise import linear_kernel"
   ]
  },
  {
   "cell_type": "code",
   "execution_count": 32,
   "id": "89fec9b6",
   "metadata": {},
   "outputs": [],
   "source": [
    "#https://practicaldatascience.co.uk/data-science/how-to-create-content-recommendations-using-tf-idf\n",
    "#bag of words is already made, but this will also down-weight common words that appear across documents\n",
    "tfidf = TfidfVectorizer(stop_words='english')\n",
    "\n",
    "# numbers to calculate similarities\n",
    "tfidf_matrix = tfidf.fit_transform(bag_words['Bag_of_words'])\n",
    "\n",
    "#calculate cosine matrix\n",
    "cosine_similarities = linear_kernel(tfidf_matrix, tfidf_matrix)"
   ]
  },
  {
   "cell_type": "code",
   "execution_count": null,
   "id": "027aba69",
   "metadata": {},
   "outputs": [],
   "source": [
    "#Return a dataframe of content recommendations based on TF-IDF cosine similarity.\n",
    "\n",
    "\n",
    "def get_recommendations(title, cosine_similarities, limit=10):\n",
    "\n",
    "    \n",
    "    # Return indices for the target dataframe column and drop any duplicates\n",
    "    indices = pd.Series(bag_words.index, index=bag_words['bookTitle']).drop_duplicates()\n",
    "\n",
    "    # Get the index for the target value\n",
    "    target_index = indices[title]\n",
    "\n",
    "    # Get the cosine similarity scores for the target value\n",
    "    cosine_similarity_scores = list(enumerate(cosine_similarities[target_index]))\n",
    "\n",
    "    # Sort the cosine similarities in order of closest similarity\n",
    "    cosine_similarity_scores = sorted(cosine_similarity_scores, key=lambda x: x[1], reverse=True)\n",
    "\n",
    "    # Return tuple of the requested closest scores excluding the target item and index\n",
    "    cosine_similarity_scores = cosine_similarity_scores[1:limit+1]\n",
    "\n",
    "    # Extract the tuple values\n",
    "    index = (x[0] for x in cosine_similarity_scores)\n",
    "    scores = (x[1] for x in cosine_similarity_scores)    \n",
    "\n",
    "    # Get the indices for the closest items\n",
    "    recommendation_indices = [i[0] for i in cosine_similarity_scores]\n",
    "\n",
    "    # Get the actutal recommendations\n",
    "    recommendations = bag_words['bookTitle'].iloc[recommendation_indices]\n",
    "\n",
    "    # Return a dataframe\n",
    "    df = pd.DataFrame(list(zip(index, recommendations, scores)), \n",
    "                      columns=['index','recommendation', 'cosine_similarity_score']) \n",
    "\n",
    "    return df"
   ]
  },
  {
   "cell_type": "code",
   "execution_count": null,
   "id": "b00d0e67",
   "metadata": {},
   "outputs": [],
   "source": [
    "get_recommendations('The Hunger Games', cosine_similarities)"
   ]
  },
  {
   "cell_type": "code",
   "execution_count": null,
   "id": "fa8af8ac",
   "metadata": {},
   "outputs": [],
   "source": [
    "# Return indices for the target dataframe column and drop any duplicates\n",
    "indices = pd.Series(bag_words.index, index=bag_words['bookTitle']).drop_duplicates()\n",
    "\n",
    "# Get the index for the target value\n",
    "target_index = indices['The Hunger Games']\n",
    "target_index"
   ]
  },
  {
   "cell_type": "code",
   "execution_count": null,
   "id": "f447699d",
   "metadata": {},
   "outputs": [],
   "source": []
  },
  {
   "cell_type": "code",
   "execution_count": null,
   "id": "3671080f",
   "metadata": {},
   "outputs": [],
   "source": []
  },
  {
   "cell_type": "markdown",
   "id": "c4d83eee",
   "metadata": {},
   "source": [
    "## Sentiment Analysis"
   ]
  },
  {
   "cell_type": "code",
   "execution_count": null,
   "id": "b5ff624c",
   "metadata": {},
   "outputs": [],
   "source": [
    "#genre as sentiment\n",
    "sent_df = df_new2[[\"bookTitle\",\"Genre\", \"Key_words\"]].copy()\n",
    "sent_df.head()"
   ]
  },
  {
   "cell_type": "code",
   "execution_count": null,
   "id": "6dfab75d",
   "metadata": {},
   "outputs": [],
   "source": [
    "df_new2[\"Genre\"].value_counts()"
   ]
  },
  {
   "cell_type": "code",
   "execution_count": null,
   "id": "ee475887",
   "metadata": {},
   "outputs": [],
   "source": []
  },
  {
   "cell_type": "code",
   "execution_count": null,
   "id": "8487476b",
   "metadata": {},
   "outputs": [],
   "source": []
  },
  {
   "cell_type": "markdown",
   "id": "6cfb1c17",
   "metadata": {},
   "source": [
    "## Sentiment Analysis w/ Support Vector Machines (SVM)"
   ]
  },
  {
   "cell_type": "code",
   "execution_count": null,
   "id": "124cc85c",
   "metadata": {},
   "outputs": [],
   "source": [
    "import pandas as pd\n",
    "import matplotlib.pyplot as plt\n",
    "import seaborn as sns\n",
    "import re\n",
    "\n",
    "import nltk\n",
    "from nltk.corpus import stopwords\n",
    "from nltk.stem import WordNetLemmatizer\n",
    "\n",
    "from sklearn.feature_extraction.text import CountVectorizer\n",
    "from sklearn.model_selection import GridSearchCV\n",
    "from sklearn.ensemble import RandomForestClassifier\n",
    "\n",
    "from sklearn.metrics import accuracy_score,precision_score,recall_score,confusion_matrix,roc_curve,classification_report\n",
    "from scikitplot.metrics import plot_confusion_matrix\n"
   ]
  },
  {
   "cell_type": "code",
   "execution_count": null,
   "id": "14fd5cac",
   "metadata": {},
   "outputs": [],
   "source": [
    "#object of WordNetLemmatizer\n",
    "lm = WordNetLemmatizer()\n",
    "def text_transformation(df_col):\n",
    "    corpus = []\n",
    "    for item in df_col:\n",
    "        new_item = re.sub('[^a-zA-Z]',' ',str(item))\n",
    "        new_item = new_item.lower()\n",
    "        new_item = new_item.split()\n",
    "        new_item = [lm.lemmatize(word) for word in new_item if word not in set(stopwords.words('english'))]\n",
    "        corpus.append(' '.join(str(x) for x in new_item))\n",
    "    return corpus\n",
    "corpus = text_transformation(sent_df['Key_words'])\n"
   ]
  },
  {
   "cell_type": "code",
   "execution_count": null,
   "id": "12148d7b",
   "metadata": {},
   "outputs": [],
   "source": []
  },
  {
   "cell_type": "markdown",
   "id": "c889ac23",
   "metadata": {},
   "source": [
    "## Sentiment Analysis w/ Naive Bayes Algorithm"
   ]
  },
  {
   "cell_type": "code",
   "execution_count": null,
   "id": "829f4c92",
   "metadata": {},
   "outputs": [],
   "source": [
    "import pandas as pd\n",
    "from sklearn.feature_extraction.text import CountVectorizer\n",
    "from sklearn.feature_extraction.text import TfidfTransformer\n",
    "from sklearn.model_selection import train_test_split\n",
    "from sklearn.naive_bayes import MultinomialNB\n",
    "from sklearn.metrics import confusion_matrix"
   ]
  },
  {
   "cell_type": "code",
   "execution_count": null,
   "id": "180074e4",
   "metadata": {},
   "outputs": [],
   "source": [
    "count_matrix"
   ]
  },
  {
   "cell_type": "code",
   "execution_count": null,
   "id": "81f30d4b",
   "metadata": {},
   "outputs": [],
   "source": [
    "#apply TF_IDF Transformation to the bag of words columns (post CountVectorizer)\n",
    "tfidf = TfidfTransformer() # by default applies \"l2\" normalization\n",
    "X_tfidf = tfidf.fit_transform(count_matrix)\n",
    "X_tfidf = X_tfidf.todense()\n",
    "X_tfidf"
   ]
  },
  {
   "cell_type": "code",
   "execution_count": null,
   "id": "f2665cda",
   "metadata": {},
   "outputs": [],
   "source": [
    "\n",
    "#split training and testing data\n",
    "X_train, X_test, y_train, y_test = train_test_split(X_tfidf, y, \n",
    "                                                    test_size = 0.25, \n",
    "                                                    random_state = 0)"
   ]
  },
  {
   "cell_type": "code",
   "execution_count": null,
   "id": "058c833f",
   "metadata": {},
   "outputs": [],
   "source": []
  }
 ],
 "metadata": {
  "kernelspec": {
   "display_name": "Python 3 (ipykernel)",
   "language": "python",
   "name": "python3"
  },
  "language_info": {
   "codemirror_mode": {
    "name": "ipython",
    "version": 3
   },
   "file_extension": ".py",
   "mimetype": "text/x-python",
   "name": "python",
   "nbconvert_exporter": "python",
   "pygments_lexer": "ipython3",
   "version": "3.9.7"
  }
 },
 "nbformat": 4,
 "nbformat_minor": 5
}
