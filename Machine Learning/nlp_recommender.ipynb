{
 "cells": [
  {
   "cell_type": "code",
   "execution_count": 109,
   "id": "4d02089b",
   "metadata": {},
   "outputs": [],
   "source": [
    "import pandas as pd\n",
    "import numpy as np\n",
    "\n",
    "#countvectorizer model\n",
    "import nltk\n",
    "from rake_nltk import Rake\n",
    "from sklearn.metrics.pairwise import cosine_similarity\n",
    "from sklearn.feature_extraction.text import CountVectorizer\n",
    "\n",
    "#imports\n",
    "from sklearn.feature_extraction.text import TfidfVectorizer\n",
    "from sklearn.metrics.pairwise import cosine_similarity\n",
    "from sklearn.metrics.pairwise import linear_kernel"
   ]
  },
  {
   "cell_type": "code",
   "execution_count": 110,
   "id": "3283c211",
   "metadata": {},
   "outputs": [
    {
     "data": {
      "text/html": [
       "<div>\n",
       "<style scoped>\n",
       "    .dataframe tbody tr th:only-of-type {\n",
       "        vertical-align: middle;\n",
       "    }\n",
       "\n",
       "    .dataframe tbody tr th {\n",
       "        vertical-align: top;\n",
       "    }\n",
       "\n",
       "    .dataframe thead th {\n",
       "        text-align: right;\n",
       "    }\n",
       "</style>\n",
       "<table border=\"1\" class=\"dataframe\">\n",
       "  <thead>\n",
       "    <tr style=\"text-align: right;\">\n",
       "      <th></th>\n",
       "      <th>url</th>\n",
       "      <th>bookTitle</th>\n",
       "      <th>bookImage</th>\n",
       "      <th>bookDesc</th>\n",
       "      <th>bookRating</th>\n",
       "      <th>ratingCount</th>\n",
       "      <th>reviewCount</th>\n",
       "      <th>Genre</th>\n",
       "      <th>pageCount</th>\n",
       "      <th>Author</th>\n",
       "      <th>lang</th>\n",
       "      <th>title_key_words</th>\n",
       "      <th>clean_keywords</th>\n",
       "      <th>sentiment_polarity</th>\n",
       "      <th>sentiment_subjectivity</th>\n",
       "      <th>genre_bag</th>\n",
       "      <th>bag_of_words</th>\n",
       "    </tr>\n",
       "  </thead>\n",
       "  <tbody>\n",
       "    <tr>\n",
       "      <th>0</th>\n",
       "      <td>https://www.goodreads.com/book/show/25743.The_...</td>\n",
       "      <td>The Slave</td>\n",
       "      <td>https://i.gr-assets.com/images/S/compressed.ph...</td>\n",
       "      <td>Four years after the Chmielnicki massacres of ...</td>\n",
       "      <td>4.19</td>\n",
       "      <td>2886</td>\n",
       "      <td>259</td>\n",
       "      <td>Fiction</td>\n",
       "      <td>320</td>\n",
       "      <td>Isaac Bashevis Singer</td>\n",
       "      <td>en</td>\n",
       "      <td>['slave']</td>\n",
       "      <td>['four', 'years', 'chmielnicki', 'massacres', ...</td>\n",
       "      <td>0.042338</td>\n",
       "      <td>0.341429</td>\n",
       "      <td>['fiction']</td>\n",
       "      <td>fiction slave four years chmielnicki massacres...</td>\n",
       "    </tr>\n",
       "    <tr>\n",
       "      <th>1</th>\n",
       "      <td>https://www.goodreads.com/book/show/13547289-t...</td>\n",
       "      <td>Tales from a Not-So-Smart Miss Know-It-All</td>\n",
       "      <td>https://i.gr-assets.com/images/S/compressed.ph...</td>\n",
       "      <td>Nikki Maxwell authors an advice column for the...</td>\n",
       "      <td>4.39</td>\n",
       "      <td>25705</td>\n",
       "      <td>806</td>\n",
       "      <td>Education</td>\n",
       "      <td>368</td>\n",
       "      <td>Rachel Renée Russell</td>\n",
       "      <td>en</td>\n",
       "      <td>['tales', 'smart', 'miss', 'know']</td>\n",
       "      <td>['nikki', 'maxwell', 'authors', 'advice', 'col...</td>\n",
       "      <td>-0.008807</td>\n",
       "      <td>0.450042</td>\n",
       "      <td>['education']</td>\n",
       "      <td>education tales smart miss know nikki maxwell ...</td>\n",
       "    </tr>\n",
       "    <tr>\n",
       "      <th>2</th>\n",
       "      <td>https://www.goodreads.com/book/show/21899546-l...</td>\n",
       "      <td>Love, in English</td>\n",
       "      <td>https://i.gr-assets.com/images/S/compressed.ph...</td>\n",
       "      <td>He’s thirty-eight. I’m twenty-three.He speaks ...</td>\n",
       "      <td>4.07</td>\n",
       "      <td>15358</td>\n",
       "      <td>2024</td>\n",
       "      <td>Romance</td>\n",
       "      <td>439</td>\n",
       "      <td>Karina Halle</td>\n",
       "      <td>en</td>\n",
       "      <td>['love', 'english']</td>\n",
       "      <td>['thirty', 'eight', 'twenty', 'three', 'speaks...</td>\n",
       "      <td>0.175129</td>\n",
       "      <td>0.475090</td>\n",
       "      <td>['romance']</td>\n",
       "      <td>romance love english thirty eight twenty three...</td>\n",
       "    </tr>\n",
       "    <tr>\n",
       "      <th>3</th>\n",
       "      <td>https://www.goodreads.com/book/show/31328891-s...</td>\n",
       "      <td>Stuck in the Game</td>\n",
       "      <td>https://i.gr-assets.com/images/S/compressed.ph...</td>\n",
       "      <td>After a terrible car accident puts seventeen-y...</td>\n",
       "      <td>3.84</td>\n",
       "      <td>277</td>\n",
       "      <td>59</td>\n",
       "      <td>Fantasy</td>\n",
       "      <td>226</td>\n",
       "      <td>Christopher Keene</td>\n",
       "      <td>en</td>\n",
       "      <td>['stuck', 'game']</td>\n",
       "      <td>['terrible', 'car', 'accident', 'puts', 'seven...</td>\n",
       "      <td>-0.151667</td>\n",
       "      <td>0.438819</td>\n",
       "      <td>['fantasy']</td>\n",
       "      <td>fantasy stuck game terrible car accident puts ...</td>\n",
       "    </tr>\n",
       "    <tr>\n",
       "      <th>4</th>\n",
       "      <td>https://www.goodreads.com/book/show/10507293-t...</td>\n",
       "      <td>The Selection</td>\n",
       "      <td>https://i.gr-assets.com/images/S/compressed.ph...</td>\n",
       "      <td>For thirty-five girls, the Selection is the ch...</td>\n",
       "      <td>4.12</td>\n",
       "      <td>1004868</td>\n",
       "      <td>53737</td>\n",
       "      <td>Young Adult</td>\n",
       "      <td>336</td>\n",
       "      <td>Kiera Cass</td>\n",
       "      <td>en</td>\n",
       "      <td>['selection']</td>\n",
       "      <td>['thirty', 'five', 'girls', 'selection', 'chan...</td>\n",
       "      <td>0.126263</td>\n",
       "      <td>0.573148</td>\n",
       "      <td>['youngadult']</td>\n",
       "      <td>youngadult selection thirty five girls selecti...</td>\n",
       "    </tr>\n",
       "  </tbody>\n",
       "</table>\n",
       "</div>"
      ],
      "text/plain": [
       "                                                 url  \\\n",
       "0  https://www.goodreads.com/book/show/25743.The_...   \n",
       "1  https://www.goodreads.com/book/show/13547289-t...   \n",
       "2  https://www.goodreads.com/book/show/21899546-l...   \n",
       "3  https://www.goodreads.com/book/show/31328891-s...   \n",
       "4  https://www.goodreads.com/book/show/10507293-t...   \n",
       "\n",
       "                                    bookTitle  \\\n",
       "0                                   The Slave   \n",
       "1  Tales from a Not-So-Smart Miss Know-It-All   \n",
       "2                            Love, in English   \n",
       "3                           Stuck in the Game   \n",
       "4                               The Selection   \n",
       "\n",
       "                                           bookImage  \\\n",
       "0  https://i.gr-assets.com/images/S/compressed.ph...   \n",
       "1  https://i.gr-assets.com/images/S/compressed.ph...   \n",
       "2  https://i.gr-assets.com/images/S/compressed.ph...   \n",
       "3  https://i.gr-assets.com/images/S/compressed.ph...   \n",
       "4  https://i.gr-assets.com/images/S/compressed.ph...   \n",
       "\n",
       "                                            bookDesc  bookRating  ratingCount  \\\n",
       "0  Four years after the Chmielnicki massacres of ...        4.19         2886   \n",
       "1  Nikki Maxwell authors an advice column for the...        4.39        25705   \n",
       "2  He’s thirty-eight. I’m twenty-three.He speaks ...        4.07        15358   \n",
       "3  After a terrible car accident puts seventeen-y...        3.84          277   \n",
       "4  For thirty-five girls, the Selection is the ch...        4.12      1004868   \n",
       "\n",
       "   reviewCount        Genre  pageCount                 Author lang  \\\n",
       "0          259      Fiction        320  Isaac Bashevis Singer   en   \n",
       "1          806    Education        368   Rachel Renée Russell   en   \n",
       "2         2024      Romance        439           Karina Halle   en   \n",
       "3           59      Fantasy        226      Christopher Keene   en   \n",
       "4        53737  Young Adult        336             Kiera Cass   en   \n",
       "\n",
       "                      title_key_words  \\\n",
       "0                           ['slave']   \n",
       "1  ['tales', 'smart', 'miss', 'know']   \n",
       "2                 ['love', 'english']   \n",
       "3                   ['stuck', 'game']   \n",
       "4                       ['selection']   \n",
       "\n",
       "                                      clean_keywords  sentiment_polarity  \\\n",
       "0  ['four', 'years', 'chmielnicki', 'massacres', ...            0.042338   \n",
       "1  ['nikki', 'maxwell', 'authors', 'advice', 'col...           -0.008807   \n",
       "2  ['thirty', 'eight', 'twenty', 'three', 'speaks...            0.175129   \n",
       "3  ['terrible', 'car', 'accident', 'puts', 'seven...           -0.151667   \n",
       "4  ['thirty', 'five', 'girls', 'selection', 'chan...            0.126263   \n",
       "\n",
       "   sentiment_subjectivity       genre_bag  \\\n",
       "0                0.341429     ['fiction']   \n",
       "1                0.450042   ['education']   \n",
       "2                0.475090     ['romance']   \n",
       "3                0.438819     ['fantasy']   \n",
       "4                0.573148  ['youngadult']   \n",
       "\n",
       "                                        bag_of_words  \n",
       "0  fiction slave four years chmielnicki massacres...  \n",
       "1  education tales smart miss know nikki maxwell ...  \n",
       "2  romance love english thirty eight twenty three...  \n",
       "3  fantasy stuck game terrible car accident puts ...  \n",
       "4  youngadult selection thirty five girls selecti...  "
      ]
     },
     "execution_count": 110,
     "metadata": {},
     "output_type": "execute_result"
    }
   ],
   "source": [
    "df = pd.read_csv(\"../data/goodreads_final_bagowords.csv\")\n",
    "df.head()"
   ]
  },
  {
   "cell_type": "code",
   "execution_count": null,
   "id": "185f7187",
   "metadata": {},
   "outputs": [],
   "source": []
  },
  {
   "cell_type": "markdown",
   "id": "3713db80",
   "metadata": {},
   "source": [
    "## EDA"
   ]
  },
  {
   "cell_type": "code",
   "execution_count": 111,
   "id": "10a49307",
   "metadata": {},
   "outputs": [
    {
     "name": "stdout",
     "output_type": "stream",
     "text": [
      "<class 'pandas.core.frame.DataFrame'>\n",
      "RangeIndex: 5000 entries, 0 to 4999\n",
      "Data columns (total 17 columns):\n",
      " #   Column                  Non-Null Count  Dtype  \n",
      "---  ------                  --------------  -----  \n",
      " 0   url                     5000 non-null   object \n",
      " 1   bookTitle               5000 non-null   object \n",
      " 2   bookImage               5000 non-null   object \n",
      " 3   bookDesc                5000 non-null   object \n",
      " 4   bookRating              5000 non-null   float64\n",
      " 5   ratingCount             5000 non-null   int64  \n",
      " 6   reviewCount             5000 non-null   int64  \n",
      " 7   Genre                   5000 non-null   object \n",
      " 8   pageCount               5000 non-null   int64  \n",
      " 9   Author                  5000 non-null   object \n",
      " 10  lang                    5000 non-null   object \n",
      " 11  title_key_words         5000 non-null   object \n",
      " 12  clean_keywords          5000 non-null   object \n",
      " 13  sentiment_polarity      5000 non-null   float64\n",
      " 14  sentiment_subjectivity  5000 non-null   float64\n",
      " 15  genre_bag               5000 non-null   object \n",
      " 16  bag_of_words            5000 non-null   object \n",
      "dtypes: float64(3), int64(3), object(11)\n",
      "memory usage: 664.2+ KB\n"
     ]
    }
   ],
   "source": [
    "df.info()"
   ]
  },
  {
   "cell_type": "code",
   "execution_count": 112,
   "id": "2742ede6",
   "metadata": {},
   "outputs": [
    {
     "data": {
      "text/plain": [
       "5000"
      ]
     },
     "execution_count": 112,
     "metadata": {},
     "output_type": "execute_result"
    }
   ],
   "source": [
    "df[\"bookTitle\"].nunique()"
   ]
  },
  {
   "cell_type": "code",
   "execution_count": 113,
   "id": "7effbf0a",
   "metadata": {
    "scrolled": true
   },
   "outputs": [
    {
     "data": {
      "text/plain": [
       "2667"
      ]
     },
     "execution_count": 113,
     "metadata": {},
     "output_type": "execute_result"
    }
   ],
   "source": [
    "df[\"Author\"].nunique()"
   ]
  },
  {
   "cell_type": "code",
   "execution_count": 114,
   "id": "61acc51f",
   "metadata": {},
   "outputs": [
    {
     "data": {
      "text/plain": [
       "46"
      ]
     },
     "execution_count": 114,
     "metadata": {},
     "output_type": "execute_result"
    }
   ],
   "source": [
    "df[\"Genre\"].nunique()"
   ]
  },
  {
   "cell_type": "markdown",
   "id": "44ad1d14",
   "metadata": {},
   "source": [
    "## Count Vectorizer"
   ]
  },
  {
   "cell_type": "code",
   "execution_count": 115,
   "id": "3a8560fc",
   "metadata": {},
   "outputs": [
    {
     "name": "stdout",
     "output_type": "stream",
     "text": [
      "[[1.         0.         0.06437828 ... 0.04651303 0.01560216 0.02575131]\n",
      " [0.         1.         0.02417547 ... 0.01455556 0.0146474  0.07252642]\n",
      " [0.06437828 0.02417547 1.         ... 0.10380685 0.04178472 0.06896552]\n",
      " ...\n",
      " [0.04651303 0.01455556 0.10380685 ... 1.         0.02515773 0.06228411]\n",
      " [0.01560216 0.0146474  0.04178472 ... 0.02515773 1.         0.08356943]\n",
      " [0.02575131 0.07252642 0.06896552 ... 0.06228411 0.08356943 1.        ]]\n"
     ]
    }
   ],
   "source": [
    "#CountVectorizer model\n",
    "count = CountVectorizer()\n",
    "count_matrix = count.fit_transform(df['bag_of_words'])\n",
    "\n",
    "cosine_sim = cosine_similarity(count_matrix, count_matrix)\n",
    "print(cosine_sim)\n",
    "\n",
    "indices = pd.Series(df['bookTitle'])"
   ]
  },
  {
   "cell_type": "code",
   "execution_count": 116,
   "id": "3c2b89c3",
   "metadata": {},
   "outputs": [
    {
     "data": {
      "text/plain": [
       "array([[0, 0, 0, ..., 0, 0, 0],\n",
       "       [0, 0, 0, ..., 0, 0, 0],\n",
       "       [0, 0, 0, ..., 0, 0, 0],\n",
       "       ...,\n",
       "       [0, 0, 0, ..., 0, 0, 0],\n",
       "       [0, 0, 0, ..., 0, 0, 0],\n",
       "       [0, 0, 0, ..., 0, 0, 0]])"
      ]
     },
     "execution_count": 116,
     "metadata": {},
     "output_type": "execute_result"
    }
   ],
   "source": [
    "test = count_matrix.toarray()\n",
    "test\n"
   ]
  },
  {
   "cell_type": "code",
   "execution_count": 117,
   "id": "756bd784",
   "metadata": {},
   "outputs": [
    {
     "data": {
      "text/plain": [
       "35863"
      ]
     },
     "execution_count": 117,
     "metadata": {},
     "output_type": "execute_result"
    }
   ],
   "source": [
    "len(test[0])"
   ]
  },
  {
   "cell_type": "code",
   "execution_count": 118,
   "id": "4a218bab",
   "metadata": {},
   "outputs": [
    {
     "data": {
      "text/plain": [
       "50"
      ]
     },
     "execution_count": 118,
     "metadata": {},
     "output_type": "execute_result"
    }
   ],
   "source": [
    "sum(test[0])"
   ]
  },
  {
   "cell_type": "code",
   "execution_count": null,
   "id": "e4924008",
   "metadata": {},
   "outputs": [],
   "source": []
  },
  {
   "cell_type": "code",
   "execution_count": 119,
   "id": "dc813ab5",
   "metadata": {},
   "outputs": [],
   "source": [
    "def recommend(bookTitle, cosine_sim = cosine_sim):\n",
    "    recommended_book = []\n",
    "    idx = indices[indices == bookTitle].index[0]\n",
    "    score_series = pd.Series(cosine_sim[idx]).sort_values(ascending = False)\n",
    "    top_10_indices = list(score_series.iloc[1:11].index)\n",
    "    \n",
    "    for i in top_10_indices:\n",
    "        recommended_book.append(list(df['bookTitle'])[i])\n",
    "        \n",
    "    return recommended_book"
   ]
  },
  {
   "cell_type": "code",
   "execution_count": 120,
   "id": "2c57ac36",
   "metadata": {},
   "outputs": [
    {
     "data": {
      "text/plain": [
       "['Go Set a Watchman',\n",
       " 'Lady of Hay',\n",
       " 'Our Town',\n",
       " 'The Grapes of Wrath',\n",
       " 'Manchild in the Promised Land',\n",
       " 'Jimmy Corrigan: The Smartest Kid on Earth',\n",
       " 'The Gift of the Magi',\n",
       " 'Jennie Gerhardt',\n",
       " 'Stellaluna',\n",
       " 'Lila']"
      ]
     },
     "execution_count": 120,
     "metadata": {},
     "output_type": "execute_result"
    }
   ],
   "source": [
    "recommend('To Kill a Mockingbird')"
   ]
  },
  {
   "cell_type": "markdown",
   "id": "e74c925c",
   "metadata": {},
   "source": [
    "## TF- IDF"
   ]
  },
  {
   "cell_type": "code",
   "execution_count": 121,
   "id": "234f16b0",
   "metadata": {},
   "outputs": [
    {
     "data": {
      "text/html": [
       "<div>\n",
       "<style scoped>\n",
       "    .dataframe tbody tr th:only-of-type {\n",
       "        vertical-align: middle;\n",
       "    }\n",
       "\n",
       "    .dataframe tbody tr th {\n",
       "        vertical-align: top;\n",
       "    }\n",
       "\n",
       "    .dataframe thead th {\n",
       "        text-align: right;\n",
       "    }\n",
       "</style>\n",
       "<table border=\"1\" class=\"dataframe\">\n",
       "  <thead>\n",
       "    <tr style=\"text-align: right;\">\n",
       "      <th></th>\n",
       "      <th>url</th>\n",
       "      <th>bookTitle</th>\n",
       "      <th>bookImage</th>\n",
       "      <th>bookDesc</th>\n",
       "      <th>bookRating</th>\n",
       "      <th>ratingCount</th>\n",
       "      <th>reviewCount</th>\n",
       "      <th>Genre</th>\n",
       "      <th>pageCount</th>\n",
       "      <th>Author</th>\n",
       "      <th>lang</th>\n",
       "      <th>title_key_words</th>\n",
       "      <th>clean_keywords</th>\n",
       "      <th>sentiment_polarity</th>\n",
       "      <th>sentiment_subjectivity</th>\n",
       "      <th>genre_bag</th>\n",
       "      <th>bag_of_words</th>\n",
       "    </tr>\n",
       "  </thead>\n",
       "  <tbody>\n",
       "    <tr>\n",
       "      <th>0</th>\n",
       "      <td>https://www.goodreads.com/book/show/25743.The_...</td>\n",
       "      <td>The Slave</td>\n",
       "      <td>https://i.gr-assets.com/images/S/compressed.ph...</td>\n",
       "      <td>Four years after the Chmielnicki massacres of ...</td>\n",
       "      <td>4.19</td>\n",
       "      <td>2886</td>\n",
       "      <td>259</td>\n",
       "      <td>Fiction</td>\n",
       "      <td>320</td>\n",
       "      <td>Isaac Bashevis Singer</td>\n",
       "      <td>en</td>\n",
       "      <td>['slave']</td>\n",
       "      <td>['four', 'years', 'chmielnicki', 'massacres', ...</td>\n",
       "      <td>0.042338</td>\n",
       "      <td>0.341429</td>\n",
       "      <td>['fiction']</td>\n",
       "      <td>fiction slave four years chmielnicki massacres...</td>\n",
       "    </tr>\n",
       "    <tr>\n",
       "      <th>1</th>\n",
       "      <td>https://www.goodreads.com/book/show/13547289-t...</td>\n",
       "      <td>Tales from a Not-So-Smart Miss Know-It-All</td>\n",
       "      <td>https://i.gr-assets.com/images/S/compressed.ph...</td>\n",
       "      <td>Nikki Maxwell authors an advice column for the...</td>\n",
       "      <td>4.39</td>\n",
       "      <td>25705</td>\n",
       "      <td>806</td>\n",
       "      <td>Education</td>\n",
       "      <td>368</td>\n",
       "      <td>Rachel Renée Russell</td>\n",
       "      <td>en</td>\n",
       "      <td>['tales', 'smart', 'miss', 'know']</td>\n",
       "      <td>['nikki', 'maxwell', 'authors', 'advice', 'col...</td>\n",
       "      <td>-0.008807</td>\n",
       "      <td>0.450042</td>\n",
       "      <td>['education']</td>\n",
       "      <td>education tales smart miss know nikki maxwell ...</td>\n",
       "    </tr>\n",
       "    <tr>\n",
       "      <th>2</th>\n",
       "      <td>https://www.goodreads.com/book/show/21899546-l...</td>\n",
       "      <td>Love, in English</td>\n",
       "      <td>https://i.gr-assets.com/images/S/compressed.ph...</td>\n",
       "      <td>He’s thirty-eight. I’m twenty-three.He speaks ...</td>\n",
       "      <td>4.07</td>\n",
       "      <td>15358</td>\n",
       "      <td>2024</td>\n",
       "      <td>Romance</td>\n",
       "      <td>439</td>\n",
       "      <td>Karina Halle</td>\n",
       "      <td>en</td>\n",
       "      <td>['love', 'english']</td>\n",
       "      <td>['thirty', 'eight', 'twenty', 'three', 'speaks...</td>\n",
       "      <td>0.175129</td>\n",
       "      <td>0.475090</td>\n",
       "      <td>['romance']</td>\n",
       "      <td>romance love english thirty eight twenty three...</td>\n",
       "    </tr>\n",
       "    <tr>\n",
       "      <th>3</th>\n",
       "      <td>https://www.goodreads.com/book/show/31328891-s...</td>\n",
       "      <td>Stuck in the Game</td>\n",
       "      <td>https://i.gr-assets.com/images/S/compressed.ph...</td>\n",
       "      <td>After a terrible car accident puts seventeen-y...</td>\n",
       "      <td>3.84</td>\n",
       "      <td>277</td>\n",
       "      <td>59</td>\n",
       "      <td>Fantasy</td>\n",
       "      <td>226</td>\n",
       "      <td>Christopher Keene</td>\n",
       "      <td>en</td>\n",
       "      <td>['stuck', 'game']</td>\n",
       "      <td>['terrible', 'car', 'accident', 'puts', 'seven...</td>\n",
       "      <td>-0.151667</td>\n",
       "      <td>0.438819</td>\n",
       "      <td>['fantasy']</td>\n",
       "      <td>fantasy stuck game terrible car accident puts ...</td>\n",
       "    </tr>\n",
       "    <tr>\n",
       "      <th>4</th>\n",
       "      <td>https://www.goodreads.com/book/show/10507293-t...</td>\n",
       "      <td>The Selection</td>\n",
       "      <td>https://i.gr-assets.com/images/S/compressed.ph...</td>\n",
       "      <td>For thirty-five girls, the Selection is the ch...</td>\n",
       "      <td>4.12</td>\n",
       "      <td>1004868</td>\n",
       "      <td>53737</td>\n",
       "      <td>Young Adult</td>\n",
       "      <td>336</td>\n",
       "      <td>Kiera Cass</td>\n",
       "      <td>en</td>\n",
       "      <td>['selection']</td>\n",
       "      <td>['thirty', 'five', 'girls', 'selection', 'chan...</td>\n",
       "      <td>0.126263</td>\n",
       "      <td>0.573148</td>\n",
       "      <td>['youngadult']</td>\n",
       "      <td>youngadult selection thirty five girls selecti...</td>\n",
       "    </tr>\n",
       "  </tbody>\n",
       "</table>\n",
       "</div>"
      ],
      "text/plain": [
       "                                                 url  \\\n",
       "0  https://www.goodreads.com/book/show/25743.The_...   \n",
       "1  https://www.goodreads.com/book/show/13547289-t...   \n",
       "2  https://www.goodreads.com/book/show/21899546-l...   \n",
       "3  https://www.goodreads.com/book/show/31328891-s...   \n",
       "4  https://www.goodreads.com/book/show/10507293-t...   \n",
       "\n",
       "                                    bookTitle  \\\n",
       "0                                   The Slave   \n",
       "1  Tales from a Not-So-Smart Miss Know-It-All   \n",
       "2                            Love, in English   \n",
       "3                           Stuck in the Game   \n",
       "4                               The Selection   \n",
       "\n",
       "                                           bookImage  \\\n",
       "0  https://i.gr-assets.com/images/S/compressed.ph...   \n",
       "1  https://i.gr-assets.com/images/S/compressed.ph...   \n",
       "2  https://i.gr-assets.com/images/S/compressed.ph...   \n",
       "3  https://i.gr-assets.com/images/S/compressed.ph...   \n",
       "4  https://i.gr-assets.com/images/S/compressed.ph...   \n",
       "\n",
       "                                            bookDesc  bookRating  ratingCount  \\\n",
       "0  Four years after the Chmielnicki massacres of ...        4.19         2886   \n",
       "1  Nikki Maxwell authors an advice column for the...        4.39        25705   \n",
       "2  He’s thirty-eight. I’m twenty-three.He speaks ...        4.07        15358   \n",
       "3  After a terrible car accident puts seventeen-y...        3.84          277   \n",
       "4  For thirty-five girls, the Selection is the ch...        4.12      1004868   \n",
       "\n",
       "   reviewCount        Genre  pageCount                 Author lang  \\\n",
       "0          259      Fiction        320  Isaac Bashevis Singer   en   \n",
       "1          806    Education        368   Rachel Renée Russell   en   \n",
       "2         2024      Romance        439           Karina Halle   en   \n",
       "3           59      Fantasy        226      Christopher Keene   en   \n",
       "4        53737  Young Adult        336             Kiera Cass   en   \n",
       "\n",
       "                      title_key_words  \\\n",
       "0                           ['slave']   \n",
       "1  ['tales', 'smart', 'miss', 'know']   \n",
       "2                 ['love', 'english']   \n",
       "3                   ['stuck', 'game']   \n",
       "4                       ['selection']   \n",
       "\n",
       "                                      clean_keywords  sentiment_polarity  \\\n",
       "0  ['four', 'years', 'chmielnicki', 'massacres', ...            0.042338   \n",
       "1  ['nikki', 'maxwell', 'authors', 'advice', 'col...           -0.008807   \n",
       "2  ['thirty', 'eight', 'twenty', 'three', 'speaks...            0.175129   \n",
       "3  ['terrible', 'car', 'accident', 'puts', 'seven...           -0.151667   \n",
       "4  ['thirty', 'five', 'girls', 'selection', 'chan...            0.126263   \n",
       "\n",
       "   sentiment_subjectivity       genre_bag  \\\n",
       "0                0.341429     ['fiction']   \n",
       "1                0.450042   ['education']   \n",
       "2                0.475090     ['romance']   \n",
       "3                0.438819     ['fantasy']   \n",
       "4                0.573148  ['youngadult']   \n",
       "\n",
       "                                        bag_of_words  \n",
       "0  fiction slave four years chmielnicki massacres...  \n",
       "1  education tales smart miss know nikki maxwell ...  \n",
       "2  romance love english thirty eight twenty three...  \n",
       "3  fantasy stuck game terrible car accident puts ...  \n",
       "4  youngadult selection thirty five girls selecti...  "
      ]
     },
     "execution_count": 121,
     "metadata": {},
     "output_type": "execute_result"
    }
   ],
   "source": [
    "df.head()"
   ]
  },
  {
   "cell_type": "code",
   "execution_count": null,
   "id": "eb2a86dd",
   "metadata": {},
   "outputs": [],
   "source": []
  },
  {
   "cell_type": "code",
   "execution_count": 144,
   "id": "89fec9b6",
   "metadata": {},
   "outputs": [
    {
     "name": "stderr",
     "output_type": "stream",
     "text": [
      "/opt/anaconda3/lib/python3.9/site-packages/sklearn/utils/validation.py:727: FutureWarning: np.matrix usage is deprecated in 1.0 and will raise a TypeError in 1.2. Please convert to a numpy array with np.asarray. For more information see: https://numpy.org/doc/stable/reference/generated/numpy.matrix.html\n",
      "  warnings.warn(\n"
     ]
    },
    {
     "name": "stdout",
     "output_type": "stream",
     "text": [
      "[[1.         0.         0.01775768 ... 0.01067395 0.00316837 0.00516183]\n",
      " [0.         1.         0.00189812 ... 0.00523048 0.         0.02012759]\n",
      " [0.01775768 0.00189812 1.         ... 0.03741114 0.01171437 0.0072037 ]\n",
      " ...\n",
      " [0.01067395 0.00523048 0.03741114 ... 1.         0.01380771 0.0256078 ]\n",
      " [0.00316837 0.         0.01171437 ... 0.01380771 1.         0.02645521]\n",
      " [0.00516183 0.02012759 0.0072037  ... 0.0256078  0.02645521 1.        ]]\n"
     ]
    }
   ],
   "source": [
    "#https://practicaldatascience.co.uk/data-science/how-to-create-content-recommendations-using-tf-idf\n",
    "#bag of words is already made, but this will also down-weight common words that appear across documents\n",
    "tfidf = TfidfVectorizer(stop_words='english',smooth_idf=True)\n",
    "\n",
    "# numbers to calculate similarities\n",
    "tfidf_matrix = tfidf.fit_transform(df['bag_of_words']).todense()\n",
    "\n",
    "#calculate cosine matrix\n",
    "cosine_similarities = cosine_similarity(tfidf_matrix, tfidf_matrix)\n",
    "print(cosine_similarities)\n",
    "\n",
    "indices = pd.Series(df['bookTitle'])"
   ]
  },
  {
   "cell_type": "code",
   "execution_count": 145,
   "id": "786b828b",
   "metadata": {},
   "outputs": [],
   "source": [
    "#get recommendations based on tf-idf and cosine_similarities\n",
    "\n",
    "def recommend_tf(bookTitle, cosine_similarities = cosine_similarities):\n",
    "    \n",
    "    recommended_book = []\n",
    "    recommended_book_url = []\n",
    "    recommended_book_image= []\n",
    "    recommended_book_author = []\n",
    "    recommended_book_rating =[]\n",
    "    recommended_book_descrip =[]\n",
    "    recommended_book_genre =[]\n",
    "    recommended_book_score = []\n",
    "    \n",
    "    idx = indices[indices == bookTitle].index[0]\n",
    "    \n",
    "    score_series = pd.Series(cosine_similarities[idx]).sort_values(ascending = False)\n",
    "    \n",
    "    top_10_indices = list(score_series.iloc[1:11].index)\n",
    "    \n",
    "    for i in top_10_indices:\n",
    "        recommended_book.append(list(df['bookTitle'])[i])\n",
    "        recommended_book_url.append(list(df['url'])[i])\n",
    "        recommended_book_image.append(list(df['bookImage'])[i])\n",
    "        recommended_book_author.append(list(df['Author'])[i])\n",
    "        recommended_book_rating.append(list(df['bookRating'])[i])\n",
    "        recommended_book_descrip.append(list(df['bookDesc'])[i])\n",
    "        recommended_book_genre.append(list(df['Genre'])[i])\n",
    "        recommended_book_score.append(score_series[i])\n",
    "\n",
    "    data = {'Title': recommended_book,\n",
    "           'Author': recommended_book_author,\n",
    "            'Genre': recommended_book_genre,\n",
    "            'Description' : recommended_book_descrip,\n",
    "            'Rating':recommended_book_rating,\n",
    "            'URL': recommended_book_url,\n",
    "            'Image': recommended_book_image,\n",
    "            'Score': recommended_book_score\n",
    "           }\n",
    "    rec_df = pd.DataFrame(data)\n",
    "    \n",
    "    return rec_df"
   ]
  },
  {
   "cell_type": "code",
   "execution_count": 146,
   "id": "b00d0e67",
   "metadata": {},
   "outputs": [
    {
     "data": {
      "text/html": [
       "<div>\n",
       "<style scoped>\n",
       "    .dataframe tbody tr th:only-of-type {\n",
       "        vertical-align: middle;\n",
       "    }\n",
       "\n",
       "    .dataframe tbody tr th {\n",
       "        vertical-align: top;\n",
       "    }\n",
       "\n",
       "    .dataframe thead th {\n",
       "        text-align: right;\n",
       "    }\n",
       "</style>\n",
       "<table border=\"1\" class=\"dataframe\">\n",
       "  <thead>\n",
       "    <tr style=\"text-align: right;\">\n",
       "      <th></th>\n",
       "      <th>Title</th>\n",
       "      <th>Author</th>\n",
       "      <th>Genre</th>\n",
       "      <th>Description</th>\n",
       "      <th>Rating</th>\n",
       "      <th>URL</th>\n",
       "      <th>Image</th>\n",
       "      <th>Score</th>\n",
       "    </tr>\n",
       "  </thead>\n",
       "  <tbody>\n",
       "    <tr>\n",
       "      <th>0</th>\n",
       "      <td>Twilight Watch</td>\n",
       "      <td>Sergei Lukyanenko</td>\n",
       "      <td>Fantasy</td>\n",
       "      <td>The third book in the bestselling Russian tril...</td>\n",
       "      <td>4.12</td>\n",
       "      <td>https://www.goodreads.com/book/show/104159.Twi...</td>\n",
       "      <td>https://i.gr-assets.com/images/S/compressed.ph...</td>\n",
       "      <td>0.243253</td>\n",
       "    </tr>\n",
       "    <tr>\n",
       "      <th>1</th>\n",
       "      <td>The Twilight Saga: The Official Illustrated Guide</td>\n",
       "      <td>Stephenie Meyer</td>\n",
       "      <td>Young Adult</td>\n",
       "      <td>Fans of the #1 New York Times bestselling Twil...</td>\n",
       "      <td>4.25</td>\n",
       "      <td>https://www.goodreads.com/book/show/3609763-th...</td>\n",
       "      <td>https://i.gr-assets.com/images/S/compressed.ph...</td>\n",
       "      <td>0.144089</td>\n",
       "    </tr>\n",
       "    <tr>\n",
       "      <th>2</th>\n",
       "      <td>Breaking Dawn</td>\n",
       "      <td>Stephenie Meyer</td>\n",
       "      <td>Young Adult</td>\n",
       "      <td>\"Don't be afraid,\" I murmured. \"We belong toge...</td>\n",
       "      <td>3.70</td>\n",
       "      <td>https://www.goodreads.com/book/show/1162543.Br...</td>\n",
       "      <td>https://i.gr-assets.com/images/S/compressed.ph...</td>\n",
       "      <td>0.126752</td>\n",
       "    </tr>\n",
       "    <tr>\n",
       "      <th>3</th>\n",
       "      <td>A Book About Absolutely Nothing.</td>\n",
       "      <td>I.M. Nobody</td>\n",
       "      <td>Nonfiction</td>\n",
       "      <td>A book about absolutely nothing at all. A nove...</td>\n",
       "      <td>4.29</td>\n",
       "      <td>https://www.goodreads.com/book/show/17287259-a...</td>\n",
       "      <td>https://i.gr-assets.com/images/S/compressed.ph...</td>\n",
       "      <td>0.125874</td>\n",
       "    </tr>\n",
       "    <tr>\n",
       "      <th>4</th>\n",
       "      <td>The Twilight Saga Breaking Dawn Part 1: The Of...</td>\n",
       "      <td>Mark Cotta Vaz</td>\n",
       "      <td>Fantasy</td>\n",
       "      <td>A companion to the film, illustrated with full...</td>\n",
       "      <td>4.28</td>\n",
       "      <td>https://www.goodreads.com/book/show/11260526-t...</td>\n",
       "      <td>https://i.gr-assets.com/images/S/compressed.ph...</td>\n",
       "      <td>0.120109</td>\n",
       "    </tr>\n",
       "    <tr>\n",
       "      <th>5</th>\n",
       "      <td>Twilight: The Graphic Novel, Vol. 1</td>\n",
       "      <td>Young Kim</td>\n",
       "      <td>Sequential Art-Graphic Novels</td>\n",
       "      <td>When Isabella Swan moves to the gloomy town of...</td>\n",
       "      <td>3.86</td>\n",
       "      <td>https://www.goodreads.com/book/show/7619292-tw...</td>\n",
       "      <td>https://i.gr-assets.com/images/S/compressed.ph...</td>\n",
       "      <td>0.114458</td>\n",
       "    </tr>\n",
       "    <tr>\n",
       "      <th>6</th>\n",
       "      <td>Twilight Director's Notebook: The Story of How...</td>\n",
       "      <td>Catherine Hardwicke</td>\n",
       "      <td>Nonfiction</td>\n",
       "      <td>A personal, behind-the-scenes look at the maki...</td>\n",
       "      <td>4.26</td>\n",
       "      <td>https://www.goodreads.com/book/show/6202690-tw...</td>\n",
       "      <td>https://i.gr-assets.com/images/S/compressed.ph...</td>\n",
       "      <td>0.112433</td>\n",
       "    </tr>\n",
       "    <tr>\n",
       "      <th>7</th>\n",
       "      <td>New Moon</td>\n",
       "      <td>Stephenie Meyer</td>\n",
       "      <td>Young Adult</td>\n",
       "      <td>There is an alternate cover edition for ISBN13...</td>\n",
       "      <td>3.55</td>\n",
       "      <td>https://www.goodreads.com/book/show/49041.New_...</td>\n",
       "      <td>https://i.gr-assets.com/images/S/compressed.ph...</td>\n",
       "      <td>0.109535</td>\n",
       "    </tr>\n",
       "    <tr>\n",
       "      <th>8</th>\n",
       "      <td>Eclipse</td>\n",
       "      <td>Stephenie Meyer</td>\n",
       "      <td>Young Adult</td>\n",
       "      <td>\"BELLA?\"Edward's soft voice came from behind m...</td>\n",
       "      <td>3.70</td>\n",
       "      <td>https://www.goodreads.com/book/show/428263.Ecl...</td>\n",
       "      <td>https://i.gr-assets.com/images/S/compressed.ph...</td>\n",
       "      <td>0.104372</td>\n",
       "    </tr>\n",
       "    <tr>\n",
       "      <th>9</th>\n",
       "      <td>The Short Second Life of Bree Tanner</td>\n",
       "      <td>Stephenie Meyer</td>\n",
       "      <td>Young Adult</td>\n",
       "      <td>FANS OF THE TWILIGHT SAGA WILL BE ENTHRALLED B...</td>\n",
       "      <td>3.51</td>\n",
       "      <td>https://www.goodreads.com/book/show/7937462-th...</td>\n",
       "      <td>https://i.gr-assets.com/images/S/compressed.ph...</td>\n",
       "      <td>0.102120</td>\n",
       "    </tr>\n",
       "  </tbody>\n",
       "</table>\n",
       "</div>"
      ],
      "text/plain": [
       "                                               Title               Author  \\\n",
       "0                                     Twilight Watch    Sergei Lukyanenko   \n",
       "1  The Twilight Saga: The Official Illustrated Guide      Stephenie Meyer   \n",
       "2                                      Breaking Dawn      Stephenie Meyer   \n",
       "3                   A Book About Absolutely Nothing.          I.M. Nobody   \n",
       "4  The Twilight Saga Breaking Dawn Part 1: The Of...       Mark Cotta Vaz   \n",
       "5                Twilight: The Graphic Novel, Vol. 1            Young Kim   \n",
       "6  Twilight Director's Notebook: The Story of How...  Catherine Hardwicke   \n",
       "7                                           New Moon      Stephenie Meyer   \n",
       "8                                            Eclipse      Stephenie Meyer   \n",
       "9               The Short Second Life of Bree Tanner      Stephenie Meyer   \n",
       "\n",
       "                           Genre  \\\n",
       "0                        Fantasy   \n",
       "1                    Young Adult   \n",
       "2                    Young Adult   \n",
       "3                     Nonfiction   \n",
       "4                        Fantasy   \n",
       "5  Sequential Art-Graphic Novels   \n",
       "6                     Nonfiction   \n",
       "7                    Young Adult   \n",
       "8                    Young Adult   \n",
       "9                    Young Adult   \n",
       "\n",
       "                                         Description  Rating  \\\n",
       "0  The third book in the bestselling Russian tril...    4.12   \n",
       "1  Fans of the #1 New York Times bestselling Twil...    4.25   \n",
       "2  \"Don't be afraid,\" I murmured. \"We belong toge...    3.70   \n",
       "3  A book about absolutely nothing at all. A nove...    4.29   \n",
       "4  A companion to the film, illustrated with full...    4.28   \n",
       "5  When Isabella Swan moves to the gloomy town of...    3.86   \n",
       "6  A personal, behind-the-scenes look at the maki...    4.26   \n",
       "7  There is an alternate cover edition for ISBN13...    3.55   \n",
       "8  \"BELLA?\"Edward's soft voice came from behind m...    3.70   \n",
       "9  FANS OF THE TWILIGHT SAGA WILL BE ENTHRALLED B...    3.51   \n",
       "\n",
       "                                                 URL  \\\n",
       "0  https://www.goodreads.com/book/show/104159.Twi...   \n",
       "1  https://www.goodreads.com/book/show/3609763-th...   \n",
       "2  https://www.goodreads.com/book/show/1162543.Br...   \n",
       "3  https://www.goodreads.com/book/show/17287259-a...   \n",
       "4  https://www.goodreads.com/book/show/11260526-t...   \n",
       "5  https://www.goodreads.com/book/show/7619292-tw...   \n",
       "6  https://www.goodreads.com/book/show/6202690-tw...   \n",
       "7  https://www.goodreads.com/book/show/49041.New_...   \n",
       "8  https://www.goodreads.com/book/show/428263.Ecl...   \n",
       "9  https://www.goodreads.com/book/show/7937462-th...   \n",
       "\n",
       "                                               Image     Score  \n",
       "0  https://i.gr-assets.com/images/S/compressed.ph...  0.243253  \n",
       "1  https://i.gr-assets.com/images/S/compressed.ph...  0.144089  \n",
       "2  https://i.gr-assets.com/images/S/compressed.ph...  0.126752  \n",
       "3  https://i.gr-assets.com/images/S/compressed.ph...  0.125874  \n",
       "4  https://i.gr-assets.com/images/S/compressed.ph...  0.120109  \n",
       "5  https://i.gr-assets.com/images/S/compressed.ph...  0.114458  \n",
       "6  https://i.gr-assets.com/images/S/compressed.ph...  0.112433  \n",
       "7  https://i.gr-assets.com/images/S/compressed.ph...  0.109535  \n",
       "8  https://i.gr-assets.com/images/S/compressed.ph...  0.104372  \n",
       "9  https://i.gr-assets.com/images/S/compressed.ph...  0.102120  "
      ]
     },
     "execution_count": 146,
     "metadata": {},
     "output_type": "execute_result"
    }
   ],
   "source": [
    "recommend_tf('Twilight')"
   ]
  },
  {
   "cell_type": "code",
   "execution_count": null,
   "id": "3671080f",
   "metadata": {},
   "outputs": [],
   "source": []
  },
  {
   "cell_type": "markdown",
   "id": "2531c7a7",
   "metadata": {},
   "source": [
    "## Process Model for flask app"
   ]
  },
  {
   "cell_type": "code",
   "execution_count": 125,
   "id": "3c8e88d9",
   "metadata": {},
   "outputs": [],
   "source": [
    "import pandas as pd\n",
    "import numpy as np"
   ]
  },
  {
   "cell_type": "code",
   "execution_count": 147,
   "id": "780fdf52",
   "metadata": {},
   "outputs": [
    {
     "name": "stderr",
     "output_type": "stream",
     "text": [
      "/opt/anaconda3/lib/python3.9/site-packages/sklearn/utils/validation.py:727: FutureWarning: np.matrix usage is deprecated in 1.0 and will raise a TypeError in 1.2. Please convert to a numpy array with np.asarray. For more information see: https://numpy.org/doc/stable/reference/generated/numpy.matrix.html\n",
      "  warnings.warn(\n"
     ]
    }
   ],
   "source": [
    "#code that stays consistent\n",
    "df = pd.read_csv(\"../data/goodreads_final_bagowords.csv\")\n",
    "\n",
    "tfidf = TfidfVectorizer(stop_words='english',smooth_idf=True)\n",
    "tfidf_matrix = tfidf.fit_transform(df['bag_of_words']).todense()\n",
    "cosine_similarities = cosine_similarity(tfidf_matrix, tfidf_matrix)\n",
    "\n",
    "#make into dataframe\n",
    "#df_data = pd.DataFrame(cosine_similarities).reset_index()\n",
    "\n",
    "#string columns names required for parquet file\n",
    "#df_data.columns = df_data.columns.astype(str)\n",
    "#df_data.info()"
   ]
  },
  {
   "cell_type": "code",
   "execution_count": 151,
   "id": "294e3ecf",
   "metadata": {},
   "outputs": [
    {
     "data": {
      "text/plain": [
       "numpy.ndarray"
      ]
     },
     "execution_count": 151,
     "metadata": {},
     "output_type": "execute_result"
    }
   ],
   "source": [
    "#cosine_similarities is a numpy.ndarray\n",
    "type(cosine_similarities)"
   ]
  },
  {
   "cell_type": "code",
   "execution_count": 152,
   "id": "44b8ce93",
   "metadata": {},
   "outputs": [],
   "source": [
    "np.save(\"../data/goodreads_cos_data.npy\", cosine_similarities)"
   ]
  },
  {
   "cell_type": "code",
   "execution_count": 153,
   "id": "24e25938",
   "metadata": {},
   "outputs": [],
   "source": [
    "arr1 = np.load(\"../data/goodreads_cos_data.npy\")"
   ]
  },
  {
   "cell_type": "code",
   "execution_count": 154,
   "id": "b4b47aa9",
   "metadata": {},
   "outputs": [
    {
     "name": "stdout",
     "output_type": "stream",
     "text": [
      "[[1.         0.         0.01775768 ... 0.01067395 0.00316837 0.00516183]\n",
      " [0.         1.         0.00189812 ... 0.00523048 0.         0.02012759]\n",
      " [0.01775768 0.00189812 1.         ... 0.03741114 0.01171437 0.0072037 ]\n",
      " [0.03369792 0.         0.0207065  ... 0.03100543 0.00838452 0.        ]\n",
      " [0.02281578 0.         0.03191378 ... 0.02690124 0.00308163 0.01410507]]\n"
     ]
    }
   ],
   "source": [
    "print(arr1[0:5])"
   ]
  },
  {
   "cell_type": "code",
   "execution_count": 155,
   "id": "5f8e5d44",
   "metadata": {},
   "outputs": [],
   "source": [
    "import s3fs"
   ]
  },
  {
   "cell_type": "code",
   "execution_count": 156,
   "id": "29046df7",
   "metadata": {},
   "outputs": [],
   "source": [
    "s3 = s3fs.S3FileSystem(anon=True)"
   ]
  },
  {
   "cell_type": "code",
   "execution_count": 158,
   "id": "9450f835",
   "metadata": {},
   "outputs": [
    {
     "ename": "KeyboardInterrupt",
     "evalue": "",
     "output_type": "error",
     "traceback": [
      "\u001b[0;31m---------------------------------------------------------------------------\u001b[0m",
      "\u001b[0;31mKeyboardInterrupt\u001b[0m                         Traceback (most recent call last)",
      "\u001b[0;32m/var/folders/93/69nrl93d0k36xslv9kn84gcc0000gn/T/ipykernel_93108/3928720036.py\u001b[0m in \u001b[0;36m<module>\u001b[0;34m\u001b[0m\n\u001b[0;32m----> 1\u001b[0;31m \u001b[0marr1\u001b[0m\u001b[0;34m=\u001b[0m \u001b[0mnp\u001b[0m\u001b[0;34m.\u001b[0m\u001b[0mload\u001b[0m\u001b[0;34m(\u001b[0m\u001b[0ms3\u001b[0m\u001b[0;34m.\u001b[0m\u001b[0mopen\u001b[0m\u001b[0;34m(\u001b[0m\u001b[0;34m\"book-rec-nlp/goodreads_cos_data.npy\"\u001b[0m\u001b[0;34m)\u001b[0m\u001b[0;34m)\u001b[0m\u001b[0;34m\u001b[0m\u001b[0;34m\u001b[0m\u001b[0m\n\u001b[0m",
      "\u001b[0;32m/opt/anaconda3/lib/python3.9/site-packages/numpy/lib/npyio.py\u001b[0m in \u001b[0;36mload\u001b[0;34m(file, mmap_mode, allow_pickle, fix_imports, encoding)\u001b[0m\n\u001b[1;32m    438\u001b[0m                 \u001b[0;32mreturn\u001b[0m \u001b[0mformat\u001b[0m\u001b[0;34m.\u001b[0m\u001b[0mopen_memmap\u001b[0m\u001b[0;34m(\u001b[0m\u001b[0mfile\u001b[0m\u001b[0;34m,\u001b[0m \u001b[0mmode\u001b[0m\u001b[0;34m=\u001b[0m\u001b[0mmmap_mode\u001b[0m\u001b[0;34m)\u001b[0m\u001b[0;34m\u001b[0m\u001b[0;34m\u001b[0m\u001b[0m\n\u001b[1;32m    439\u001b[0m             \u001b[0;32melse\u001b[0m\u001b[0;34m:\u001b[0m\u001b[0;34m\u001b[0m\u001b[0;34m\u001b[0m\u001b[0m\n\u001b[0;32m--> 440\u001b[0;31m                 return format.read_array(fid, allow_pickle=allow_pickle,\n\u001b[0m\u001b[1;32m    441\u001b[0m                                          pickle_kwargs=pickle_kwargs)\n\u001b[1;32m    442\u001b[0m         \u001b[0;32melse\u001b[0m\u001b[0;34m:\u001b[0m\u001b[0;34m\u001b[0m\u001b[0;34m\u001b[0m\u001b[0m\n",
      "\u001b[0;32m/opt/anaconda3/lib/python3.9/site-packages/numpy/lib/format.py\u001b[0m in \u001b[0;36mread_array\u001b[0;34m(fp, allow_pickle, pickle_kwargs)\u001b[0m\n\u001b[1;32m    773\u001b[0m                     \u001b[0mread_count\u001b[0m \u001b[0;34m=\u001b[0m \u001b[0mmin\u001b[0m\u001b[0;34m(\u001b[0m\u001b[0mmax_read_count\u001b[0m\u001b[0;34m,\u001b[0m \u001b[0mcount\u001b[0m \u001b[0;34m-\u001b[0m \u001b[0mi\u001b[0m\u001b[0;34m)\u001b[0m\u001b[0;34m\u001b[0m\u001b[0;34m\u001b[0m\u001b[0m\n\u001b[1;32m    774\u001b[0m                     \u001b[0mread_size\u001b[0m \u001b[0;34m=\u001b[0m \u001b[0mint\u001b[0m\u001b[0;34m(\u001b[0m\u001b[0mread_count\u001b[0m \u001b[0;34m*\u001b[0m \u001b[0mdtype\u001b[0m\u001b[0;34m.\u001b[0m\u001b[0mitemsize\u001b[0m\u001b[0;34m)\u001b[0m\u001b[0;34m\u001b[0m\u001b[0;34m\u001b[0m\u001b[0m\n\u001b[0;32m--> 775\u001b[0;31m                     \u001b[0mdata\u001b[0m \u001b[0;34m=\u001b[0m \u001b[0m_read_bytes\u001b[0m\u001b[0;34m(\u001b[0m\u001b[0mfp\u001b[0m\u001b[0;34m,\u001b[0m \u001b[0mread_size\u001b[0m\u001b[0;34m,\u001b[0m \u001b[0;34m\"array data\"\u001b[0m\u001b[0;34m)\u001b[0m\u001b[0;34m\u001b[0m\u001b[0;34m\u001b[0m\u001b[0m\n\u001b[0m\u001b[1;32m    776\u001b[0m                     array[i:i+read_count] = numpy.frombuffer(data, dtype=dtype,\n\u001b[1;32m    777\u001b[0m                                                              count=read_count)\n",
      "\u001b[0;32m/opt/anaconda3/lib/python3.9/site-packages/numpy/lib/format.py\u001b[0m in \u001b[0;36m_read_bytes\u001b[0;34m(fp, size, error_template)\u001b[0m\n\u001b[1;32m    902\u001b[0m         \u001b[0;31m# done about that.  note that regular files can't be non-blocking\u001b[0m\u001b[0;34m\u001b[0m\u001b[0;34m\u001b[0m\u001b[0m\n\u001b[1;32m    903\u001b[0m         \u001b[0;32mtry\u001b[0m\u001b[0;34m:\u001b[0m\u001b[0;34m\u001b[0m\u001b[0;34m\u001b[0m\u001b[0m\n\u001b[0;32m--> 904\u001b[0;31m             \u001b[0mr\u001b[0m \u001b[0;34m=\u001b[0m \u001b[0mfp\u001b[0m\u001b[0;34m.\u001b[0m\u001b[0mread\u001b[0m\u001b[0;34m(\u001b[0m\u001b[0msize\u001b[0m \u001b[0;34m-\u001b[0m \u001b[0mlen\u001b[0m\u001b[0;34m(\u001b[0m\u001b[0mdata\u001b[0m\u001b[0;34m)\u001b[0m\u001b[0;34m)\u001b[0m\u001b[0;34m\u001b[0m\u001b[0;34m\u001b[0m\u001b[0m\n\u001b[0m\u001b[1;32m    905\u001b[0m             \u001b[0mdata\u001b[0m \u001b[0;34m+=\u001b[0m \u001b[0mr\u001b[0m\u001b[0;34m\u001b[0m\u001b[0;34m\u001b[0m\u001b[0m\n\u001b[1;32m    906\u001b[0m             \u001b[0;32mif\u001b[0m \u001b[0mlen\u001b[0m\u001b[0;34m(\u001b[0m\u001b[0mr\u001b[0m\u001b[0;34m)\u001b[0m \u001b[0;34m==\u001b[0m \u001b[0;36m0\u001b[0m \u001b[0;32mor\u001b[0m \u001b[0mlen\u001b[0m\u001b[0;34m(\u001b[0m\u001b[0mdata\u001b[0m\u001b[0;34m)\u001b[0m \u001b[0;34m==\u001b[0m \u001b[0msize\u001b[0m\u001b[0;34m:\u001b[0m\u001b[0;34m\u001b[0m\u001b[0;34m\u001b[0m\u001b[0m\n",
      "\u001b[0;32m/opt/anaconda3/lib/python3.9/site-packages/fsspec/spec.py\u001b[0m in \u001b[0;36mread\u001b[0;34m(self, length)\u001b[0m\n\u001b[1;32m   1576\u001b[0m             \u001b[0;31m# don't even bother calling fetch\u001b[0m\u001b[0;34m\u001b[0m\u001b[0;34m\u001b[0m\u001b[0m\n\u001b[1;32m   1577\u001b[0m             \u001b[0;32mreturn\u001b[0m \u001b[0;34mb\"\"\u001b[0m\u001b[0;34m\u001b[0m\u001b[0;34m\u001b[0m\u001b[0m\n\u001b[0;32m-> 1578\u001b[0;31m         \u001b[0mout\u001b[0m \u001b[0;34m=\u001b[0m \u001b[0mself\u001b[0m\u001b[0;34m.\u001b[0m\u001b[0mcache\u001b[0m\u001b[0;34m.\u001b[0m\u001b[0m_fetch\u001b[0m\u001b[0;34m(\u001b[0m\u001b[0mself\u001b[0m\u001b[0;34m.\u001b[0m\u001b[0mloc\u001b[0m\u001b[0;34m,\u001b[0m \u001b[0mself\u001b[0m\u001b[0;34m.\u001b[0m\u001b[0mloc\u001b[0m \u001b[0;34m+\u001b[0m \u001b[0mlength\u001b[0m\u001b[0;34m)\u001b[0m\u001b[0;34m\u001b[0m\u001b[0;34m\u001b[0m\u001b[0m\n\u001b[0m\u001b[1;32m   1579\u001b[0m         \u001b[0mself\u001b[0m\u001b[0;34m.\u001b[0m\u001b[0mloc\u001b[0m \u001b[0;34m+=\u001b[0m \u001b[0mlen\u001b[0m\u001b[0;34m(\u001b[0m\u001b[0mout\u001b[0m\u001b[0;34m)\u001b[0m\u001b[0;34m\u001b[0m\u001b[0;34m\u001b[0m\u001b[0m\n\u001b[1;32m   1580\u001b[0m         \u001b[0;32mreturn\u001b[0m \u001b[0mout\u001b[0m\u001b[0;34m\u001b[0m\u001b[0;34m\u001b[0m\u001b[0m\n",
      "\u001b[0;32m/opt/anaconda3/lib/python3.9/site-packages/fsspec/caching.py\u001b[0m in \u001b[0;36m_fetch\u001b[0;34m(self, start, end)\u001b[0m\n\u001b[1;32m    392\u001b[0m                 \u001b[0mself\u001b[0m\u001b[0;34m.\u001b[0m\u001b[0mstart\u001b[0m \u001b[0;34m=\u001b[0m \u001b[0mstart\u001b[0m\u001b[0;34m\u001b[0m\u001b[0;34m\u001b[0m\u001b[0m\n\u001b[1;32m    393\u001b[0m             \u001b[0;32melse\u001b[0m\u001b[0;34m:\u001b[0m\u001b[0;34m\u001b[0m\u001b[0;34m\u001b[0m\u001b[0m\n\u001b[0;32m--> 394\u001b[0;31m                 \u001b[0mnew\u001b[0m \u001b[0;34m=\u001b[0m \u001b[0mself\u001b[0m\u001b[0;34m.\u001b[0m\u001b[0mfetcher\u001b[0m\u001b[0;34m(\u001b[0m\u001b[0mself\u001b[0m\u001b[0;34m.\u001b[0m\u001b[0mend\u001b[0m\u001b[0;34m,\u001b[0m \u001b[0mbend\u001b[0m\u001b[0;34m)\u001b[0m\u001b[0;34m\u001b[0m\u001b[0;34m\u001b[0m\u001b[0m\n\u001b[0m\u001b[1;32m    395\u001b[0m                 \u001b[0mself\u001b[0m\u001b[0;34m.\u001b[0m\u001b[0mcache\u001b[0m \u001b[0;34m=\u001b[0m \u001b[0mself\u001b[0m\u001b[0;34m.\u001b[0m\u001b[0mcache\u001b[0m \u001b[0;34m+\u001b[0m \u001b[0mnew\u001b[0m\u001b[0;34m\u001b[0m\u001b[0;34m\u001b[0m\u001b[0m\n\u001b[1;32m    396\u001b[0m \u001b[0;34m\u001b[0m\u001b[0m\n",
      "\u001b[0;32m/opt/anaconda3/lib/python3.9/site-packages/s3fs/core.py\u001b[0m in \u001b[0;36m_fetch_range\u001b[0;34m(self, start, end)\u001b[0m\n\u001b[1;32m   2028\u001b[0m     \u001b[0;32mdef\u001b[0m \u001b[0m_fetch_range\u001b[0m\u001b[0;34m(\u001b[0m\u001b[0mself\u001b[0m\u001b[0;34m,\u001b[0m \u001b[0mstart\u001b[0m\u001b[0;34m,\u001b[0m \u001b[0mend\u001b[0m\u001b[0;34m)\u001b[0m\u001b[0;34m:\u001b[0m\u001b[0;34m\u001b[0m\u001b[0;34m\u001b[0m\u001b[0m\n\u001b[1;32m   2029\u001b[0m         \u001b[0;32mtry\u001b[0m\u001b[0;34m:\u001b[0m\u001b[0;34m\u001b[0m\u001b[0;34m\u001b[0m\u001b[0m\n\u001b[0;32m-> 2030\u001b[0;31m             return _fetch_range(\n\u001b[0m\u001b[1;32m   2031\u001b[0m                 \u001b[0mself\u001b[0m\u001b[0;34m.\u001b[0m\u001b[0mfs\u001b[0m\u001b[0;34m,\u001b[0m\u001b[0;34m\u001b[0m\u001b[0;34m\u001b[0m\u001b[0m\n\u001b[1;32m   2032\u001b[0m                 \u001b[0mself\u001b[0m\u001b[0;34m.\u001b[0m\u001b[0mbucket\u001b[0m\u001b[0;34m,\u001b[0m\u001b[0;34m\u001b[0m\u001b[0;34m\u001b[0m\u001b[0m\n",
      "\u001b[0;32m/opt/anaconda3/lib/python3.9/site-packages/s3fs/core.py\u001b[0m in \u001b[0;36m_fetch_range\u001b[0;34m(fs, bucket, key, version_id, start, end, req_kw)\u001b[0m\n\u001b[1;32m   2179\u001b[0m         \u001b[0;34m**\u001b[0m\u001b[0mreq_kw\u001b[0m\u001b[0;34m,\u001b[0m\u001b[0;34m\u001b[0m\u001b[0;34m\u001b[0m\u001b[0m\n\u001b[1;32m   2180\u001b[0m     )\n\u001b[0;32m-> 2181\u001b[0;31m     \u001b[0;32mreturn\u001b[0m \u001b[0msync\u001b[0m\u001b[0;34m(\u001b[0m\u001b[0mfs\u001b[0m\u001b[0;34m.\u001b[0m\u001b[0mloop\u001b[0m\u001b[0;34m,\u001b[0m \u001b[0mresp\u001b[0m\u001b[0;34m[\u001b[0m\u001b[0;34m\"Body\"\u001b[0m\u001b[0;34m]\u001b[0m\u001b[0;34m.\u001b[0m\u001b[0mread\u001b[0m\u001b[0;34m)\u001b[0m\u001b[0;34m\u001b[0m\u001b[0;34m\u001b[0m\u001b[0m\n\u001b[0m",
      "\u001b[0;32m/opt/anaconda3/lib/python3.9/site-packages/fsspec/asyn.py\u001b[0m in \u001b[0;36msync\u001b[0;34m(loop, func, timeout, *args, **kwargs)\u001b[0m\n\u001b[1;32m     52\u001b[0m     \u001b[0;32mwhile\u001b[0m \u001b[0;32mTrue\u001b[0m\u001b[0;34m:\u001b[0m\u001b[0;34m\u001b[0m\u001b[0;34m\u001b[0m\u001b[0m\n\u001b[1;32m     53\u001b[0m         \u001b[0;31m# this loops allows thread to get interrupted\u001b[0m\u001b[0;34m\u001b[0m\u001b[0;34m\u001b[0m\u001b[0m\n\u001b[0;32m---> 54\u001b[0;31m         \u001b[0;32mif\u001b[0m \u001b[0mevent\u001b[0m\u001b[0;34m.\u001b[0m\u001b[0mwait\u001b[0m\u001b[0;34m(\u001b[0m\u001b[0;36m1\u001b[0m\u001b[0;34m)\u001b[0m\u001b[0;34m:\u001b[0m\u001b[0;34m\u001b[0m\u001b[0;34m\u001b[0m\u001b[0m\n\u001b[0m\u001b[1;32m     55\u001b[0m             \u001b[0;32mbreak\u001b[0m\u001b[0;34m\u001b[0m\u001b[0;34m\u001b[0m\u001b[0m\n\u001b[1;32m     56\u001b[0m         \u001b[0;32mif\u001b[0m \u001b[0mtimeout\u001b[0m \u001b[0;32mis\u001b[0m \u001b[0;32mnot\u001b[0m \u001b[0;32mNone\u001b[0m\u001b[0;34m:\u001b[0m\u001b[0;34m\u001b[0m\u001b[0;34m\u001b[0m\u001b[0m\n",
      "\u001b[0;32m/opt/anaconda3/lib/python3.9/threading.py\u001b[0m in \u001b[0;36mwait\u001b[0;34m(self, timeout)\u001b[0m\n\u001b[1;32m    572\u001b[0m             \u001b[0msignaled\u001b[0m \u001b[0;34m=\u001b[0m \u001b[0mself\u001b[0m\u001b[0;34m.\u001b[0m\u001b[0m_flag\u001b[0m\u001b[0;34m\u001b[0m\u001b[0;34m\u001b[0m\u001b[0m\n\u001b[1;32m    573\u001b[0m             \u001b[0;32mif\u001b[0m \u001b[0;32mnot\u001b[0m \u001b[0msignaled\u001b[0m\u001b[0;34m:\u001b[0m\u001b[0;34m\u001b[0m\u001b[0;34m\u001b[0m\u001b[0m\n\u001b[0;32m--> 574\u001b[0;31m                 \u001b[0msignaled\u001b[0m \u001b[0;34m=\u001b[0m \u001b[0mself\u001b[0m\u001b[0;34m.\u001b[0m\u001b[0m_cond\u001b[0m\u001b[0;34m.\u001b[0m\u001b[0mwait\u001b[0m\u001b[0;34m(\u001b[0m\u001b[0mtimeout\u001b[0m\u001b[0;34m)\u001b[0m\u001b[0;34m\u001b[0m\u001b[0;34m\u001b[0m\u001b[0m\n\u001b[0m\u001b[1;32m    575\u001b[0m             \u001b[0;32mreturn\u001b[0m \u001b[0msignaled\u001b[0m\u001b[0;34m\u001b[0m\u001b[0;34m\u001b[0m\u001b[0m\n\u001b[1;32m    576\u001b[0m \u001b[0;34m\u001b[0m\u001b[0m\n",
      "\u001b[0;32m/opt/anaconda3/lib/python3.9/threading.py\u001b[0m in \u001b[0;36mwait\u001b[0;34m(self, timeout)\u001b[0m\n\u001b[1;32m    314\u001b[0m             \u001b[0;32melse\u001b[0m\u001b[0;34m:\u001b[0m\u001b[0;34m\u001b[0m\u001b[0;34m\u001b[0m\u001b[0m\n\u001b[1;32m    315\u001b[0m                 \u001b[0;32mif\u001b[0m \u001b[0mtimeout\u001b[0m \u001b[0;34m>\u001b[0m \u001b[0;36m0\u001b[0m\u001b[0;34m:\u001b[0m\u001b[0;34m\u001b[0m\u001b[0;34m\u001b[0m\u001b[0m\n\u001b[0;32m--> 316\u001b[0;31m                     \u001b[0mgotit\u001b[0m \u001b[0;34m=\u001b[0m \u001b[0mwaiter\u001b[0m\u001b[0;34m.\u001b[0m\u001b[0macquire\u001b[0m\u001b[0;34m(\u001b[0m\u001b[0;32mTrue\u001b[0m\u001b[0;34m,\u001b[0m \u001b[0mtimeout\u001b[0m\u001b[0;34m)\u001b[0m\u001b[0;34m\u001b[0m\u001b[0;34m\u001b[0m\u001b[0m\n\u001b[0m\u001b[1;32m    317\u001b[0m                 \u001b[0;32melse\u001b[0m\u001b[0;34m:\u001b[0m\u001b[0;34m\u001b[0m\u001b[0;34m\u001b[0m\u001b[0m\n\u001b[1;32m    318\u001b[0m                     \u001b[0mgotit\u001b[0m \u001b[0;34m=\u001b[0m \u001b[0mwaiter\u001b[0m\u001b[0;34m.\u001b[0m\u001b[0macquire\u001b[0m\u001b[0;34m(\u001b[0m\u001b[0;32mFalse\u001b[0m\u001b[0;34m)\u001b[0m\u001b[0;34m\u001b[0m\u001b[0;34m\u001b[0m\u001b[0m\n",
      "\u001b[0;31mKeyboardInterrupt\u001b[0m: "
     ]
    }
   ],
   "source": [
    "arr1= np.load(s3.open(\"book-rec-nlp/goodreads_cos_data.npy\"))"
   ]
  },
  {
   "cell_type": "code",
   "execution_count": null,
   "id": "166d44f7",
   "metadata": {},
   "outputs": [],
   "source": [
    "print(arr1[0:5])"
   ]
  },
  {
   "cell_type": "code",
   "execution_count": null,
   "id": "8f3d6343",
   "metadata": {},
   "outputs": [],
   "source": [
    "#import boto3\n",
    "#import io\n",
    "#from botocore import UNSIGNED\n",
    "#from botocore.client import Config"
   ]
  },
  {
   "cell_type": "code",
   "execution_count": null,
   "id": "6e3d8ac5",
   "metadata": {},
   "outputs": [],
   "source": [
    "#s3client = boto3.client('s3', region_name='us-east-1', config=Config(signature_version=UNSIGNED))\n"
   ]
  },
  {
   "cell_type": "code",
   "execution_count": null,
   "id": "d210add0",
   "metadata": {},
   "outputs": [],
   "source": [
    "\n",
    "#with io.BytesIO(s3client.get_object(Bucket=\"book-rec-nlp\", Key=\"goodreads_cos_data.npy\")[\"Body\"].read()) as f:\n",
    "   # f.seek(0)  # rewind the file\n",
    "    #arr1 = np.load(f)"
   ]
  },
  {
   "cell_type": "code",
   "execution_count": null,
   "id": "2f3d2f6d",
   "metadata": {},
   "outputs": [],
   "source": [
    "#print(arr1[0:5])"
   ]
  },
  {
   "cell_type": "code",
   "execution_count": null,
   "id": "efb8bbe0",
   "metadata": {},
   "outputs": [],
   "source": []
  },
  {
   "cell_type": "code",
   "execution_count": null,
   "id": "ee475887",
   "metadata": {},
   "outputs": [],
   "source": [
    "\n",
    "\n",
    "#variable\n",
    "bookTitle = 'Twilight'\n",
    "\n",
    "\n",
    "#variable reliant code\n",
    "indices = pd.Series(df['bookTitle'])\n",
    "\n",
    "recommended_book = []\n",
    "recommended_book_url = []\n",
    "recommended_book_image= []\n",
    "recommended_book_author = []\n",
    "recommended_book_rating =[]\n",
    "recommended_book_descrip =[]\n",
    "recommended_book_genre =[]\n",
    "recommended_book_score =[]\n",
    "\n",
    "idx = indices[indices == bookTitle].index[0]\n",
    "\n",
    "score_series = pd.Series(cosine_similarities[idx]).sort_values(ascending = False)\n",
    "\n",
    "top_10_indices = list(score_series.iloc[1:11].index)\n",
    "\n",
    "for i in top_10_indices:\n",
    "    recommended_book.append(list(df['bookTitle'])[i])\n",
    "    recommended_book_url.append(list(df['url'])[i])\n",
    "    recommended_book_image.append(list(df['bookImage'])[i])\n",
    "    recommended_book_author.append(list(df['Author'])[i])\n",
    "    recommended_book_rating.append(list(df['bookRating'])[i])\n",
    "    recommended_book_descrip.append(list(df['bookDesc'])[i])\n",
    "    recommended_book_genre.append(list(df['Genre'])[i])\n",
    "    recommended_book_score.append(score_series[i])\n",
    "\n",
    "data = {'Title': recommended_book,\n",
    "       'Author': recommended_book_author,\n",
    "        'Genre': recommended_book_genre,\n",
    "        'Description' : recommended_book_descrip,\n",
    "        'Rating':recommended_book_rating,\n",
    "        'URL': recommended_book_url,\n",
    "        'Image': recommended_book_image,\n",
    "        'Score': recommended_book_score\n",
    "       }\n",
    "rec_df = pd.DataFrame(data)\n",
    "rec_df"
   ]
  },
  {
   "cell_type": "code",
   "execution_count": 140,
   "id": "700a1fdc",
   "metadata": {},
   "outputs": [
    {
     "data": {
      "text/plain": [
       "4998"
      ]
     },
     "execution_count": 140,
     "metadata": {},
     "output_type": "execute_result"
    }
   ],
   "source": [
    "#explore variables\n",
    "idx"
   ]
  },
  {
   "cell_type": "code",
   "execution_count": 141,
   "id": "88f827e0",
   "metadata": {},
   "outputs": [
    {
     "data": {
      "text/plain": [
       "4998    1.000000\n",
       "4483    0.200545\n",
       "937     0.122968\n",
       "2876    0.108974\n",
       "3844    0.100820\n",
       "          ...   \n",
       "3561    0.000000\n",
       "4328    0.000000\n",
       "4329    0.000000\n",
       "3563    0.000000\n",
       "4346    0.000000\n",
       "Length: 5000, dtype: float64"
      ]
     },
     "execution_count": 141,
     "metadata": {},
     "output_type": "execute_result"
    }
   ],
   "source": [
    "score_series"
   ]
  },
  {
   "cell_type": "code",
   "execution_count": 142,
   "id": "486a662f",
   "metadata": {},
   "outputs": [
    {
     "data": {
      "text/plain": [
       "[4483, 937, 2876, 3844, 1816, 1902, 1872, 2142, 287, 2051]"
      ]
     },
     "execution_count": 142,
     "metadata": {},
     "output_type": "execute_result"
    }
   ],
   "source": [
    "top_10_indices"
   ]
  },
  {
   "cell_type": "code",
   "execution_count": 143,
   "id": "4025aa3e",
   "metadata": {},
   "outputs": [
    {
     "data": {
      "text/plain": [
       "RangeIndex(start=0, stop=8863, step=1)"
      ]
     },
     "execution_count": 143,
     "metadata": {},
     "output_type": "execute_result"
    }
   ],
   "source": [
    "df_data.index"
   ]
  },
  {
   "cell_type": "code",
   "execution_count": null,
   "id": "9a298a93",
   "metadata": {},
   "outputs": [],
   "source": []
  },
  {
   "cell_type": "code",
   "execution_count": null,
   "id": "e7948c98",
   "metadata": {},
   "outputs": [],
   "source": []
  },
  {
   "cell_type": "code",
   "execution_count": null,
   "id": "4536c89c",
   "metadata": {},
   "outputs": [],
   "source": []
  },
  {
   "cell_type": "code",
   "execution_count": null,
   "id": "7b38e2b2",
   "metadata": {},
   "outputs": [],
   "source": []
  },
  {
   "cell_type": "code",
   "execution_count": null,
   "id": "2e04a17b",
   "metadata": {},
   "outputs": [],
   "source": []
  }
 ],
 "metadata": {
  "kernelspec": {
   "display_name": "Python 3 (ipykernel)",
   "language": "python",
   "name": "python3"
  },
  "language_info": {
   "codemirror_mode": {
    "name": "ipython",
    "version": 3
   },
   "file_extension": ".py",
   "mimetype": "text/x-python",
   "name": "python",
   "nbconvert_exporter": "python",
   "pygments_lexer": "ipython3",
   "version": "3.9.7"
  }
 },
 "nbformat": 4,
 "nbformat_minor": 5
}
